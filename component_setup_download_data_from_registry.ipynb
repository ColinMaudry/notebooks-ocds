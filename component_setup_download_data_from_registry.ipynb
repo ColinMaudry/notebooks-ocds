{
  "nbformat": 4,
  "nbformat_minor": 0,
  "metadata": {
    "colab": {
      "provenance": [],
      "authorship_tag": "ABX9TyPdQMarMXECiVIE1jjH0pC2"
    },
    "kernelspec": {
      "name": "python3",
      "display_name": "Python 3"
    },
    "language_info": {
      "name": "python"
    }
  },
  "cells": [
    {
      "cell_type": "markdown",
      "source": [
        "## Setup download data from the Data Registry"
      ],
      "metadata": {
        "id": "vpPltvi1tjEs"
      }
    },
    {
      "cell_type": "code",
      "execution_count": null,
      "metadata": {
        "id": "CLc-_oJntg93"
      },
      "outputs": [],
      "source": [
        "# @title Data registry functions{ display-mode: \"form\" }\n",
        "import requests\n",
        "\n",
        "DATA_REGISTRY_BASE_URL = \"https://data.open-contracting.org/en/\"\n",
        "PUBLICATIONS_URL = f\"{DATA_REGISTRY_BASE_URL}publications.json\"\n",
        "\n",
        "\n",
        "def get_publications():\n",
        "    publications = requests.get(PUBLICATIONS_URL, timeout=10).json()\n",
        "    for publication in publications:\n",
        "        publication[\"label\"] = f\"{publication['country']} - {publication['title']}\"\n",
        "    return publications\n",
        "\n",
        "\n",
        "def get_publication_select_box():\n",
        "    return widgets.Dropdown(\n",
        "        options=sorted([entry[\"label\"] for entry in get_publications()]),\n",
        "        description=\"Publication:\",\n",
        "        disabled=False,\n",
        "    )\n",
        "\n",
        "\n",
        "def get_years_select_box(publication_select_box):\n",
        "    selected_publication = next(\n",
        "        filter(lambda entry: entry[\"label\"] == publication_select_box.value, get_publications())\n",
        "    )\n",
        "    year_from = int(selected_publication[\"date_from\"][:4])\n",
        "    year_to = int(selected_publication[\"date_to\"][:4])\n",
        "    years = list(range(year_from, year_to + 1))\n",
        "    years.append(\"full\")\n",
        "    return (\n",
        "        widgets.Dropdown(\n",
        "            options=years,\n",
        "            description=\"Year:\",\n",
        "            disabled=False,\n",
        "        ),\n",
        "        selected_publication,\n",
        "    )\n",
        "\n",
        "\n",
        "def download_file(selected_publication, selected_year):\n",
        "    file_name = \"\"\n",
        "    download_url = f'{DATA_REGISTRY_BASE_URL}{selected_publication[\"id\"]}/download?name={selected_year.value}.jsonl.gz'\n",
        "    ! curl -sSOJ \"$download_url\"\n",
        "    for file in os.listdir(\".\"):\n",
        "        if file.endswith(\".gz\"):\n",
        "            file_name = file.replace(\".gz\", \"\")\n",
        "            break\n",
        "    ! gunzip -f \"$file_name\"\n",
        "    ! echo \"$file_name downloaded\"\n",
        "    return file_name"
      ]
    }
  ]
}
