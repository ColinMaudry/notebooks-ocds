{
  "nbformat": 4,
  "nbformat_minor": 0,
  "metadata": {
    "colab": {
      "provenance": [],
      "toc_visible": true
    },
    "kernelspec": {
      "name": "python3",
      "display_name": "Python 3"
    }
  },
  "cells": [
    {
      "cell_type": "markdown",
      "source": [
        "## Calculate general statistics"
      ],
      "metadata": {
        "id": "tnSzwOTTRbgE"
      }
    },
    {
      "cell_type": "markdown",
      "source": [
        "Use this section to have an overview of the dataset in terms of fields published, stages covered and key summary statistics.  You can add any additional queries as needed.  "
      ],
      "metadata": {
        "id": "rjpK7uocUeW4"
      }
    },
    {
      "cell_type": "markdown",
      "source": [
        "###Fields published"
      ],
      "metadata": {
        "id": "7VRH7RmPRfBD"
      }
    },
    {
      "cell_type": "markdown",
      "source": [
        "Calculate the fields published"
      ],
      "metadata": {
        "id": "uVaXeoF7U6bV"
      }
    },
    {
      "cell_type": "code",
      "source": [
        "%%sql fields_table <<\n",
        "\n",
        "SELECT\n",
        "  path, distinct_releases\n",
        "FROM\n",
        "  field_counts\n",
        "WHERE\n",
        "  release_type='compiled_release'"
      ],
      "metadata": {
        "id": "6KgBNO1QUuL4"
      },
      "execution_count": null,
      "outputs": []
    },
    {
      "cell_type": "code",
      "source": [
        "fields_table"
      ],
      "metadata": {
        "id": "J7Eieoo9U8Ku"
      },
      "execution_count": null,
      "outputs": []
    },
    {
      "cell_type": "markdown",
      "source": [
        "Save fields table in spreadsheet:"
      ],
      "metadata": {
        "id": "Z-KSlo8Vb69M"
      }
    },
    {
      "cell_type": "code",
      "source": [
        "save_dataframe_to_sheet(fields_table, 'fields')"
      ],
      "metadata": {
        "id": "9CaaBbFLb6dl"
      },
      "execution_count": null,
      "outputs": []
    },
    {
      "cell_type": "markdown",
      "source": [
        "### Stages covered"
      ],
      "metadata": {
        "id": "shGR-DXCcDkx"
      }
    },
    {
      "cell_type": "code",
      "source": [
        "%%sql stages <<\n",
        "\n",
        "SELECT\n",
        "    CASE WHEN paths.path = 'contracts/implementation' THEN\n",
        "        'implementation'\n",
        "    ELSE\n",
        "        paths.path\n",
        "    END AS stage,\n",
        "    CASE WHEN paths.path IN ('planning', 'tender', 'contracts/implementation') THEN\n",
        "        GREATEST (object_property, 0)\n",
        "    ELSE\n",
        "        GREATEST (array_count, 0)\n",
        "    END AS object_count\n",
        "FROM (\n",
        "    SELECT\n",
        "        unnest(ARRAY['planning', 'tender', 'awards', 'contracts', 'contracts/implementation']) AS path) AS paths\n",
        "    LEFT JOIN (\n",
        "        SELECT\n",
        "            *\n",
        "        FROM\n",
        "            field_counts\n",
        "        WHERE\n",
        "            release_type = 'compiled_release'\n",
        "            AND path IN ('planning', 'tender', 'awards', 'contracts', 'contracts/implementation')) AS field_counts USING (path)\n",
        "\n"
      ],
      "metadata": {
        "id": "APMabfEPcPui"
      },
      "execution_count": null,
      "outputs": []
    },
    {
      "cell_type": "code",
      "source": [
        "stages"
      ],
      "metadata": {
        "id": "f40SbJg0cbvp"
      },
      "execution_count": null,
      "outputs": []
    },
    {
      "cell_type": "code",
      "source": [
        "import plotly.express as px\n",
        "\n",
        "fig = px.bar(stages, x='stage', y='object_count', title=\"Stages covered\",\n",
        "             template='plotly_white',\n",
        "             text='object_count',\n",
        "             labels={'stage': 'Stage',\n",
        "                     'object_count': 'Number of releases'})\n",
        "fig.update_traces(marker_color='#D6E100')\n",
        "fig.update_layout(width=400, height=350, bargap=0.5)\n",
        "fig.show()"
      ],
      "metadata": {
        "id": "zGNrN_occdW5"
      },
      "execution_count": null,
      "outputs": []
    },
    {
      "cell_type": "markdown",
      "source": [
        "### Number of tenders and awards by date"
      ],
      "metadata": {
        "id": "TbpO9Jc6c6wQ"
      }
    },
    {
      "cell_type": "code",
      "source": [
        "%%sql dates <<\n",
        "WITH tenders AS(\n",
        "  SELECT\n",
        "\t  EXTRACT(YEAR from tenderperiod_startdate) as year,\n",
        "\t  COUNT(*) AS tenders\n",
        "  FROM\n",
        "\t  tender_summary\n",
        "  WHERE\n",
        "    release_type='compiled_release'\n",
        "  GROUP BY\n",
        "\t  year\n",
        "  ORDER BY\n",
        "    year),\n",
        "\n",
        "awards AS(\n",
        "  SELECT\n",
        "\t\tEXTRACT(YEAR from date) as year,\n",
        "\t\tCOUNT(*) AS awards\n",
        "\tFROM\n",
        "\t\tawards_summary\n",
        "WHERE\n",
        "    release_type='compiled_release'\n",
        "\tGROUP BY\n",
        "\t\tyear\n",
        "\tORDER BY\n",
        "\t\tyear\n",
        ")\n",
        "\n",
        "SELECT\n",
        "  t.year,\n",
        "  tenders,\n",
        "  awards\n",
        "FROM\n",
        "  tenders t FULL JOIN awards a ON t.year=a.year\n"
      ],
      "metadata": {
        "id": "twYK088Dc79V"
      },
      "execution_count": null,
      "outputs": []
    },
    {
      "cell_type": "code",
      "source": [
        "dates"
      ],
      "metadata": {
        "id": "cPEHTK67Mp6P"
      },
      "execution_count": null,
      "outputs": []
    },
    {
      "cell_type": "code",
      "source": [
        "final=pd.melt(dates, id_vars=[\"year\"], value_vars=[\"tenders\", \"awards\"])\n",
        "fig = px.bar(final, x='year', y='value', color='variable', barmode=\"group\" ,\n",
        "             title=\"Tenders and awards by year\", template='plotly_white', text='value',\n",
        "\n",
        "             color_discrete_sequence=['#D6E100', '#6c75e1'],\n",
        "             labels ={\n",
        "                 'value': \"Tenders and awards\"\n",
        "             })\n",
        "fig.update_layout(width=600, height=350, bargap=0.5)\n",
        "\n",
        "fig.show()"
      ],
      "metadata": {
        "id": "ZFUPPW51dF4m"
      },
      "execution_count": null,
      "outputs": []
    },
    {
      "cell_type": "markdown",
      "source": [
        "### Procurement methods used"
      ],
      "metadata": {
        "id": "g5n8QT44dKT1"
      }
    },
    {
      "cell_type": "code",
      "source": [
        "%%sql\n",
        "\n",
        "SELECT\n",
        "  procurementmethod,\n",
        "  COUNT(DISTINCT (ocid)),\n",
        "  ROUND((count(*) * 100.0 / sum(count(*)) over()),1) AS proportion\n",
        "FROM\n",
        "  tender_summary\n",
        "WHERE\n",
        "  release_type='compiled_release'\n",
        "GROUP BY\n",
        "  procurementmethod\n",
        "ORDER BY\n",
        "  proportion DESC"
      ],
      "metadata": {
        "id": "zybYaAktdPeq"
      },
      "execution_count": null,
      "outputs": []
    },
    {
      "cell_type": "code",
      "source": [
        "%%sql\n",
        "\n",
        "SELECT\n",
        "  tender ->> 'procurementMethodDetails' as method,\n",
        "  COUNT(DISTINCT (ocid)),\n",
        "  ROUND((count(*) * 100.0 / sum(count(*)) over()),1) AS proportion\n",
        "FROM\n",
        "  tender_summary\n",
        "WHERE\n",
        "  release_type='compiled_release'\n",
        "GROUP BY\n",
        "  method\n",
        "ORDER BY\n",
        "  proportion DESC"
      ],
      "metadata": {
        "id": "9nGLJhu9dgyU"
      },
      "execution_count": null,
      "outputs": []
    },
    {
      "cell_type": "markdown",
      "source": [
        "### Number of procedures by buyer"
      ],
      "metadata": {
        "id": "_QlQDgw1hzdL"
      }
    },
    {
      "cell_type": "code",
      "source": [
        "%%sql buyers <<\n",
        "\n",
        "SELECT\n",
        "  party-> 'name' AS \"name\",\n",
        "  identifier as party_id,\n",
        "\tCOUNT(DISTINCT ocid) AS total_tenders\n",
        "FROM\n",
        "\tparties_summary\n",
        "WHERE\n",
        "  roles::text ilike '%%buyer%%'\n",
        "AND\n",
        "  release_type= 'compiled_release'\n",
        "GROUP BY\n",
        "\t\tidentifier,  \tparty-> 'name'\n",
        "ORDER BY\n",
        "\ttotal_tenders DESC"
      ],
      "metadata": {
        "id": "3V7AjxJXh17K"
      },
      "execution_count": null,
      "outputs": []
    },
    {
      "cell_type": "code",
      "source": [
        "buyers.head(10)"
      ],
      "metadata": {
        "id": "u-fpK7O-iEya"
      },
      "execution_count": null,
      "outputs": []
    },
    {
      "cell_type": "code",
      "source": [
        "fig = px.bar(buyers.head(10), y='name', x='total_tenders',\n",
        "              title=\"Top 10 buyers\", template='plotly_white',\n",
        "             text='total_tenders',\n",
        "             labels={'total_tenders': 'Number of procedures',\n",
        "                     'name': 'buyer'},\n",
        "             color_discrete_sequence=['#D6E100', '#6c75e1'], orientation='h')\n",
        "#fig.update_traces()\n",
        "fig.update_layout(width=850, height=450, bargap=0.4,\n",
        "yaxis={'categoryorder':'total ascending'})\n",
        "fig.show()"
      ],
      "metadata": {
        "id": "KmgHVCXaiCeG"
      },
      "execution_count": null,
      "outputs": []
    }
  ]
}