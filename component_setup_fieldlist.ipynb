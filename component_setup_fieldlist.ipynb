{
  "nbformat": 4,
  "nbformat_minor": 0,
  "metadata": {
    "colab": {
      "provenance": [],
      "toc_visible": true,
      "include_colab_link": true
    },
    "kernelspec": {
      "name": "python3",
      "display_name": "Python 3"
    }
  },
  "cells": [
    {
      "cell_type": "markdown",
      "source": [
        "## Setup field list"
      ],
      "metadata": {
        "id": "OO6GyDGyfKmp"
      }
    },
    {
      "cell_type": "markdown",
      "source": [
        "### Import data file"
      ],
      "metadata": {
        "id": "UtrG7k-HgSZ8"
      }
    },
    {
      "cell_type": "markdown",
      "source": [
        "To run this notebook, you need to have the list of fields that the publisher is intended to publish. You can get that list from their mapping template. We currently don't have an automatic way to extract the list from the template, so you must get this list manually.\n",
        "\n",
        "Upload an Excel file that includes the list of fields available in a column (no header).  Change the name of the file below. The list of fields must have the object/field_name format, for example `tender/id`."
      ],
      "metadata": {
        "id": "II0mATgefP8R"
      }
    },
    {
      "cell_type": "code",
      "source": [
        "file = 'ADD FILE'"
      ],
      "metadata": {
        "id": "LnELmZSngWT9"
      },
      "execution_count": null,
      "outputs": []
    },
    {
      "cell_type": "markdown",
      "source": [
        "Transform the file into a dataframe\n"
      ],
      "metadata": {
        "id": "0bcLPiPXgeJ-"
      }
    },
    {
      "cell_type": "code",
      "source": [
        "fields_table = pd.read_excel(file, header=None)\n",
        "fields_table"
      ],
      "metadata": {
        "id": "ajkXtOdFggt9"
      },
      "execution_count": null,
      "outputs": []
    },
    {
      "cell_type": "markdown",
      "source": [
        "Save fields table to a spreadsheet.  Save the spreadsheet in the relevant publisher folder."
      ],
      "metadata": {
        "id": "u4oAWVy5hc_P"
      }
    },
    {
      "cell_type": "code",
      "source": [
        "save_dataframe_to_sheet(fields_table, 'fields')"
      ],
      "metadata": {
        "id": "sUQBCO7zheuh"
      },
      "execution_count": null,
      "outputs": []
    }
  ]
}
