{
  "nbformat": 4,
  "nbformat_minor": 0,
  "metadata": {
    "colab": {
      "name": "check_data_quality",
      "provenance": [],
      "toc_visible": true,
      "authorship_tag": "ABX9TyNZO6vygoheu5aVA+ye1bdv"
    },
    "kernelspec": {
      "name": "python3",
      "display_name": "Python 3"
    },
    "language_info": {
      "name": "python"
    }
  },
  "cells": [
    {
      "cell_type": "markdown",
      "metadata": {
        "id": "7fpo23ErO_lL"
      },
      "source": [
        "## Check data quality"
      ]
    },
    {
      "cell_type": "markdown",
      "metadata": {
        "id": "dteWESl_lSb-"
      },
      "source": [
        "### Local extensions and additional fields and codes"
      ]
    },
    {
      "cell_type": "markdown",
      "metadata": {
        "id": "B_nDBOyG2279"
      },
      "source": [
        "[Conforming publications](https://standard.open-contracting.org/latest/en/schema/conformance_and_extensions/#publication-conformance) must not use terms from outside the OCDS schema where the OCDS schema's terms would suffice.\n",
        "\n",
        "Use this section to identify fields in local extensions and additional fields and codes that should be mapped to fields and codes in the OCDS schema and extensions.\n",
        "\n",
        "You can use the following resources to find fields and codes with similar semantics:\n",
        "\n",
        "* [OCDS Schema and Codelist Reference](https://standard.open-contracting.org/latest/en/schema/), for fields in the core OCDS schema.\n",
        "* [OCDS Extensions Field and Code Search](https://open-contracting.github.io/editor-tools/), for fields and codes in OCDS extensions.\n",
        "* [Github Issue Tracker](https://github.com/open-contracting/standard/issues), for discussions about adding new fields and codes.\n",
        "\n",
        "Check that field and code names [conform to the style guide](https://ocds-standard-development-handbook.readthedocs.io/en/latest/meta/schema_style_guide.html#field-and-code-names) and report any issues to the publisher.\n",
        "\n",
        "If you cannot find a suitable mapping for an additional field or code, open a Github issue to describe the sematics of the field or code and to discuss how to model it. Report any issues to the publisher.\n"
      ]
    },
    {
      "cell_type": "markdown",
      "metadata": {
        "id": "4oFJe2cw9HlA"
      },
      "source": [
        "#### Local extensions"
      ]
    },
    {
      "cell_type": "markdown",
      "metadata": {
        "id": "72PpTzAP9NSI"
      },
      "source": [
        "For each field and code in extensions authored by the publisher, in addition to the above checks, consider whether to [review the extension in detail](https://docs.google.com/document/d/1bRhVVkuTPXw6acE2opKD-Yj80y0lvAsfAqDjG632nNY/)."
      ]
    },
    {
      "cell_type": "markdown",
      "metadata": {
        "id": "LzOXXZob9gA2"
      },
      "source": [
        "Generate a list of extensions declared in the package metadata:"
      ]
    },
    {
      "cell_type": "code",
      "metadata": {
        "id": "Yul28_sU9gA2"
      },
      "source": [
        "%%sql\n",
        "\n",
        "select \n",
        "  collection_id,\n",
        "  release_type,\n",
        "  jsonb_array_elements(package_data -> 'extensions') as extension,\n",
        "  count(*) as count\n",
        "from\n",
        "  release_summary\n",
        "where\n",
        "  collection_id in :collection_ids\n",
        "AND\n",
        "  package_data is not null\n",
        "GROUP BY\n",
        "  collection_id,\n",
        "  release_type,\n",
        "  extension\n",
        "ORDER BY\n",
        "  collection_id,\n",
        "  release_type,\n",
        "  count DESC;"
      ],
      "execution_count": null,
      "outputs": []
    },
    {
      "cell_type": "markdown",
      "metadata": {
        "id": "CeabYppc20t4"
      },
      "source": [
        "#### Additional fields"
      ]
    },
    {
      "cell_type": "markdown",
      "metadata": {
        "id": "52thQMhSsTe8"
      },
      "source": [
        "Note that the DRT also reports additional fields in the following scenarios.\n",
        "\n",
        "* Fields from undeclared extensions\n",
        "* Fields with language variations, e.g. `title_es`. You do not need to report language variations to the publisher, but you should check that the field [conforms to the rules for language variations](https://standard.open-contracting.org/latest/en/schema/reference/#language).\n",
        "* OCDS 1.0 data with fields from extensions. You should report the fields to the publisher and recommend that they upgrade to OCDS 1.1.\n",
        "* Data with no package, or where a version is not declared, which is checked against both the 1.0 and 1.1 schemas. You should filter the `schema_version` to get additional fields against the latest version of the schema and report them to the publisher.\n",
        "* Fields from extensions that patch multiple schemas ([issue](https://github.com/OpenDataServices/cove/issues/1132)). If additional fields are reported in the package schema, you should check whether any extensions have multiple schemas before reporting them to the publisher."
      ]
    },
    {
      "cell_type": "markdown",
      "metadata": {
        "id": "rOaRxbxgpzKw"
      },
      "source": [
        "Generate a list of additional fields reported by the DRT:"
      ]
    },
    {
      "cell_type": "code",
      "metadata": {
        "id": "RbJJ5k0SmOTB"
      },
      "source": [
        "%%sql\n",
        "\n",
        "WITH check_results AS (\n",
        "    SELECT\n",
        "      *,\n",
        "      CASE WHEN (release_type IN ('record', 'embedded_release')) THEN record_check ELSE release_check END as results\n",
        "    FROM\n",
        "      release_summary\n",
        "    WHERE\n",
        "      collection_id IN :collection_ids\n",
        "    AND\n",
        "      release_type <> 'compiled_release'\n",
        "),\n",
        "counts AS (\n",
        "  SELECT\n",
        "    collection_id,\n",
        "    release_type,\n",
        "    additional_fields ->> 'path' AS path,\n",
        "    additional_fields ->> 'field_name' AS field,\n",
        "    SUM(CAST(additional_fields ->> 'count' AS int)) AS count,\n",
        "    results -> 'schema_url' AS schema_version\n",
        "  FROM\n",
        "    check_results\n",
        "  CROSS JOIN\n",
        "    jsonb_array_elements(results -> 'all_additional_fields') AS additional_fields\n",
        "  GROUP BY\n",
        "    collection_id,\n",
        "    release_type,\n",
        "    schema_version,\n",
        "    field,\n",
        "    path\n",
        "  ORDER BY\n",
        "    schema_version,\n",
        "    path,\n",
        "    count DESC\n",
        "), examples AS (\n",
        "  SELECT DISTINCT ON (collection_id, release_type, results -> 'schema_url', additional_fields ->> 'path', additional_fields ->> 'field_name')\n",
        "    collection_id,\n",
        "    release_type,\n",
        "    results -> 'schema_url' AS schema_version,\n",
        "    additional_fields ->> 'path' AS path,\n",
        "    additional_fields ->> 'field_name' AS field,\n",
        "    additional_fields ->> 'examples' AS examples\n",
        "  FROM\n",
        "    check_results\n",
        "  CROSS JOIN\n",
        "    jsonb_array_elements(results -> 'all_additional_fields') AS additional_fields\n",
        "  WHERE\n",
        "    additional_fields ->> 'examples' <> '[]'\n",
        "  AND\n",
        "    additional_fields ->> 'examples' IS NOT NULL\n",
        ")\n",
        "SELECT\n",
        "  counts.collection_id,\n",
        "  counts.release_type,\n",
        "  counts.schema_version,\n",
        "  counts.path path,\n",
        "  counts.field field,\n",
        "  count,\n",
        "  examples examples\n",
        "FROM\n",
        "  counts\n",
        "LEFT JOIN\n",
        "  examples\n",
        "USING (collection_id, release_type, schema_version, path, field)\n",
        "ORDER BY\n",
        "  counts.schema_version,\n",
        "  path,\n",
        "  field;"
      ],
      "execution_count": null,
      "outputs": []
    },
    {
      "cell_type": "markdown",
      "metadata": {
        "id": "v_6_-h72u3_Q"
      },
      "source": [
        "##### **Additional field examples**\n",
        "\n",
        "Use the query in the following cell to generate a release package containing an example release for each additional field."
      ]
    },
    {
      "cell_type": "code",
      "metadata": {
        "id": "oMBWTfjljvdc"
      },
      "source": [
        "query = \"\"\"\n",
        "WITH additional_field_releases AS (\n",
        "  SELECT\n",
        "    ocid as ocid,\n",
        "    release.release_id as release_id,\n",
        "    data_id as data_id,\n",
        "    additional_fields->>'path' AS path,\n",
        "    additional_fields->>'field_name' AS field\n",
        "  FROM\n",
        "    release_check\n",
        "  CROSS JOIN\n",
        "    jsonb_array_elements(cove_output->'all_additional_fields') AS additional_fields\n",
        "  JOIN\n",
        "    release ON release_check.release_id = release.id\n",
        "  WHERE\n",
        "    collection_id IN :collection_ids\n",
        "), additional_fields as(\n",
        "  SELECT DISTINCT\n",
        "    path,\n",
        "    field\n",
        "  FROM\n",
        "    additional_field_releases\n",
        "), examples AS (\n",
        "  SELECT DISTINCT ON (additional_fields.path, additional_fields.field)\n",
        "    additional_fields.path,\n",
        "    additional_fields.field,\n",
        "    ocid,\n",
        "    release_id,\n",
        "    data_id,\n",
        "    data\n",
        "  FROM\n",
        "    additional_fields\n",
        "  INNER JOIN\n",
        "    additional_field_releases\n",
        "  ON\n",
        "    additional_fields.path = additional_field_releases.path AND additional_fields.field = additional_field_releases.field\n",
        "  JOIN\n",
        "    data ON data.id = data_id\n",
        "  ORDER BY\n",
        "    additional_fields.path,\n",
        "    additional_fields.field\n",
        ")\n",
        "SELECT\n",
        "  jsonb_build_object('releases', jsonb_agg(data)) release_package\n",
        "FROM\n",
        "  examples\n",
        "\"\"\"\n",
        "\n",
        "results = %sql {query}\n",
        "\n",
        "render_json(results['release_package'][0])"
      ],
      "execution_count": null,
      "outputs": []
    },
    {
      "cell_type": "markdown",
      "metadata": {
        "id": "tMVFNCDrmb0l"
      },
      "source": [
        "#### Additional codes"
      ]
    },
    {
      "cell_type": "markdown",
      "metadata": {
        "id": "HIiCZQni2kbA"
      },
      "source": [
        "List additional open codelist values reported by the DRT:"
      ]
    },
    {
      "cell_type": "code",
      "metadata": {
        "id": "V8Gx2WAOqERy"
      },
      "source": [
        "%%sql\n",
        "\n",
        "WITH check_results AS (\n",
        "    SELECT\n",
        "      *,\n",
        "      CASE WHEN (release_type IN ('record', 'embedded_release')) THEN record_check ELSE release_check END as results\n",
        "    FROM\n",
        "      release_summary\n",
        "    WHERE\n",
        "      collection_id IN :collection_ids\n",
        "    AND\n",
        "      release_type <> 'compiled_release'\n",
        ")\n",
        "SELECT\n",
        "  collection_id,\n",
        "  release_type,\n",
        "  additional_open_codelist_values.value -> 'codelist' codelist,\n",
        "  codes.value code,\n",
        "  count(*) occurrences\n",
        "FROM\n",
        "  check_results\n",
        "CROSS JOIN\n",
        "  jsonb_each(results -> 'additional_open_codelist_values') additional_open_codelist_values\n",
        "CROSS JOIN\n",
        "  jsonb_array_elements(value -> 'values') codes\n",
        "GROUP BY\n",
        "  collection_id,\n",
        "  release_type,\n",
        "  codelist,\n",
        "  code\n",
        "ORDER BY\n",
        "  collection_id,\n",
        "  release_type,\n",
        "  codelist,\n",
        "  count(*) DESC\n"
      ],
      "execution_count": null,
      "outputs": []
    },
    {
      "cell_type": "markdown",
      "metadata": {
        "id": "0jMaeqCJPA5J"
      },
      "source": [
        "### Conformance"
      ]
    },
    {
      "cell_type": "markdown",
      "metadata": {
        "id": "MiFFM6zOlGTp"
      },
      "source": [
        "#### Deprecated fields"
      ]
    },
    {
      "cell_type": "markdown",
      "metadata": {
        "id": "kzUGDNQqrlKq"
      },
      "source": [
        "Before a field or codelist is removed from the standard, it is first marked as [deprecated](https://standard.open-contracting.org/latest/en/governance/deprecation/#deprecation).\n",
        "\n",
        "Use this section to check for deprecated fields."
      ]
    },
    {
      "cell_type": "markdown",
      "metadata": {
        "id": "fZisRK9kr6MZ"
      },
      "source": [
        "Generate a list of deprecated fields:"
      ]
    },
    {
      "cell_type": "code",
      "metadata": {
        "id": "Oc0ex2vNlIOU"
      },
      "source": [
        "%%sql\n",
        "\n",
        "SELECT DISTINCT ON (\n",
        "  collection_id,\n",
        "  path,\n",
        "  deprecated_version,\n",
        "  explanation\n",
        ")\n",
        "  collection_id,\n",
        "  regexp_replace(TRIM('\"' from paths::text), '\\/[0-9]+', '', 'g') || '/' || (deprecated_fields ->> 'field') as path,\n",
        "  deprecated_fields -> 'explanation' -> 0 as deprecated_version,\n",
        "  deprecated_fields -> 'explanation' -> 1 as explanation,\n",
        "  ocid as example_ocid\n",
        "FROM\n",
        "  release_check\n",
        "CROSS JOIN\n",
        "  jsonb_array_elements(cove_output -> 'deprecated_fields') AS deprecated_fields\n",
        "CROSS JOIN\n",
        "  jsonb_array_elements(deprecated_fields -> 'paths') as paths\n",
        "JOIN\n",
        "  release on release_check.release_id = release.id\n",
        "WHERE\n",
        "  collection_id in :collection_ids;\n"
      ],
      "execution_count": null,
      "outputs": []
    },
    {
      "cell_type": "markdown",
      "metadata": {
        "id": "lUxc-EZLkSPO"
      },
      "source": [
        "#### Metadata"
      ]
    },
    {
      "cell_type": "markdown",
      "metadata": {
        "id": "OTUvn1oKPCnS"
      },
      "source": [
        "##### **Package metadata**\n",
        "\n",
        "OCDS data must be published within either a [release package](https://standard.open-contracting.org/latest/en/schema/reference/#package-metadata) or a [record package](https://standard.open-contracting.org/latest/en/schema/records_reference/#package-metadata).\n",
        "\n",
        "Use this section to check that the values in the package metadata conform to the descriptions in the schema.\n",
        "\n",
        "Look out for the following issues and report them to the publisher:\n",
        "\n",
        "* Placeholder values\n",
        "* Empty strings and objects\n",
        "* Discrepancies in the package metadata between different releases "
      ]
    },
    {
      "cell_type": "markdown",
      "metadata": {
        "id": "8TqV2NVDQ7t4"
      },
      "source": [
        "Generate a summary of the package metadata values used in each collection:"
      ]
    },
    {
      "cell_type": "code",
      "metadata": {
        "id": "FpZvLuscPAf7"
      },
      "source": [
        "%%sql\n",
        "\n",
        "SELECT\n",
        "\tcollection_id,\n",
        "\trelease_type,\n",
        "\tpackage_data-> 'version' AS ocds_version,\n",
        "\tpackage_data-> 'publisher' -> 'name' AS publisher_name,\n",
        "\tpackage_data-> 'publisher' -> 'name' -> 'scheme' AS publisher_scheme,\n",
        "\tpackage_data-> 'publisher' -> 'name' -> 'uid' AS publisher_uid,\n",
        "\tpackage_data-> 'publisher' -> 'name' -> 'uri' AS publisher_uri,\n",
        "\tpackage_data-> 'license' AS license,\n",
        "\tpackage_data-> 'publicationPolicy' AS publicationPolicy,\n",
        "\tcount(*)\n",
        "FROM\n",
        "\trelease_summary\n",
        "WHERE\n",
        "  collection_id in :collection_ids\n",
        "AND\n",
        "  release_type != 'compiled_release'\n",
        "GROUP BY\n",
        "\tcollection_id,\n",
        "\trelease_type,\n",
        "\tpublisher_name,\n",
        "\tpublisher_scheme,\n",
        "\tpublisher_uid,\n",
        "\tpublisher_uri,\n",
        "\tlicense,\n",
        "\tpublicationPolicy,\n",
        "\tocds_version;"
      ],
      "execution_count": null,
      "outputs": []
    },
    {
      "cell_type": "markdown",
      "metadata": {
        "id": "BqfowfAfT6Z_"
      },
      "source": [
        "##### **Release tags**\n",
        "\n",
        "> Releases must be tagged with one or more values from the [release tag codelist](https://standard.open-contracting.org/latest/en/schema/codelists/#release-tag).Tags may be used to filter releases and to understand the kind of information that a release might contain.\n",
        "\n",
        "Use this section to check that release tags reflect the data included in each release.\n",
        "\n",
        "Read the descriptions in the codelist to understand which sections can be provided for each tag.\n",
        "\n",
        "Remember that releases can repeat information from previous releases."
      ]
    },
    {
      "cell_type": "markdown",
      "metadata": {
        "id": "bcyBJvRTUZX5"
      },
      "source": [
        "Generate a summary of the sections published for each release tag.\n",
        "\n",
        "Note that this check only counts whether the section exists, not whether it contains any fields or objects, so the results may include empty objects (e.g. `planning`) and arrays (e.g. `awards`)."
      ]
    },
    {
      "cell_type": "code",
      "metadata": {
        "id": "3f-D5_r5ThY_"
      },
      "source": [
        "%%sql release_tag_section_summary <<\n",
        "\n",
        "WITH IMPLEMENTATION AS (\n",
        "SELECT\n",
        "\tcs.collection_id,\n",
        "\tcs.release_type,\n",
        "\trelease_tag,\n",
        "\tCOUNT(contract -> 'implementation') AS IMPLEMENTATION\n",
        "FROM\n",
        "\tcontracts_summary cs\n",
        "LEFT JOIN release_summary\n",
        "\t\tUSING (id)\n",
        "GROUP BY\n",
        "\tcs.collection_id,\n",
        "\tcs.release_type,\n",
        "\trelease_tag ),\n",
        "sections AS (\n",
        "SELECT\n",
        "\tcollection_id,\n",
        "\trelease_type,\n",
        "\trelease_tag,\n",
        "\tcount(*) AS release_count,\n",
        "\tCOUNT(RELEASE -> 'planning') AS planning,\n",
        "\tCOUNT(RELEASE -> 'tender') AS tender,\n",
        "\tCOUNT(RELEASE -> 'awards') AS award,\n",
        "\tCOUNT(RELEASE -> 'contracts') AS contract\n",
        "FROM\n",
        "\trelease_summary\n",
        "GROUP BY\n",
        "\tcollection_id,\n",
        "\trelease_type,\n",
        "\trelease_tag )\n",
        "SELECT\n",
        "\tcollection_id,\n",
        "\trelease_type,\n",
        "\tsections.release_tag,\n",
        "\trelease_count,\n",
        "\tplanning,\n",
        "\ttender,\n",
        "\taward,\n",
        "\tcontract,\n",
        "\tIMPLEMENTATION\n",
        "FROM\n",
        "\tsections\n",
        "LEFT JOIN IMPLEMENTATION\n",
        "\t\tUSING (collection_id,\n",
        "\trelease_type,\n",
        "\trelease_tag);\n"
      ],
      "execution_count": null,
      "outputs": []
    },
    {
      "cell_type": "code",
      "metadata": {
        "id": "M-difjEFBSmB"
      },
      "source": [
        "release_tag_section_summary"
      ],
      "execution_count": null,
      "outputs": []
    },
    {
      "cell_type": "code",
      "metadata": {
        "id": "3mt2EFdNE481"
      },
      "source": [
        "save_dataframe_to_sheet(release_tag_section_summary, 'release_tags')"
      ],
      "execution_count": null,
      "outputs": []
    },
    {
      "cell_type": "markdown",
      "metadata": {
        "id": "abni9r6s3E_Z"
      },
      "source": [
        "##### **Release date**"
      ]
    },
    {
      "cell_type": "markdown",
      "metadata": {
        "id": "HM9mez4h3Jy8"
      },
      "source": [
        "Use this section to check that all releases do not share the same date."
      ]
    },
    {
      "cell_type": "markdown",
      "metadata": {
        "id": "_p6nR_C73rju"
      },
      "source": [
        "Generate a count of releases by date:"
      ]
    },
    {
      "cell_type": "code",
      "metadata": {
        "id": "YDBNjVB03PCW"
      },
      "source": [
        "%%sql\n",
        "\n",
        "select\n",
        "  collection_id,\n",
        "  release_type,\n",
        "  release_date,\n",
        "  count(*) as release_count\n",
        "from\n",
        "  release_summary\n",
        "group by\n",
        "  collection_id,\n",
        "  release_type,\n",
        "  release_date\n",
        "order by\n",
        "  collection_id,\n",
        "  release_type,\n",
        "  release_count desc;"
      ],
      "execution_count": null,
      "outputs": []
    },
    {
      "cell_type": "markdown",
      "metadata": {
        "id": "ik2hkA8yghRT"
      },
      "source": [
        "##### **Language**"
      ]
    },
    {
      "cell_type": "markdown",
      "metadata": {
        "id": "hE6aXnygjhuk"
      },
      "source": [
        "> The default language of the data using either two-letter [ISO639-1](https://en.wikipedia.org/wiki/List_of_ISO_639-1_codes), or extended [BCP47 language tags](http://www.w3.org/International/articles/language-tags/). The use of lowercase two-letter codes from [ISO639-1](https://en.wikipedia.org/wiki/List_of_ISO_639-1_codes) is recommended.\n",
        "\n",
        "Use this section to check that the code declared in `language` reflects the language used in free-text fields in the data."
      ]
    },
    {
      "cell_type": "markdown",
      "metadata": {
        "id": "6uieOUzgkFGF"
      },
      "source": [
        "Generate a list of language codes used in the data, with an example release for each language."
      ]
    },
    {
      "cell_type": "code",
      "metadata": {
        "id": "HRweYx7nUvRE"
      },
      "source": [
        "%%sql\n",
        "\n",
        "select distinct on (collection_id, release_type, release_language)\n",
        "  collection_id,\n",
        "  release_type,\n",
        "  release_language,\n",
        "  release as example_release\n",
        "from\n",
        "  release_summary\n",
        "order by\n",
        "  collection_id,\n",
        "  release_type,\n",
        "  release_language,\n",
        "  random();"
      ],
      "execution_count": null,
      "outputs": []
    },
    {
      "cell_type": "markdown",
      "metadata": {
        "id": "74oWIWefkd7A"
      },
      "source": [
        "#### Change history"
      ]
    },
    {
      "cell_type": "markdown",
      "metadata": {
        "id": "Z41ym0kllAu6"
      },
      "source": [
        "OCDS supports the publication of a change history, using [releases and records](https://standard.open-contracting.org/latest/en/getting_started/releases_and_records/#releases-and-records).\n",
        "\n",
        "Fully implemented, releases and records can be used to publish the following for each contracting process:\n",
        "\n",
        "* Multiple OCDS releases, one for each change or update to the contracting process\n",
        "* A single OCDS record, containing:\n",
        "  * `releases` - an index of releases for the contracting process\n",
        "  * optionally, a `compiledRelease` - the latest version of the data about the contracting process\n",
        "  * optionally, a `versionedRelease` - a history of changes for each field\n",
        "\n",
        "However, many publishers use the ['easy releases'](https://standard.open-contracting.org/latest/en/guidance/build/easy_releases/) approach: publish a single release per contracting process with the latest version of the data about the contracting process.\n",
        "\n",
        "Use this section to understand the approach used by the publisher."
      ]
    },
    {
      "cell_type": "markdown",
      "metadata": {
        "id": "d1Igbq4gm01W"
      },
      "source": [
        "##### **Multiple releases per contracting process**"
      ]
    },
    {
      "cell_type": "markdown",
      "metadata": {
        "id": "fK7PwwQPnjv6"
      },
      "source": [
        "Use this section to:\n",
        "\n",
        "* check if there are multiple releases per contracting process\n",
        "* check the distribution of releases per contracting process\n",
        "* examine examples of contracting processes with multiple releases"
      ]
    },
    {
      "cell_type": "markdown",
      "metadata": {
        "id": "aAPM7PjIoKjo"
      },
      "source": [
        "Generate statistics on the minimum, maximum, average and standard deviation of releases per contracting process."
      ]
    },
    {
      "cell_type": "code",
      "metadata": {
        "id": "lGQMqdTjmmXP"
      },
      "source": [
        "%%sql\n",
        "\n",
        "WITH release_counts AS (\n",
        "SELECT\n",
        "\tcollection_id,\n",
        "\trelease_type,\n",
        "\tocid,\n",
        "\tcount(*) AS release_count\n",
        "FROM\n",
        "\trelease_summary rs\n",
        "WHERE\n",
        "  collection_id in :collection_ids\n",
        "GROUP BY\n",
        "\tcollection_id ,\n",
        "\trelease_type,\n",
        "\tocid )\n",
        "SELECT\n",
        "\tcollection_id,\n",
        "\trelease_type,\n",
        "\tMIN(release_count) AS min_releases_per_ocid,\n",
        "\tMAX(release_count) AS max_releases_per_ocid,\n",
        "\tROUND(AVG(release_count), 2) AS avg_releases_per_ocid,\n",
        "\tROUND(STDDEV(release_count), 2) AS sd_releases_per_ocid\n",
        "FROM\n",
        "\trelease_counts\n",
        "GROUP BY\n",
        "\tcollection_id,\n",
        "\trelease_type;"
      ],
      "execution_count": null,
      "outputs": []
    },
    {
      "cell_type": "markdown",
      "metadata": {
        "id": "uX8ddZoGnqoJ"
      },
      "source": [
        "Generate a summary of the release count per contracting process:"
      ]
    },
    {
      "cell_type": "code",
      "metadata": {
        "id": "zojrnAxlke2p"
      },
      "source": [
        "%%sql release_count_summary <<\n",
        "\n",
        "WITH release_counts AS (\n",
        "SELECT\n",
        "\tcollection_id,\n",
        "\trelease_type,\n",
        "\tocid,\n",
        "\tcount(*) AS release_count\n",
        "FROM\n",
        "\trelease_summary rs\n",
        "WHERE\n",
        "  collection_id IN :collection_ids\n",
        "AND\n",
        "  release_type IN ('release', 'embedded_release')\n",
        "GROUP BY\n",
        "\tcollection_id ,\n",
        "\trelease_type,\n",
        "\tocid )\n",
        "SELECT\n",
        "\tcollection_id,\n",
        "\trelease_type,\n",
        "\trelease_count,\n",
        "\tcount(*) AS contracting_processes\n",
        "FROM\n",
        "\trelease_counts\n",
        "GROUP BY\n",
        "\tcollection_id,\n",
        "\trelease_type,\n",
        "\trelease_count;"
      ],
      "execution_count": null,
      "outputs": []
    },
    {
      "cell_type": "code",
      "metadata": {
        "id": "8273QQnaecKT"
      },
      "source": [
        "release_count_summary"
      ],
      "execution_count": null,
      "outputs": []
    },
    {
      "cell_type": "markdown",
      "metadata": {
        "id": "vNrKZdsv21Sc"
      },
      "source": [
        "Plot the distribution of releases per contracting process:"
      ]
    },
    {
      "cell_type": "code",
      "metadata": {
        "id": "sJ40ZMqF7DnI"
      },
      "source": [
        "%%sql release_counts <<\n",
        "\n",
        "WITH release_counts AS (\n",
        "  SELECT\n",
        "    collection_id,\n",
        "    release_type,\n",
        "    ocid,\n",
        "    count(*) AS release_count\n",
        "  FROM\n",
        "    release_summary rs\n",
        "  WHERE\n",
        "    collection_id in :collection_ids\n",
        "  AND\n",
        "    release_type IN ('release', 'embedded_release')\n",
        "  GROUP BY\n",
        "    collection_id ,\n",
        "    release_type,\n",
        "    ocid\n",
        ")\n",
        "SELECT\n",
        "  collection_id,\n",
        "  release_type,\n",
        "  release_count,\n",
        "  count(*) as ocid_count\n",
        "FROM\n",
        "  release_counts\n",
        "GROUP BY\n",
        "  collection_id,\n",
        "  release_type,\n",
        "  release_count;\n"
      ],
      "execution_count": null,
      "outputs": []
    },
    {
      "cell_type": "code",
      "metadata": {
        "id": "yeBOaDsO6uDS"
      },
      "source": [
        "release_count_chart = sns.catplot(x=\"release_count\", y=\"ocid_count\", kind=\"bar\", col=\"collection_id\", hue=\"release_type\", data=release_counts).set_xticklabels(rotation=90)\n",
        "\n",
        "for ax in release_count_chart.axes.flat:\n",
        "  format_thousands(ax.yaxis)\n",
        "\n",
        "plt.show(release_count_chart)"
      ],
      "execution_count": null,
      "outputs": []
    },
    {
      "cell_type": "markdown",
      "metadata": {
        "id": "Ww3sXJfXY9Lf"
      },
      "source": [
        "Generate a spreadsheet containing the top 5 contracting processes with the most releases. \n",
        "\n",
        "Specific things to check include:\n",
        "\n",
        "* Does the `date` field differ between releases?\n",
        "* Does the `tag` field differ between releases?\n",
        "\n",
        "Also check for differences in which fields are provided for each release and for differences in the values of fields.\n"
      ]
    },
    {
      "cell_type": "code",
      "metadata": {
        "id": "RTJ8BwXBSrrw"
      },
      "source": [
        "%%sql multiple_release_examples <<\n",
        "\n",
        "WITH ranked_ocids AS (\n",
        "  SELECT\n",
        "      collection_id,\n",
        "      release_type,\n",
        "      ocid,\n",
        "      count(*),\n",
        "      row_number() OVER (PARTITION BY collection_id, release_type ORDER BY count(*) DESC) as row_number\n",
        "    FROM\n",
        "      release_summary\n",
        "    WHERE\n",
        "      collection_id IN :collection_ids\n",
        "    AND\n",
        "      release_type in ('release', 'embedded_release')\n",
        "    GROUP BY\n",
        "      collection_id,\n",
        "      release_type,\n",
        "      ocid\n",
        ")\n",
        "\n",
        "SELECT\n",
        "  jsonb_build_object('releases', jsonb_agg(release)) as release_package\n",
        "FROM\n",
        "  release_summary\n",
        "WHERE\n",
        "  collection_id in :collection_ids\n",
        "AND\n",
        "  release_type in ('release', 'embedded_release')\n",
        "AND\n",
        "  ocid in\n",
        "    (SELECT ocid FROM ranked_ocids where row_number <=5);"
      ],
      "execution_count": null,
      "outputs": []
    },
    {
      "cell_type": "code",
      "metadata": {
        "id": "YyL6ruuNRTA0"
      },
      "source": [
        "save_dataframe_to_spreadsheet(multiple_release_examples, '{}_{}_multiple_releases'.format(source_id, '-'.join([str(id) for id in collection_ids])))"
      ],
      "execution_count": null,
      "outputs": []
    },
    {
      "cell_type": "markdown",
      "metadata": {
        "id": "XcooMawPg41a"
      },
      "source": [
        "##### **Release ID**"
      ]
    },
    {
      "cell_type": "markdown",
      "metadata": {
        "id": "HP0YAYtmg88t"
      },
      "source": [
        "The release identifer must be updated when the information about a contracting process changes.\n",
        "\n",
        "A common error is to set the release ID to the same value as the `ocid`, or to set it to a subset of the `ocid`, and to neglect to update it.\n",
        "\n",
        "Use this section to check that the release ID differs from the `ocid`."
      ]
    },
    {
      "cell_type": "markdown",
      "metadata": {
        "id": "jI2eXvD-hqMg"
      },
      "source": [
        "Generate a list of releases where `id` and `ocid` share the same value."
      ]
    },
    {
      "cell_type": "code",
      "metadata": {
        "id": "7IoW8sC2hkLc"
      },
      "source": [
        "%%sql\n",
        "\n",
        "SELECT\n",
        "  collection_id,\n",
        "  release_type,\n",
        "  ocid,\n",
        "  release_id\n",
        "from\n",
        "  release_summary\n",
        "where\n",
        "  collection_id in :collection_ids\n",
        "and\n",
        "  (\n",
        "    ocid = release_id\n",
        "      OR\n",
        "    ocid ilike '%%' || release_id || '%%'\n",
        "  )"
      ],
      "execution_count": null,
      "outputs": []
    },
    {
      "cell_type": "markdown",
      "metadata": {
        "id": "5xnOyYpj_njZ"
      },
      "source": [
        "#### Overfill\n",
        "\n",
        "In a whole dataset, we expect there to be some differences between the values, items and dates listed in the tender, award and contract sections of OCDS.\n",
        "\n",
        "In an effort to publish as many field as possible, publishers sometimes ignore semantics and map one field from their data source to several fields in OCDS, known as overfill.\n",
        "\n",
        "Use this section to identify instances of overfill."
      ]
    },
    {
      "cell_type": "markdown",
      "metadata": {
        "id": "G2DY3A0G3ZDl"
      },
      "source": [
        "##### **Awards and contracts**\n",
        "\n",
        "Use this section to check if there are any differences the following fields in the award and contract sections:\n",
        "\n",
        "* `awards/date` and `contracts/dateSigned`\n",
        "* `awards/value` and `contracts/value`\n",
        "* `awards/items` and `contracts/items`\n",
        "* `awards/contractPeriod` and `contracts/period`\n",
        "* `award/documents` and `contracts/documents`"
      ]
    },
    {
      "cell_type": "code",
      "metadata": {
        "id": "_QinRGvas2lN"
      },
      "source": [
        "%%sql\n",
        "\n",
        "SELECT\n",
        "  contracts_summary.collection_id,\n",
        "  contracts_summary.release_type,\n",
        "  CASE WHEN awards_summary.award_date = contracts_summary.dateSigned THEN true ELSE false END AS date_match,\n",
        "  CASE WHEN\n",
        "    (awards_summary.award_value_amount = contracts_summary.contract_value_amount)\n",
        "  AND\n",
        "    (awards_summary.award_value_currency = contracts_summary.contract_value_currency)\n",
        "  THEN\n",
        "    true\n",
        "  ELSE\n",
        "    false\n",
        "  END AS value_match,\n",
        "  CASE WHEN\n",
        "    (awards_summary.award_contractperiod_startDate = contracts_summary.contract_period_startDate)\n",
        "  AND\n",
        "    (awards_summary.award_contractperiod_endDate = contracts_summary.contract_period_startDate)\n",
        "  THEN\n",
        "    true\n",
        "  ELSE\n",
        "    false\n",
        "  END AS period_match,\n",
        "  CASE WHEN awards_summary.award ->> 'documents' = contracts_summary.contract ->> 'documents' THEN true ELSE false END AS documents_match,\n",
        "  count(contracts_summary.id) as contract_count\n",
        "FROM\n",
        "  contracts_summary\n",
        "JOIN\n",
        "  awards_summary\n",
        "ON\n",
        "  awards_summary.id = contracts_summary.id\n",
        "AND\n",
        "  awards_summary.award_id = contracts_summary.award_id\n",
        "WHERE\n",
        "  contracts_summary.collection_id IN :collection_ids\n",
        "AND\n",
        "  contracts_summary.release_type IN ('record', 'compiled_release')\n",
        "GROUP BY\n",
        "  contracts_summary.collection_id,\n",
        "  contracts_summary.release_type,\n",
        "  date_match,\n",
        "  value_match,\n",
        "  period_match,\n",
        "  documents_match\n",
        "ORDER BY\n",
        "  contracts_summary.collection_id,\n",
        "  contracts_summary.release_type,\n",
        "  contract_count DESC"
      ],
      "execution_count": null,
      "outputs": []
    },
    {
      "cell_type": "markdown",
      "metadata": {
        "id": "YwWvrmnHdh5q"
      },
      "source": [
        "##### **Items**\n",
        "\n",
        "Items are attached to the tender, award and contract sections of an OCDS release, so that users can see if there were any changes to the items being procured during the contracting process.\n",
        "\n",
        "Use this section to check for differences between the items attached to the tender, award and contract sections."
      ]
    },
    {
      "cell_type": "code",
      "metadata": {
        "id": "nT9U0L1weBr4"
      },
      "source": [
        "%%sql\n",
        "\n",
        "SELECT\n",
        "  tender_summary.collection_id,\n",
        "  tender_summary.release_type,\n",
        "  CASE WHEN contracts_summary.contract -> 'items' = awards_summary.award -> 'items' THEN true ELSE false END AS award_contract_match,\n",
        "  count(contracts_summary.id) AS contracts_count,\n",
        "  CASE WHEN awards_summary.award -> 'items' = tender_summary.tender -> 'items' THEN true ELSE false END AS tender_award_match,\n",
        "  count(awards_summary.id) AS awards_count\n",
        "FROM\n",
        "  tender_summary\n",
        "JOIN\n",
        "  awards_summary USING (id)\n",
        "LEFT JOIN\n",
        "  contracts_summary USING (id, award_id)\n",
        "WHERE\n",
        "  tender_summary.collection_id IN :collection_ids\n",
        "AND\n",
        "  tender_summary.release_type IN ('record', 'compiled_release')\n",
        "GROUP BY\n",
        "  tender_summary.collection_id,\n",
        "  tender_summary.release_type,\n",
        "  award_contract_match,\n",
        "  tender_award_match\n"
      ],
      "execution_count": null,
      "outputs": []
    },
    {
      "cell_type": "markdown",
      "metadata": {
        "id": "pDhw9NXt1Qgy"
      },
      "source": [
        "#### Placeholder values\n",
        "\n",
        "Use this section to check for placeholder values.\n",
        "\n",
        "Manually review the example release to identify placeholder values, e.g. 'n/a', 'test', '1970-01-01T00:00:00Z' etc."
      ]
    },
    {
      "cell_type": "markdown",
      "metadata": {
        "id": "kxqdWzYw0tSo"
      },
      "source": [
        "Get an example release:"
      ]
    },
    {
      "cell_type": "code",
      "metadata": {
        "id": "jMjS-9MS1it_"
      },
      "source": [
        "%%sql example_releases <<\n",
        "\n",
        "WITH examples AS (\n",
        "  SELECT DISTINCT ON (collection_id, release_type)\n",
        "    collection_id,\n",
        "    release_type,\n",
        "    release\n",
        "  FROM\n",
        "    release_summary\n",
        "  WHERE\n",
        "    collection_id IN :collection_ids\n",
        "  AND\n",
        "    release_type IN ('release', 'embedded_release')\n",
        "  ORDER BY\n",
        "    collection_id,\n",
        "    release_type,\n",
        "    random()\n",
        ")\n",
        "SELECT\n",
        "  jsonb_build_object('releases', jsonb_agg(release)) release_package\n",
        "FROM\n",
        "  examples\n"
      ],
      "execution_count": null,
      "outputs": []
    },
    {
      "cell_type": "code",
      "metadata": {
        "id": "i5cZhi-L5ZCu"
      },
      "source": [
        "render(example_releases['release_package'][0])"
      ],
      "execution_count": null,
      "outputs": []
    },
    {
      "cell_type": "markdown",
      "metadata": {
        "id": "PwP4LyhV2F5o"
      },
      "source": [
        "### Coherence"
      ]
    },
    {
      "cell_type": "markdown",
      "metadata": {
        "id": "Cg37FRR_LvsO"
      },
      "source": [
        "#### Organization identifiers "
      ]
    },
    {
      "cell_type": "markdown",
      "metadata": {
        "id": "mvKnrvB_RS4T"
      },
      "source": [
        "Publishers should collect and publish [organization identifiers](https://standard.open-contracting.org/latest/en/schema/identifiers/#organization-ids).\n",
        "\n",
        "Use this section to check for invalid organization identifiers or incorrect organization identifiers.\n",
        "\n",
        "For each organization identifier:\n",
        "\n",
        "1. Look up the `scheme` in [org-id.guide](http://org-id.guide/) and follow the guidance to look up the organization identifiers in the register.\n",
        "1. Check that the identifier exists in the register."
      ]
    },
    {
      "cell_type": "markdown",
      "metadata": {
        "id": "0KDF0G43iprA"
      },
      "source": [
        "Get a list of all organization identifiers and select a random sample of 3 identifiers from each organization identifier scheme:"
      ]
    },
    {
      "cell_type": "code",
      "metadata": {
        "id": "XaF65iyq1YMm"
      },
      "source": [
        "%%sql organization_identifiers <<\n",
        "\n",
        "SELECT\n",
        "  collection_id,\n",
        "  release_type,\n",
        "  party ->> 'name' as name,\n",
        "  party -> 'identifier' ->> 'legalName' as legalName,\n",
        "  roles,\n",
        "  party -> 'identifier' ->> 'scheme' as scheme,\n",
        "  party -> 'identifier' ->> 'id' as id,\n",
        "  ocid\n",
        "FROM\n",
        "  parties_summary\n",
        "WHERE\n",
        "  collection_id IN :collection_ids;"
      ],
      "execution_count": null,
      "outputs": []
    },
    {
      "cell_type": "code",
      "metadata": {
        "id": "OGmecQ5d2d8e"
      },
      "source": [
        "organization_identifiers.groupby(['collection_id', 'release_type', 'scheme']).sample(n=3)"
      ],
      "execution_count": null,
      "outputs": []
    },
    {
      "cell_type": "markdown",
      "metadata": {
        "id": "8syUMlFlme6X"
      },
      "source": [
        "#### Foreign companies \n",
        "\n",
        "Publishers sometimes erroneously populate `.scheme` for foreign-registered companiues with the code for a domestic organization register.\n",
        "\n",
        "Use this section to check that the correct organization identifier scheme is provided for foreign-registered companies.\n",
        "\n",
        "Set the `country` variable to the name of the country for the publisher before running the query.\n",
        "\n",
        "For each organization identifier:\n",
        "\n",
        "1. Look up the `scheme` in [org-id.guide](http://org-id.guide/) and follow the guidance to look up the organization identifiers in the register.\n",
        "1. Check that the identifier exists in the register."
      ]
    },
    {
      "cell_type": "code",
      "metadata": {
        "id": "rdfGKYmN3VbH"
      },
      "source": [
        "country = 'Paraguay'"
      ],
      "execution_count": null,
      "outputs": []
    },
    {
      "cell_type": "code",
      "metadata": {
        "id": "iMPnnFMvmnNY"
      },
      "source": [
        "%%sql\n",
        "\n",
        "SELECT\n",
        "  collection_id,\n",
        "  release_type,\n",
        "  name,\n",
        "  scheme,\n",
        "  id,\n",
        "  legalName,\n",
        "  country,\n",
        "  roles\n",
        "FROM\n",
        "  (SELECT DISTINCT\n",
        "    collection_id,\n",
        "    release_type,\n",
        "    party ->> 'name' as name, \n",
        "    party -> 'identifier' ->> 'scheme' scheme,\n",
        "    party -> 'identifier' ->> 'id' id,\n",
        "    party -> 'identifier' ->> 'legalName' legalName,\n",
        "    party -> 'address' ->> 'country' as country,\n",
        "    roles, \n",
        "    rank()\n",
        "  OVER\n",
        "    (PARTITION BY collection_id, release_id, party -> 'identifier' ->> 'scheme' ORDER BY random()) \n",
        "  FROM\n",
        "    parties_summary\n",
        "  WHERE\n",
        "    collection_id IN :collection_ids\n",
        "  AND\n",
        "    release_type IN ('record', 'compiled_release')\n",
        "  AND\n",
        "    party -> 'address' ->> 'country' NOT ILIKE :country\n",
        "  ) AS identifiers\n",
        "WHERE\n",
        "  rank <= 3\n",
        "ORDER BY\n",
        "  scheme;"
      ],
      "execution_count": null,
      "outputs": []
    },
    {
      "cell_type": "markdown",
      "metadata": {
        "id": "jc9qxg2e7M82"
      },
      "source": [
        "#### Document metadata"
      ]
    },
    {
      "cell_type": "markdown",
      "metadata": {
        "id": "uvvEaEz4mqAP"
      },
      "source": [
        "Use this section to check that document metadata is accurate.\n",
        "\n",
        "Retrieve the document from the `url` and check that each metadata field accurate reflects the actual document.\n",
        "\n",
        "\n",
        "\n"
      ]
    },
    {
      "cell_type": "markdown",
      "metadata": {
        "id": "ggMh-QWh4JLj"
      },
      "source": [
        "Get a random document:"
      ]
    },
    {
      "cell_type": "code",
      "metadata": {
        "id": "8BnWpi2pmqAV"
      },
      "source": [
        "%%sql\n",
        "\n",
        "WITH documents AS (\n",
        "    SELECT\n",
        "      collection_id,\n",
        "      release_type,\n",
        "      'planning' as section,\n",
        "      ocid,\n",
        "      document\n",
        "    FROM\n",
        "      planning_documents_summary\n",
        "    WHERE\n",
        "      collection_id IN :collection_ids\n",
        "    AND\n",
        "      release_type IN ('record', 'compiled_release')\n",
        "  UNION\n",
        "    SELECT\n",
        "      collection_id,\n",
        "      release_type,\n",
        "      'tender' as section,\n",
        "      ocid,\n",
        "      document\n",
        "    FROM\n",
        "      tender_documents_summary\n",
        "    WHERE\n",
        "      collection_id IN :collection_ids\n",
        "    AND\n",
        "      release_type IN ('record', 'compiled_release') \n",
        "  UNION\n",
        "    SELECT\n",
        "      collection_id,\n",
        "      release_type,\n",
        "      'awards' as section,\n",
        "      ocid,\n",
        "      document\n",
        "    FROM\n",
        "      award_documents_summary\n",
        "    WHERE\n",
        "      collection_id IN :collection_ids\n",
        "    AND\n",
        "      release_type IN ('record', 'compiled_release')\n",
        "  UNION\n",
        "    SELECT\n",
        "      collection_id,\n",
        "      release_type,\n",
        "      'contracts' as section,\n",
        "      ocid,\n",
        "      document\n",
        "    FROM\n",
        "      contract_documents_summary\n",
        "    WHERE\n",
        "      collection_id IN :collection_ids\n",
        "    AND\n",
        "      release_type IN ('record', 'compiled_release') \n",
        "  UNION\n",
        "    SELECT\n",
        "      collection_id,\n",
        "      release_type,\n",
        "      ocid,\n",
        "      'implementation' as section,\n",
        "      document\n",
        "    FROM\n",
        "      contract_implementation_documents_summary\n",
        "    WHERE\n",
        "      collection_id IN :collection_ids\n",
        "    AND\n",
        "      release_type IN ('record', 'compiled_release')\n",
        "  )\n",
        "SELECT\n",
        "  DISTINCT ON (collection_id, release_type)\n",
        "  collection_id,\n",
        "  release_type,\n",
        "  section,\n",
        "  document ->> 'id' as id,\n",
        "  document ->> 'documentType' as documentType,\n",
        "  document ->> 'title' as title,\n",
        "  document ->> 'description' as description,\n",
        "  document ->> 'url' as url,\n",
        "  document ->> 'datePublished' as datePublished,\n",
        "  document ->> 'dateModified' as dateModified,\n",
        "  document ->> 'format' as format,\n",
        "  document ->> 'language' as language\n",
        "FROM\n",
        "  documents\n",
        "ORDER BY\n",
        "  collection_id,\n",
        "  release_type;"
      ],
      "execution_count": null,
      "outputs": []
    },
    {
      "cell_type": "markdown",
      "metadata": {
        "id": "WJSIS4xfA-ER"
      },
      "source": [
        "# Coverage"
      ]
    },
    {
      "cell_type": "markdown",
      "metadata": {
        "id": "2jptF5qmIUHW"
      },
      "source": [
        "Use this section to check whether the data includes key fields."
      ]
    },
    {
      "cell_type": "markdown",
      "metadata": {
        "id": "7ZD6dnsAFr1E"
      },
      "source": [
        "## Organization identifiers"
      ]
    },
    {
      "cell_type": "markdown",
      "metadata": {
        "id": "pCwl5SeoIZJo"
      },
      "source": [
        "Use this section to check whether the data includes organization identifiers for buyers and procuring entities, and for suppliers and tenderers."
      ]
    },
    {
      "cell_type": "markdown",
      "metadata": {
        "id": "XSYeblK7Jr5f"
      },
      "source": [
        "Calculate the coverage of `parties/identifier/id` and `parties/identifier/scheme` grouped by `parties/role`:"
      ]
    },
    {
      "cell_type": "code",
      "metadata": {
        "id": "u4SjRfkeA-32"
      },
      "source": [
        "%%sql\n",
        "\n",
        "SELECT\n",
        "  collection_id,\n",
        "  release_type,\n",
        "  CASE\n",
        "    WHEN roles @> '[\"buyer\"]'::jsonb THEN 'buyer'\n",
        "    WHEN roles @> '[\"procuringEntity\"]'::jsonb THEN 'procuringEntity'\n",
        "    WHEN roles @> '[\"supplier\"]'::jsonb THEN 'supplier'\n",
        "    WHEN roles @> '[\"tenderer\"]'::jsonb THEN 'tenderer'\n",
        "    ELSE 'other'\n",
        "  END as role,\n",
        "  COUNT(*) party_count,\n",
        "  ROUND(SUM(CASE WHEN party -> 'identifier' ->> 'id' is not null THEN 1 ELSE 0 END)::numeric / COUNT(*), 2) id_coverage,\n",
        "  ROUND(SUM(CASE WHEN party -> 'identifier' ->> 'scheme' is not null THEN 1 ELSE 0 END)::numeric / COUNT(*), 2) scheme_coverage\n",
        "FROM\n",
        "  parties_summary\n",
        "WHERE\n",
        "  collection_id in :collection_ids\n",
        "AND\n",
        "  release_type = 'compiled_release'\n",
        "GROUP BY\n",
        "  collection_id,\n",
        "  release_type,\n",
        "  role;"
      ],
      "execution_count": null,
      "outputs": []
    },
    {
      "cell_type": "markdown",
      "metadata": {
        "id": "BMIAhPpfKBw4"
      },
      "source": [
        "## Item classifications"
      ]
    },
    {
      "cell_type": "markdown",
      "metadata": {
        "id": "olRNHvGYMEKf"
      },
      "source": [
        "Use this section to check whether the data includes item classifications."
      ]
    },
    {
      "cell_type": "markdown",
      "metadata": {
        "id": "JNYU_ab8MKF9"
      },
      "source": [
        "Calculate the coverage of `items/classification/id` and `items/classification/scheme` grouped by `stage`:"
      ]
    },
    {
      "cell_type": "code",
      "metadata": {
        "id": "JSd9MVtmKDt9"
      },
      "source": [
        "%%sql\n",
        "\n",
        "WITH items AS (\n",
        "  SELECT\n",
        "    collection_id,\n",
        "    release_type,\n",
        "    'tender' as stage,\n",
        "    item -> 'classification' ->> 'id' as id,\n",
        "    item -> 'classification' ->> 'scheme' as scheme\n",
        "  FROM \n",
        "    tender_items_summary\n",
        "  WHERE\n",
        "    collection_id in :collection_ids\n",
        "  AND\n",
        "    release_type = 'compiled_release'\n",
        "  UNION ALL\n",
        "  SELECT\n",
        "    collection_id,\n",
        "    release_type,\n",
        "    'award' as stage,\n",
        "    item -> 'classification' ->> 'id' as id,\n",
        "    item -> 'classification' ->> 'scheme' as scheme\n",
        "  FROM \n",
        "    award_items_summary\n",
        "  WHERE\n",
        "    collection_id in :collection_ids\n",
        "  AND\n",
        "    release_type = 'compiled_release'\n",
        "  UNION ALL\n",
        "  SELECT\n",
        "    collection_id,\n",
        "    release_type,\n",
        "    'contract' as stage,\n",
        "    item -> 'classification' ->> 'id' as id,\n",
        "    item -> 'classification' ->> 'scheme' as scheme\n",
        "  FROM \n",
        "    contract_items_summary\n",
        "  WHERE\n",
        "    collection_id in :collection_ids\n",
        "  AND\n",
        "    release_type = 'compiled_release'\n",
        "  \n",
        ")\n",
        "SELECT\n",
        "  collection_id,\n",
        "  release_type,\n",
        "  stage,\n",
        "  COUNT(*) item_count,\n",
        "  ROUND(SUM(CASE WHEN id is not null THEN 1 ELSE 0 END)::numeric / COUNT(*), 2) id_coverage,\n",
        "  ROUND(SUM(CASE WHEN scheme is not null THEN 1 ELSE 0 END)::numeric / COUNT(*), 2) scheme_coverage\n",
        "FROM \n",
        "  items\n",
        "GROUP BY\n",
        "  collection_id,\n",
        "  release_type,\n",
        "  stage;"
      ],
      "execution_count": null,
      "outputs": []
    },
    {
      "cell_type": "markdown",
      "metadata": {
        "id": "Yo9Zv3iZ5YyO"
      },
      "source": [
        "## Documents"
      ]
    },
    {
      "cell_type": "markdown",
      "metadata": {
        "id": "rRZ5V_FQPUqH"
      },
      "source": [
        "OCDS encourages the disclosure of both data and documents, to enable both systemic analysis of large numbers of contracting processes and detailed scrutiny of individual procurements.\n",
        "\n",
        "Use this section to check whether the data includes any documents."
      ]
    },
    {
      "cell_type": "markdown",
      "metadata": {
        "id": "1lHZWoUpPZIh"
      },
      "source": [
        "Get a count of documents from each `documents` array:"
      ]
    },
    {
      "cell_type": "code",
      "metadata": {
        "id": "81GVpX2E5bDX"
      },
      "source": [
        "%%sql\n",
        "\n",
        "SELECT\n",
        "  COUNT(*) as contracting_processes,\n",
        "  SUM(ps.documents_count) as planning_documents,\n",
        "  SUM(ts.documents_count) as tender_documents,\n",
        "  SUM(total_award_documents) as award_documents,\n",
        "  SUM(total_contract_documents) as contract_documents,\n",
        "  SUM(total_contract_implementation_documents) as implementation_documents\n",
        "FROM\n",
        "  release_summary rs\n",
        "LEFT JOIN\n",
        "  planning_summary ps ON rs.id = ps.id\n",
        "LEFT JOIN\n",
        "  tender_summary ts ON rs.id = ts.id\n",
        "WHERE\n",
        "  rs.collection_id in :collection_ids\n",
        "AND\n",
        "  rs.release_type = 'compiled_release'"
      ],
      "execution_count": null,
      "outputs": []
    }
  ]
}