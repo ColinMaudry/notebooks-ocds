{
  "nbformat": 4,
  "nbformat_minor": 0,
  "metadata": {
    "colab": {
      "name": "data_collection_and_processing_errors",
      "provenance": []
    },
    "kernelspec": {
      "name": "python3",
      "display_name": "Python 3"
    }
  },
  "cells": [
    {
      "cell_type": "markdown",
      "metadata": {
        "id": "pP9KsYyT1Xnd"
      },
      "source": [
        "## Check for data collection and processing errors"
      ]
    },
    {
      "cell_type": "markdown",
      "source": [
        "### Kingfisher Collect Log"
      ],
      "metadata": {
        "id": "DWcRuKnZt--_"
      }
    },
    {
      "cell_type": "markdown",
      "source": [
        "Print the crawler statistics from the log file specified in the setup section. If `downloader/response_status_count/{code}` is non-zero and `{code}` is an HTTP error code (400-599), then the collection may be incomplete. Where possible, you should check the total number of releases and/or contracting processes against the front-end of the data source."
      ],
      "metadata": {
        "id": "YoxNFk17uFZe"
      }
    },
    {
      "cell_type": "code",
      "source": [
        "if log_url != '':\n",
        "\n",
        "  response = requests.get(log_url, auth=('scrape', scrapy_password))\n",
        "\n",
        "  with open('log_file', 'wb') as f:\n",
        "    f.write(response.content)\n",
        "  \n",
        "  log = ScrapyLogFile('log_file').logparser\n",
        "  pprint(dict(log['crawler_stats']))"
      ],
      "metadata": {
        "id": "kfzwh_ExuEVX"
      },
      "execution_count": null,
      "outputs": []
    },
    {
      "cell_type": "markdown",
      "metadata": {
        "id": "KGevotqJ_sN1"
      },
      "source": [
        "### Collection notes"
      ]
    },
    {
      "cell_type": "markdown",
      "metadata": {
        "id": "0-ufvqTg_yP9"
      },
      "source": [
        "Generate a list of notes for each collection from the `collection_note` table. \n",
        "Users can add notes when starting a spider or via the cli. Transforms can also add notes."
      ]
    },
    {
      "cell_type": "code",
      "metadata": {
        "id": "U0x8mo8Yyj39"
      },
      "source": [
        "%%sql\n",
        "\n",
        "SELECT\n",
        "    collection_id,\n",
        "    note\n",
        "FROM\n",
        "    collection_note\n",
        "WHERE\n",
        "    collection_id IN :collection_ids\n"
      ],
      "execution_count": null,
      "outputs": []
    },
    {
      "cell_type": "markdown",
      "metadata": {
        "id": "Q-YliQK-_5PP"
      },
      "source": [
        "### Collection file errors"
      ]
    },
    {
      "cell_type": "markdown",
      "metadata": {
        "id": "fY0i9io4_90a"
      },
      "source": [
        "Generate a summary of errors and warnings from the `collection_file` table.\n",
        "Kingfisher Collect and the `local-load` command report errors when they cannot retrieve a file.\n",
        "Kingfisher Process reports warnings when it needs to modify the contents of a file in order to store it.\n",
        "Presently, the only warning is about the removal of control characters."
      ]
    },
    {
      "cell_type": "code",
      "metadata": {
        "id": "E5CgVL562bbd"
      },
      "source": [
        "%%sql collection_file_error_summary <<\n",
        "\n",
        "SELECT\n",
        "    collection_id,\n",
        "    warnings,\n",
        "    errors,\n",
        "    count(*),\n",
        "    (array_agg(filename ORDER BY random()))[1:3] AS example_filenames,\n",
        "    (array_agg(url ORDER BY random()))[1:3] AS example_urls\n",
        "FROM\n",
        "    collection_file\n",
        "WHERE\n",
        "    collection_id IN :collection_ids\n",
        "    AND (errors IS NOT NULL\n",
        "        OR warnings IS NOT NULL)\n",
        "GROUP BY\n",
        "    1,\n",
        "    2,\n",
        "    3\n",
        "ORDER BY\n",
        "    4 DESC;\n",
        "\n"
      ],
      "execution_count": null,
      "outputs": []
    },
    {
      "cell_type": "code",
      "metadata": {
        "id": "CY2izeiS_JGi"
      },
      "source": [
        "collection_file_error_summary"
      ],
      "execution_count": null,
      "outputs": []
    },
    {
      "cell_type": "markdown",
      "metadata": {
        "id": "2mXcFyssACKR"
      },
      "source": [
        "Generate a full list of errors and warnings from the `collection_file` table."
      ]
    },
    {
      "cell_type": "code",
      "metadata": {
        "id": "pHsH4fqP0rnY"
      },
      "source": [
        "%%sql collection_file_errors <<\n",
        "\n",
        "SELECT\n",
        "    collection_id,\n",
        "    filename,\n",
        "    warnings,\n",
        "    url,\n",
        "    errors\n",
        "FROM\n",
        "    collection_file\n",
        "WHERE\n",
        "    collection_id IN :collection_ids\n",
        "    AND (errors IS NOT NULL\n",
        "        OR warnings IS NOT NULL);\n",
        "\n"
      ],
      "execution_count": null,
      "outputs": []
    },
    {
      "cell_type": "code",
      "metadata": {
        "id": "_THCeewgwE8K"
      },
      "source": [
        "collection_file_errors"
      ],
      "execution_count": null,
      "outputs": []
    },
    {
      "cell_type": "markdown",
      "metadata": {
        "id": "MRDaacPxAIOh"
      },
      "source": [
        "### Collection file item errors"
      ]
    },
    {
      "cell_type": "markdown",
      "metadata": {
        "id": "lBboFieoAKyY"
      },
      "source": [
        "Generate a summary of errors and warnings from the `collection_file_item` table.\n",
        "Kingfisher Process reports errors when it cannot load a file item."
      ]
    },
    {
      "cell_type": "code",
      "metadata": {
        "id": "vZ77JoaW3-bV"
      },
      "source": [
        "%%sql collection_file_item_error_summary <<\n",
        "\n",
        "SELECT\n",
        "    collection_id,\n",
        "    cfi.warnings,\n",
        "    cfi.errors,\n",
        "    count(*)\n",
        "FROM\n",
        "    collection_file_item AS cfi\n",
        "    JOIN collection_file AS cf ON cfi.collection_file_id = cf.id\n",
        "WHERE\n",
        "    cf.collection_id IN :collection_ids\n",
        "    AND (cfi.errors IS NOT NULL\n",
        "        OR cfi.warnings IS NOT NULL)\n",
        "GROUP BY\n",
        "    1,\n",
        "    2,\n",
        "    3\n",
        "ORDER BY\n",
        "    4 DESC;\n",
        "\n"
      ],
      "execution_count": null,
      "outputs": []
    },
    {
      "cell_type": "code",
      "metadata": {
        "id": "2N8uzloY_O8x"
      },
      "source": [
        "collection_file_item_error_summary"
      ],
      "execution_count": null,
      "outputs": []
    },
    {
      "cell_type": "markdown",
      "metadata": {
        "id": "e6h9arTAAQDX"
      },
      "source": [
        "Generate a full list of errors and warnings from the `collection_file_item` table."
      ]
    },
    {
      "cell_type": "code",
      "metadata": {
        "id": "TCD9v-mW08xL"
      },
      "source": [
        "%%sql collection_file_item_errors <<\n",
        "\n",
        "SELECT\n",
        "    cfi.number,\n",
        "    cfi.warnings,\n",
        "    cfi.errors\n",
        "FROM\n",
        "    collection_file_item AS cfi\n",
        "    JOIN collection_file AS cf ON cfi.collection_file_id = cf.id\n",
        "WHERE\n",
        "    cf.collection_id IN :collection_ids\n",
        "    AND (cfi.errors IS NOT NULL\n",
        "        OR cfi.warnings IS NOT NULL);\n",
        "\n"
      ],
      "execution_count": null,
      "outputs": []
    },
    {
      "cell_type": "code",
      "metadata": {
        "id": "AwcWIslQ_Tmq"
      },
      "source": [
        "collection_file_item_errors"
      ],
      "execution_count": null,
      "outputs": []
    },
    {
      "cell_type": "markdown",
      "metadata": {
        "id": "jYavV9OEAThs"
      },
      "source": [
        "### Check errors"
      ]
    },
    {
      "cell_type": "markdown",
      "metadata": {
        "id": "ZNTCykfZAVnr"
      },
      "source": [
        "A summary of errors from the `release_check_error` and `record_check_error` tables.\n",
        "CoVE reports errors when it cannot check a release or record."
      ]
    },
    {
      "cell_type": "code",
      "metadata": {
        "id": "wXHs3ZIXZF4G"
      },
      "source": [
        "%%sql check_error_summary <<\n",
        "\n",
        "WITH errors AS (\n",
        "    SELECT\n",
        "        collection_id,\n",
        "        'release' AS TYPE,\n",
        "        release.id AS release_id,\n",
        "        release_check_error.error\n",
        "    FROM\n",
        "        release_check_error\n",
        "        JOIN RELEASE ON release_check_error.release_id = release.id\n",
        "    WHERE\n",
        "        release.collection_id IN :collection_ids\n",
        "    UNION\n",
        "    SELECT\n",
        "        collection_id,\n",
        "        'record' AS TYPE,\n",
        "        record.id AS record_id,\n",
        "        record_check_error.error\n",
        "    FROM\n",
        "        record_check_error\n",
        "        JOIN record ON record_check_error.record_id = record.id\n",
        "    WHERE\n",
        "        record.collection_id IN :collection_ids\n",
        ")\n",
        "SELECT\n",
        "    collection_id,\n",
        "    TYPE,\n",
        "    error,\n",
        "    count(*),\n",
        "    (array_agg(release_id ORDER BY random()))[1:3] AS example_release_ids\n",
        "FROM\n",
        "    errors\n",
        "GROUP BY\n",
        "    1,\n",
        "    2,\n",
        "    3\n",
        "ORDER BY\n",
        "    4 DESC;\n",
        "\n"
      ],
      "execution_count": null,
      "outputs": []
    },
    {
      "cell_type": "code",
      "metadata": {
        "id": "F3RrH_3t_egR"
      },
      "source": [
        "check_error_summary"
      ],
      "execution_count": null,
      "outputs": []
    },
    {
      "cell_type": "markdown",
      "metadata": {
        "id": "xY94PIGGAXpi"
      },
      "source": [
        "Generate a full list of errors from the `release_check_error` and `record_check_error` tables."
      ]
    },
    {
      "cell_type": "code",
      "metadata": {
        "id": "7AtixVvm3Nx-"
      },
      "source": [
        "%%sql check_errors <<\n",
        "\n",
        "SELECT\n",
        "    collection_id,\n",
        "    'release' AS TYPE,\n",
        "    release.id AS release_id,\n",
        "    release_check_error.error\n",
        "FROM\n",
        "    release_check_error\n",
        "    JOIN RELEASE ON release_check_error.release_id = release.id\n",
        "WHERE\n",
        "    release.collection_id IN :collection_ids\n",
        "UNION\n",
        "SELECT\n",
        "    collection_id,\n",
        "    'record' AS TYPE,\n",
        "    record.id AS record_id,\n",
        "    record_check_error.error\n",
        "FROM\n",
        "    record_check_error\n",
        "    JOIN record ON record_check_error.record_id = record.id\n",
        "WHERE\n",
        "    record.collection_id IN :collection_ids;\n",
        "\n"
      ],
      "execution_count": null,
      "outputs": []
    },
    {
      "cell_type": "code",
      "metadata": {
        "id": "4UOCStcb_k5O"
      },
      "source": [
        "check_errors"
      ],
      "execution_count": null,
      "outputs": []
    }
  ]
}