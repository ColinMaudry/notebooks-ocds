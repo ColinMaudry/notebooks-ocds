{
  "nbformat": 4,
  "nbformat_minor": 0,
  "metadata": {
    "colab": {
      "name": "data_collection_and_processing_errors",
      "provenance": [],
      "authorship_tag": "ABX9TyPffcgelqfpE7r9y+mDKzan"
    },
    "kernelspec": {
      "name": "python3",
      "display_name": "Python 3"
    }
  },
  "cells": [
    {
      "cell_type": "markdown",
      "metadata": {
        "id": "pP9KsYyT1Xnd"
      },
      "source": [
        "## Check for data collection and processing errors"
      ]
    },
    {
      "cell_type": "markdown",
      "metadata": {
        "id": "KGevotqJ_sN1"
      },
      "source": [
        "### Collection notes"
      ]
    },
    {
      "cell_type": "markdown",
      "metadata": {
        "id": "0-ufvqTg_yP9"
      },
      "source": [
        "Generate a list of notes for each collection from the `collection_note` table. \n",
        "Users can add notes when starting a spider or via the cli. Transforms can also add notes."
      ]
    },
    {
      "cell_type": "code",
      "metadata": {
        "id": "U0x8mo8Yyj39"
      },
      "source": [
        "%%sql\n",
        "\n",
        "SELECT\n",
        "\tcollection_id,\n",
        "\tnote\n",
        "FROM\n",
        "\tcollection_note\n",
        "WHERE\n",
        "\tcollection_id IN :collection_ids"
      ],
      "execution_count": null,
      "outputs": []
    },
    {
      "cell_type": "markdown",
      "metadata": {
        "id": "Q-YliQK-_5PP"
      },
      "source": [
        "### Collection file errors"
      ]
    },
    {
      "cell_type": "markdown",
      "metadata": {
        "id": "fY0i9io4_90a"
      },
      "source": [
        "Generate a summary of errors and warnings from the `collection_file` table.\n",
        "Kingfisher Collect and the `local-load` command report errors when they cannot retrieve a file.\n",
        "Kingfisher Process reports warnings when it needs to modify the contents of a file in order to store it.\n",
        "Presently, the only warning is about the removal of control characters."
      ]
    },
    {
      "cell_type": "code",
      "metadata": {
        "id": "E5CgVL562bbd"
      },
      "source": [
        "%%sql collection_file_error_summary <<\n",
        "\n",
        "SELECT\n",
        "\tcollection_id,\n",
        "\twarnings,\n",
        "  errors,\n",
        "\tcount(*),\n",
        "  (array_agg(filename order by random()))[1:3] as example_filenames,\n",
        "  (array_agg(url order by random()))[1:3] as example_urls\n",
        "FROM\n",
        "\tcollection_file\n",
        "WHERE\n",
        "\tcollection_id IN :collection_ids\n",
        "\tAND (errors IS NOT NULL\n",
        "\tOR warnings IS NOT NULL)\n",
        "GROUP BY\n",
        "\t1,\n",
        "\t2,\n",
        "  3\n",
        "ORDER BY\n",
        "\t4 DESC;\n"
      ],
      "execution_count": null,
      "outputs": []
    },
    {
      "cell_type": "code",
      "metadata": {
        "id": "CY2izeiS_JGi"
      },
      "source": [
        "collection_file_error_summary"
      ],
      "execution_count": null,
      "outputs": []
    },
    {
      "cell_type": "markdown",
      "metadata": {
        "id": "2mXcFyssACKR"
      },
      "source": [
        "Generate a full list of errors and warnings from the `collection_file` table."
      ]
    },
    {
      "cell_type": "code",
      "metadata": {
        "id": "pHsH4fqP0rnY"
      },
      "source": [
        "%%sql collection_file_errors <<\n",
        "\n",
        "SELECT\n",
        "\tcollection_id,\n",
        "\tfilename,\n",
        "\twarnings,\n",
        "\turl,\n",
        "\terrors\n",
        "FROM\n",
        "\tcollection_file\n",
        "WHERE\n",
        "\tcollection_id IN :collection_ids\n",
        "\tAND (errors IS NOT NULL\n",
        "\tOR warnings IS NOT NULL);\n"
      ],
      "execution_count": null,
      "outputs": []
    },
    {
      "cell_type": "code",
      "metadata": {
        "id": "_THCeewgwE8K"
      },
      "source": [
        "collection_file_errors"
      ],
      "execution_count": null,
      "outputs": []
    },
    {
      "cell_type": "markdown",
      "metadata": {
        "id": "MRDaacPxAIOh"
      },
      "source": [
        "### Collection file item errors"
      ]
    },
    {
      "cell_type": "markdown",
      "metadata": {
        "id": "lBboFieoAKyY"
      },
      "source": [
        "Generate a summary of errors and warnings from the `collection_file_item` table.\n",
        "Kingfisher Process reports errors when it cannot load a file item."
      ]
    },
    {
      "cell_type": "code",
      "metadata": {
        "id": "vZ77JoaW3-bV"
      },
      "source": [
        "%%sql collection_file_item_error_summary <<\n",
        "\n",
        "SELECT\n",
        "\tcollection_id,\n",
        "\tcfi.warnings,\n",
        "\tcfi.errors,\n",
        "  count(*)\n",
        "FROM\n",
        "\tcollection_file_item AS cfi\n",
        "JOIN collection_file AS cf ON\n",
        "\tcfi.collection_file_id = cf.id\n",
        "WHERE\n",
        "\tcf.collection_id IN :collection_ids\n",
        "\tAND (cfi.errors IS NOT NULL\n",
        "\tOR cfi.warnings IS NOT NULL )\n",
        "GROUP BY\n",
        "  1,\n",
        "  2,\n",
        "  3\n",
        "ORDER BY\n",
        "  4 DESC;"
      ],
      "execution_count": null,
      "outputs": []
    },
    {
      "cell_type": "code",
      "metadata": {
        "id": "2N8uzloY_O8x"
      },
      "source": [
        "collection_file_item_error_summary"
      ],
      "execution_count": null,
      "outputs": []
    },
    {
      "cell_type": "markdown",
      "metadata": {
        "id": "e6h9arTAAQDX"
      },
      "source": [
        "Generate a full list of errors and warnings from the `collection_file_item` table."
      ]
    },
    {
      "cell_type": "code",
      "metadata": {
        "id": "TCD9v-mW08xL"
      },
      "source": [
        "%%sql collection_file_item_errors <<\n",
        "\n",
        "SELECT\n",
        "\tcfi.number,\n",
        "\tcfi.warnings,\n",
        "\tcfi.errors\n",
        "FROM\n",
        "\tcollection_file_item AS cfi\n",
        "JOIN collection_file AS cf ON\n",
        "\tcfi.collection_file_id = cf.id\n",
        "WHERE\n",
        "\tcf.collection_id IN :collection_ids\n",
        "\tAND (cfi.errors IS NOT NULL\n",
        "\tOR cfi.warnings IS NOT NULL );"
      ],
      "execution_count": null,
      "outputs": []
    },
    {
      "cell_type": "code",
      "metadata": {
        "id": "AwcWIslQ_Tmq"
      },
      "source": [
        "collection_file_item_errors"
      ],
      "execution_count": null,
      "outputs": []
    },
    {
      "cell_type": "markdown",
      "metadata": {
        "id": "jYavV9OEAThs"
      },
      "source": [
        "### Check errors"
      ]
    },
    {
      "cell_type": "markdown",
      "metadata": {
        "id": "ZNTCykfZAVnr"
      },
      "source": [
        "A summary of errors from the `release_check_error` and `record_check_error` tables.\n",
        "CoVE reports errors when it cannot check a release or record."
      ]
    },
    {
      "cell_type": "code",
      "metadata": {
        "id": "wXHs3ZIXZF4G"
      },
      "source": [
        "%%sql check_error_summary <<\n",
        "\n",
        "WITH errors AS (\n",
        "SELECT\n",
        "\tcollection_id,\n",
        "\t'release' AS TYPE,\n",
        "\trelease.id AS release_id,\n",
        "\trelease_check_error.error\n",
        "FROM\n",
        "\trelease_check_error\n",
        "JOIN RELEASE ON\n",
        "\trelease_check_error.release_id = release.id\n",
        "WHERE\n",
        "\trelease.collection_id IN :collection_ids\n",
        "UNION\n",
        "SELECT\n",
        "\tcollection_id,\n",
        "\t'record' AS TYPE,\n",
        "\trecord.id AS record_id,\n",
        "\trecord_check_error.error\n",
        "FROM\n",
        "\trecord_check_error\n",
        "JOIN record ON\n",
        "\trecord_check_error.record_id = record.id\n",
        "WHERE\n",
        "\trecord.collection_id IN :collection_ids)\n",
        "SELECT\n",
        "\tcollection_id,\n",
        "\tTYPE,\n",
        "\terror,\n",
        "\tcount(*),\n",
        "\t(array_agg(release_id\n",
        "ORDER BY\n",
        "\trandom()))[1:3] AS example_release_ids\n",
        "FROM\n",
        "\terrors\n",
        "GROUP BY\n",
        "\t1,\n",
        "\t2,\n",
        "\t3\n",
        "ORDER BY\n",
        "\t4 DESC;\n"
      ],
      "execution_count": null,
      "outputs": []
    },
    {
      "cell_type": "code",
      "metadata": {
        "id": "F3RrH_3t_egR"
      },
      "source": [
        "check_error_summary"
      ],
      "execution_count": null,
      "outputs": []
    },
    {
      "cell_type": "markdown",
      "metadata": {
        "id": "xY94PIGGAXpi"
      },
      "source": [
        "Generate a full list of errors from the `release_check_error` and `record_check_error` tables."
      ]
    },
    {
      "cell_type": "code",
      "metadata": {
        "id": "7AtixVvm3Nx-"
      },
      "source": [
        "%%sql check_errors <<\n",
        "\n",
        "SELECT\n",
        "\tcollection_id,\n",
        "  'release' AS type,\n",
        "\trelease.id AS release_id,\n",
        "\trelease_check_error.error\n",
        "FROM\n",
        "\trelease_check_error\n",
        "JOIN RELEASE ON\n",
        "\trelease_check_error.release_id = release.id\n",
        "WHERE\n",
        "\trelease.collection_id IN :collection_ids\n",
        "UNION\n",
        "SELECT\n",
        "\tcollection_id,\n",
        "  'record' AS type,\n",
        "\trecord.id AS record_id,\n",
        "\trecord_check_error.error\n",
        "FROM\n",
        "\trecord_check_error\n",
        "JOIN record ON\n",
        "\trecord_check_error.record_id = record.id\n",
        "WHERE\n",
        "\trecord.collection_id IN :collection_ids;"
      ],
      "execution_count": null,
      "outputs": []
    },
    {
      "cell_type": "code",
      "metadata": {
        "id": "4UOCStcb_k5O"
      },
      "source": [
        "check_errors"
      ],
      "execution_count": null,
      "outputs": []
    }
  ]
}