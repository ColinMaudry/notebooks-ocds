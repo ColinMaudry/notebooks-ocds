{
 "nbformat": 4,
 "nbformat_minor": 0,
 "metadata": {
  "colab": {
   "name": "data_collection_and_processing_errors",
   "provenance": []
  },
  "kernelspec": {
   "name": "python3",
   "display_name": "Python 3"
  }
 },
 "cells": [
  {
   "cell_type": "markdown",
   "metadata": {
    "id": "pP9KsYyT1Xnd"
   },
   "source": [
    "## Check for data collection and processing errors\n",
    "\n",
    "See [how to review the Kingfisher Collect crawl’s log file](https://kingfisher-collect.readthedocs.io/en/latest/logs.html). **Note:** There is an open [pull request](https://github.com/open-contracting/notebooks-ocds/pull/44) to automate this. If interested, please comment on the pull request to prioritize it.\n",
    "\n",
    "List the notes for each of your collections.\n",
    "\n",
    "Users add a note when starting a crawl and when running the `load` command.\n",
    "\n",
    "Kingfisher Process adds notes (the `note` column) at different levels (the `code` column):\n",
    "\n",
    "- INFO:\n",
    "  - load: The Kingfisher Collect crawl's reason for closing and statistics (the `data` column).\n",
    "- WARNING:\n",
    "  - compile: When a record has undated releases, linked releases or no releases, but a compiled release can be calculated (by using any dated releases, the `compiledRelease` field, or an undated release with a 'compiled' tag).\n",
    "- ERROR:\n",
    "  - load: When the input data is invalid JSON.\n",
    "  - load: When Kingfisher Collect yielded a `FileError` item.\n",
    "  - compile: When no compiled release can be calculated for a record.\n",
    "\n",
    "Confirm any errors or warnings by manually checking the published JSON."
   ]
  },
  {
   "cell_type": "code",
   "metadata": {
    "id": "U0x8mo8Yyj39"
   },
   "source": [
    "%%sql\n",
    "\n",
    "SELECT\n",
    "    collection_id,\n",
    "    code,\n",
    "    note,\n",
    "    data\n",
    "FROM\n",
    "    collection_note\n",
    "WHERE\n",
    "    collection_id IN :collection_ids\n"
   ],
   "execution_count": null,
   "outputs": []
  }
 ]
}
