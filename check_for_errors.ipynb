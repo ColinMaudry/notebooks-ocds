{
 "nbformat": 4,
 "nbformat_minor": 0,
 "metadata": {
  "colab": {
   "name": "data_collection_and_processing_errors",
   "provenance": []
  },
  "kernelspec": {
   "name": "python3",
   "display_name": "Python 3"
  }
 },
 "cells": [
  {
   "cell_type": "markdown",
   "metadata": {
    "id": "pP9KsYyT1Xnd"
   },
   "source": [
    "## Check for data collection and processing errors"
   ]
  },
  {
   "cell_type": "markdown",
   "metadata": {
    "id": "0-ufvqTg_yP9"
   },
   "source": [
    "Generate a list of notes for each collection from the `collection_note` table.\n",
    "Users can add notes when starting a spider and when running the `load` command. Processing steps also add notes at different levels.\n",
    "\n",
    "- INFO:\n",
    "  - load: The Kingfisher Collect crawl's statistics and reason for closing.\n",
    "- WARNING:\n",
    "  - compile: If a record has undated releases, linked releases or no releases, but a compiled release can be calculated (by using any dated releases, the `compiledRelease` field, or an undated release with a 'compiled' tag).\n",
    "- ERROR:\n",
    "  - load: If the input data is invalid JSON.\n",
    "  - load: If Kingfisher Collect yielded a `FileError` item.\n",
    "  - compile: If no compiled release can be calculated for a record."
   ]
  },
  {
   "cell_type": "code",
   "metadata": {
    "id": "U0x8mo8Yyj39"
   },
   "source": [
    "%%sql\n",
    "\n",
    "SELECT\n",
    "    collection_id,\n",
    "    code,\n",
    "    note,\n",
    "    data\n",
    "FROM\n",
    "    collection_note\n",
    "WHERE\n",
    "    collection_id IN :collection_ids\n"
   ],
   "execution_count": null,
   "outputs": []
  }
 ]
}
