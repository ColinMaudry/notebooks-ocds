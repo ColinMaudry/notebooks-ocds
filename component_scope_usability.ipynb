{
  "nbformat": 4,
  "nbformat_minor": 0,
  "metadata": {
    "colab": {
      "provenance": [],
      "toc_visible": true
    },
    "kernelspec": {
      "name": "python3",
      "display_name": "Python 3"
    }
  },
  "cells": [
    {
      "cell_type": "markdown",
      "source": [
        "## Calculate general statistics"
      ],
      "metadata": {
        "id": "tnSzwOTTRbgE"
      }
    },
    {
      "cell_type": "markdown",
      "source": [
        "Use this section to have an overview of the dataset in terms of fields published, stages covered and key summary statistics.  You can add any additional queries as needed.  "
      ],
      "metadata": {
        "id": "rjpK7uocUeW4"
      }
    },
    {
      "cell_type": "markdown",
      "source": [
        "###Fields published"
      ],
      "metadata": {
        "id": "7VRH7RmPRfBD"
      }
    },
    {
      "cell_type": "markdown",
      "source": [
        "Calculate the fields published"
      ],
      "metadata": {
        "id": "uVaXeoF7U6bV"
      }
    },
    {
      "cell_type": "code",
      "source": [
        "%%sql fields_table <<\n",
        "\n",
        "SELECT\n",
        "    path,\n",
        "    distinct_releases\n",
        "FROM\n",
        "    field_counts\n",
        "WHERE\n",
        "    release_type = 'compiled_release'\n"
      ],
      "metadata": {
        "id": "6KgBNO1QUuL4"
      },
      "execution_count": null,
      "outputs": []
    },
    {
      "cell_type": "code",
      "source": [
        "fields_table"
      ],
      "metadata": {
        "id": "J7Eieoo9U8Ku"
      },
      "execution_count": null,
      "outputs": []
    },
    {
      "cell_type": "markdown",
      "source": [
        "Save fields table in spreadsheet:"
      ],
      "metadata": {
        "id": "Z-KSlo8Vb69M"
      }
    },
    {
      "cell_type": "code",
      "source": [
        "save_dataframe_to_sheet(fields_table, \"fields\")"
      ],
      "metadata": {
        "id": "9CaaBbFLb6dl"
      },
      "execution_count": null,
      "outputs": []
    },
    {
      "cell_type": "markdown",
      "source": [
        "### Stages covered"
      ],
      "metadata": {
        "id": "shGR-DXCcDkx"
      }
    },
    {
      "cell_type": "code",
      "source": [
        "%%sql stages <<\n",
        "\n",
        "WITH field_counts AS (\n",
        "    SELECT *\n",
        "    FROM\n",
        "        field_counts\n",
        "    WHERE\n",
        "        release_type = 'compiled_release'\n",
        "        AND path IN (\n",
        "            'planning',\n",
        "            'tender',\n",
        "            'awards',\n",
        "            'contracts',\n",
        "            'contracts/implementation'\n",
        "        )\n",
        ")\n",
        "SELECT\n",
        "    CASE\n",
        "        WHEN paths.path = 'contracts/implementation'\n",
        "            THEN\n",
        "                'implementation'\n",
        "        ELSE\n",
        "            paths.path\n",
        "    END AS stage,\n",
        "    CASE\n",
        "        WHEN\n",
        "            paths.path IN ('planning', 'tender', 'contracts/implementation')\n",
        "            THEN\n",
        "                GREATEST(field_counts.object_property, 0)\n",
        "        ELSE\n",
        "            GREATEST(field_counts.array_count, 0)\n",
        "    END AS object_count\n",
        "FROM (\n",
        "    SELECT\n",
        "        UNNEST(\n",
        "            ARRAY[\n",
        "                'planning',\n",
        "                'tender',\n",
        "                'awards',\n",
        "                'contracts',\n",
        "                'contracts/implementation'\n",
        "            ]\n",
        "        ) AS path\n",
        ") AS paths\n",
        "LEFT JOIN field_counts USING (path)\n"
      ],
      "metadata": {
        "id": "APMabfEPcPui"
      },
      "execution_count": null,
      "outputs": []
    },
    {
      "cell_type": "code",
      "source": [
        "stages"
      ],
      "metadata": {
        "id": "f40SbJg0cbvp"
      },
      "execution_count": null,
      "outputs": []
    },
    {
      "cell_type": "code",
      "source": [
        "plot_objects_per_stage(stages)"
      ],
      "metadata": {
        "id": "zGNrN_occdW5"
      },
      "execution_count": null,
      "outputs": []
    },
    {
      "cell_type": "markdown",
      "source": [
        "### Number of tenders and awards by date"
      ],
      "metadata": {
        "id": "TbpO9Jc6c6wQ"
      }
    },
    {
      "cell_type": "code",
      "source": [
        "%%sql dates <<\n",
        "\n",
        "WITH tenders AS (\n",
        "    SELECT\n",
        "        extract(YEAR FROM tenderperiod_startdate) AS year,\n",
        "        count(*) AS tenders\n",
        "    FROM\n",
        "        tender_summary\n",
        "    WHERE\n",
        "        release_type = 'compiled_release'\n",
        "    GROUP BY\n",
        "        year\n",
        "    ORDER BY\n",
        "        year\n",
        "),\n",
        "\n",
        "awards AS (\n",
        "    SELECT\n",
        "        extract(YEAR FROM date) AS year,\n",
        "        count(*) AS awards\n",
        "    FROM\n",
        "        awards_summary\n",
        "    WHERE\n",
        "        release_type = 'compiled_release'\n",
        "    GROUP BY\n",
        "        year\n",
        "    ORDER BY\n",
        "        year\n",
        ")\n",
        "\n",
        "SELECT\n",
        "    t.year,\n",
        "    tenders,\n",
        "    awards\n",
        "FROM\n",
        "    tenders AS t\n",
        "FULL JOIN awards AS a ON t.year = a.year\n"
      ],
      "metadata": {
        "id": "twYK088Dc79V"
      },
      "execution_count": null,
      "outputs": []
    },
    {
      "cell_type": "code",
      "source": [
        "dates"
      ],
      "metadata": {
        "id": "cPEHTK67Mp6P"
      },
      "execution_count": null,
      "outputs": []
    },
    {
      "cell_type": "code",
      "source": [
        "plot_objects_per_year(dates)"
      ],
      "metadata": {
        "id": "ZFUPPW51dF4m"
      },
      "execution_count": null,
      "outputs": []
    },
    {
      "cell_type": "markdown",
      "source": [
        "### Procurement methods used"
      ],
      "metadata": {
        "id": "g5n8QT44dKT1"
      }
    },
    {
      "cell_type": "code",
      "source": [
        "%%sql\n",
        "\n",
        "SELECT\n",
        "    procurementmethod,\n",
        "    count(DISTINCT ocid),\n",
        "    round((count(*) * 100.0 / sum(count(*)) OVER ()), 1) AS proportion\n",
        "FROM\n",
        "    tender_summary\n",
        "WHERE\n",
        "    release_type = 'compiled_release'\n",
        "GROUP BY\n",
        "    procurementmethod\n",
        "ORDER BY\n",
        "    proportion DESC\n"
      ],
      "metadata": {
        "id": "zybYaAktdPeq"
      },
      "execution_count": null,
      "outputs": []
    },
    {
      "cell_type": "code",
      "source": [
        "%%sql\n",
        "\n",
        "SELECT\n",
        "    tender ->> 'procurementMethodDetails' AS method,\n",
        "    count(DISTINCT ocid),\n",
        "    round((count(*) * 100.0 / sum(count(*)) OVER ()), 1) AS proportion\n",
        "FROM\n",
        "    tender_summary\n",
        "WHERE\n",
        "    release_type = 'compiled_release'\n",
        "GROUP BY\n",
        "    method\n",
        "ORDER BY\n",
        "    proportion DESC\n"
      ],
      "metadata": {
        "id": "9nGLJhu9dgyU"
      },
      "execution_count": null,
      "outputs": []
    },
    {
      "cell_type": "markdown",
      "source": [
        "### Number of procedures by buyer"
      ],
      "metadata": {
        "id": "_QlQDgw1hzdL"
      }
    },
    {
      "cell_type": "code",
      "source": [
        "%%sql buyers <<\n",
        "\n",
        "SELECT\n",
        "    identifier AS party_id,\n",
        "    party -> 'name' AS name,\n",
        "    count(DISTINCT ocid) AS total_tenders\n",
        "FROM\n",
        "    parties_summary\n",
        "WHERE\n",
        "    roles::text ILIKE '%%buyer%%'\n",
        "    AND release_type = 'compiled_release'\n",
        "GROUP BY\n",
        "    identifier,\n",
        "    party -> 'name'\n",
        "ORDER BY\n",
        "    total_tenders DESC\n"
      ],
      "metadata": {
        "id": "3V7AjxJXh17K"
      },
      "execution_count": null,
      "outputs": []
    },
    {
      "cell_type": "code",
      "source": [
        "buyers.head(10)"
      ],
      "metadata": {
        "id": "u-fpK7O-iEya"
      },
      "execution_count": null,
      "outputs": []
    },
    {
      "cell_type": "code",
      "source": [
        "plot_top_buyers(buyers.head(10))"
      ],
      "metadata": {
        "id": "KmgHVCXaiCeG"
      },
      "execution_count": null,
      "outputs": []
    }
  ]
}
