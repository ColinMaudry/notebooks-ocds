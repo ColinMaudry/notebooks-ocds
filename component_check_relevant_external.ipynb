{
  "nbformat": 4,
  "nbformat_minor": 0,
  "metadata": {
    "colab": {
      "provenance": [],
      "toc_visible": true
    },
    "kernelspec": {
      "name": "python3",
      "display_name": "Python 3"
    }
  },
  "cells": [
    {
      "cell_type": "markdown",
      "source": [
        "## Relevance analysis"
      ],
      "metadata": {
        "id": "s75VrpzLRNkx"
      }
    },
    {
      "cell_type": "markdown",
      "source": [
        "Use this section to assess if the publication contains the required fields to answer \"who bought what from whom, for how much, when and how\" for some subset of contracting processes."
      ],
      "metadata": {
        "id": "pSR2il4VRPmJ"
      }
    },
    {
      "cell_type": "markdown",
      "source": [
        "Generate a list of the fields published:"
      ],
      "metadata": {
        "id": "HTkFw9jajocD"
      }
    },
    {
      "cell_type": "code",
      "source": [
        "fields_list = fields_table.iloc[:, 0].tolist()"
      ],
      "metadata": {
        "id": "MgZ3TsCOjozN"
      },
      "execution_count": null,
      "outputs": []
    },
    {
      "cell_type": "code",
      "source": [
        "relevant, result = is_relevant(fields_list)"
      ],
      "metadata": {
        "id": "xrxFlHz9Hk48"
      },
      "execution_count": null,
      "outputs": []
    },
    {
      "cell_type": "markdown",
      "source": [
        "### Does the publication pass the relevant criterion?"
      ],
      "metadata": {
        "id": "Fvej9yl_H5oE"
      }
    },
    {
      "cell_type": "code",
      "execution_count": null,
      "outputs": [],
      "source": [
        "relevant"
      ],
      "metadata": {
        "collapsed": false
      }
    },
    {
      "cell_type": "markdown",
      "source": [
        "### Why?"
      ],
      "metadata": {
        "id": "QaMrXgqBH-nD"
      }
    },
    {
      "cell_type": "code",
      "source": [
        "result"
      ],
      "metadata": {
        "id": "GVZIlbRaIAFc"
      },
      "execution_count": null,
      "outputs": []
    },
    {
      "cell_type": "markdown",
      "source": [
        "#### Save the table to a spreadsheet"
      ],
      "metadata": {
        "id": "3001zqj9IxHF"
      }
    },
    {
      "cell_type": "code",
      "source": [
        "save_dataframe_to_sheet(result, \"relevant table\")"
      ],
      "metadata": {
        "id": "Qxb5b7wsI0GM"
      },
      "execution_count": null,
      "outputs": []
    }
  ]
}
