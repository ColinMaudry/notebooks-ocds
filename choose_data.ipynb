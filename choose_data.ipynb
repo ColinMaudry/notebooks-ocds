{
  "nbformat": 4,
  "nbformat_minor": 0,
  "metadata": {
    "colab": {
      "name": "setup_notebook",
      "provenance": [],
      "authorship_tag": "ABX9TyMiMOmUWr69JFRGDb8M/nBc"
    },
    "kernelspec": {
      "name": "python3",
      "display_name": "Python 3"
    }
  },
  "cells": [
    {
      "cell_type": "markdown",
      "metadata": {
        "id": "0h0nJSx6Mzm9"
      },
      "source": [
        "## Choose source, collection and schema"
      ]
    },
    {
      "cell_type": "markdown",
      "metadata": {
        "id": "BqPQPp9kYh5C"
      },
      "source": [
        "Generate a list of schemas and their selected collections:"
      ]
    },
    {
      "cell_type": "code",
      "metadata": {
        "id": "-ln1Dkt5YmGU"
      },
      "source": [
        "%%capture collections\n",
        "\n",
        "import pandas as pd\n",
        "\n",
        "# Get a list of schemas that contain the `selected_collections` table\n",
        "\n",
        "list_schemas = \"\"\"\n",
        "\n",
        "SELECT\n",
        "\tschemaname\n",
        "FROM\n",
        "\tpg_tables\n",
        "WHERE\n",
        "\ttablename = 'selected_collections'\n",
        "\n",
        "\"\"\"\n",
        "\n",
        "schemas = %sql {list_schemas}\n",
        "\n",
        "# Get the selected collections from each schema and store the results in a DataFrame\n",
        "\n",
        "template = \"\"\"\n",
        "\n",
        "SELECT\n",
        "  '{schema}' as schema_name,\n",
        "  array_agg(id) as collections\n",
        "FROM\n",
        "  {schema}.selected_collections\n",
        "\n",
        "  \"\"\"\n",
        "\n",
        "collections_list = pd.DataFrame()\n",
        "\n",
        "for schema in schemas['schemaname'].to_list():\n",
        "\n",
        "  statement = template.format(schema = schema)\n",
        "\n",
        "  collections = %sql {statement}\n",
        "  collections_list = collections_list.append(collections)\n"
      ],
      "execution_count": null,
      "outputs": []
    },
    {
      "cell_type": "markdown",
      "metadata": {
        "id": "OMjVuXeDbLUW"
      },
      "source": [
        "Log errors:"
      ]
    },
    {
      "cell_type": "code",
      "metadata": {
        "id": "53Z2XAMnY7_v"
      },
      "source": [
        "# Some schemas listed in `pg_tables` (and `information_schema.views`) are not accessible, log those errors and warn the user\n",
        "\n",
        "if len(collections.stdout) > 0:\n",
        "  print('`selected_collections` is not accessible for some schemas. See collections.log for details')\n",
        "  %store collections.stdout > collections.log"
      ],
      "execution_count": null,
      "outputs": []
    },
    {
      "cell_type": "markdown",
      "metadata": {
        "id": "et2wBYd9sjxt"
      },
      "source": [
        "Run this cell and use the 'Filter' button to find the `source_id`:"
      ]
    },
    {
      "cell_type": "code",
      "metadata": {
        "id": "ePfMhBSmqYMD"
      },
      "source": [
        "list_source_ids()"
      ],
      "execution_count": null,
      "outputs": []
    },
    {
      "cell_type": "markdown",
      "metadata": {
        "id": "e2KqcQ6Duf-A"
      },
      "source": [
        "Update the `source_id`, run this cell, and use the 'Filter' button to find the `collection_id`(s):"
      ]
    },
    {
      "cell_type": "code",
      "metadata": {
        "id": "ITTvCttGsWj1"
      },
      "source": [
        "source_id = 'uk_contracts_finder'\n",
        "\n",
        "list_collections(source_id)"
      ],
      "execution_count": null,
      "outputs": []
    },
    {
      "cell_type": "markdown",
      "metadata": {
        "id": "vfwcsuV6uu_s"
      },
      "source": [
        "Update the `collection_id`(s), run this cell and use the 'Filter' button to find the schema:"
      ]
    },
    {
      "cell_type": "code",
      "metadata": {
        "id": "aVg-KWfvzcfa"
      },
      "source": [
        "collection_ids = [1883, 1164]  # list of collection_ids \n",
        "collection_ids = tuple(collection_ids)  # convert list to tuple for use in sql queries\n",
        "\n",
        "collections_list = collections_list.astype({'collections': str})\n",
        "                                           \n",
        "collections_list[collections_list['collections'].str.contains('|'.join(str(id) for id in collection_ids))]"
      ],
      "execution_count": null,
      "outputs": []
    },
    {
      "cell_type": "markdown",
      "metadata": {
        "id": "Thk1iyITZft7"
      },
      "source": [
        "Update the `schema` and run the cell:"
      ]
    },
    {
      "cell_type": "code",
      "metadata": {
        "id": "0EvggZNZZxn5"
      },
      "source": [
        "schema_name = 'view_data_collection_1883_1885'\n",
        "\n",
        "set_search_path(schema_name)"
      ],
      "execution_count": null,
      "outputs": []
    }
  ]
}