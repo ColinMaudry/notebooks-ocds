{
  "nbformat": 4,
  "nbformat_minor": 0,
  "metadata": {
    "colab": {
      "provenance": [],
      "toc_visible": true
    },
    "kernelspec": {
      "name": "python3",
      "display_name": "Python 3"
    }
  },
  "cells": [
    {
      "cell_type": "markdown",
      "metadata": {
        "id": "cE548sDyZyG5"
      },
      "source": [
        "## Check for structure and format errors\n",
        "\n",
        "Kingfisher Collect reformats data sources as release packages or record packages. Check the `data_type` class attribute of the [spider](https://github.com/open-contracting/kingfisher-collect/tree/main/kingfisher_scrapy/spiders). If it is not 'release_package' or 'record_package', recommend to the publisher to package their data."
      ]
    },
    {
      "cell_type": "markdown",
      "metadata": {
        "id": "gtzHL_Sul8i3"
      },
      "source": [
        "Kingfisher Process checks data against the OCDS schema using [lib-cove-ocds](https://github.com/open-contracting/lib-cove-ocds), same as the [OCDS Data Review Tool](https://review.standard.open-contracting.org). For release collections, Kingfisher Process stores check results in the `release_check` table. For record collections, Kingfisher Process stores check results in the `record_check` table."
      ]
    },
    {
      "cell_type": "markdown",
      "metadata": {
        "id": "ydqNZpiWWJVT"
      },
      "source": [
        "### Confirm that checks are complete"
      ]
    },
    {
      "cell_type": "markdown",
      "metadata": {
        "id": "cyhI3LAhXZ44"
      },
      "source": [
        "If a crawl is scheduled using Kingfisher Collect, by default, Kingfisher Process performs structural checks. Checking data is the slowest step. For large collections, it is recommended to skip the `check` step or to collect only a sample. Otherwise, there can be a backlog of data to check.\n",
        "\n",
        "Use this query to determine whether checks are complete for your collection(s).\n",
        "\n",
        "If checks are in progress, you should wait for the checks to finish before running the queries in this section."
      ]
    },
    {
      "cell_type": "code",
      "metadata": {
        "id": "nKEuouhtWTiP"
      },
      "source": [
        "%%sql\n",
        "\n",
        "\n",
        "SELECT\n",
        "    collection_id,\n",
        "    'release' AS collection_type,\n",
        "    CASE WHEN count(release.id) = count(release_check.id) THEN\n",
        "        'complete'\n",
        "    WHEN count(release_check.id) = 0 THEN\n",
        "        'not_started'\n",
        "    ELSE\n",
        "        'in_progress'\n",
        "    END AS check_status,\n",
        "    count(release_check.id)::text || '/' || count(release.id)::text AS check_progress\n",
        "FROM\n",
        "    release_check\n",
        "    RIGHT JOIN release ON release_check.release_id = release.id\n",
        "WHERE\n",
        "    collection_id IN :collection_ids\n",
        "GROUP BY\n",
        "    collection_id\n",
        "UNION\n",
        "SELECT\n",
        "    collection_id,\n",
        "    'record' AS collection_type,\n",
        "    CASE WHEN count(record.id) = count(record_check.id) THEN\n",
        "        'complete'\n",
        "    WHEN count(record_check.id) = 0 THEN\n",
        "        'not_started'\n",
        "    ELSE\n",
        "        'in_progress'\n",
        "    END AS check_status,\n",
        "    count(record_check.id)::text || '/' || count(record.id)::text AS check_progress\n",
        "FROM\n",
        "    record_check\n",
        "    RIGHT JOIN record ON record_check.record_id = record.id\n",
        "WHERE\n",
        "    collection_id IN :collection_ids\n",
        "GROUP BY\n",
        "    collection_id;\n",
        "\n"
      ],
      "execution_count": null,
      "outputs": []
    },
    {
      "cell_type": "markdown",
      "metadata": {
        "id": "uTeVs0jnlgHu"
      },
      "source": [
        "### Error summary"
      ]
    },
    {
      "cell_type": "markdown",
      "metadata": {
        "id": "XGxn_SwCllq4"
      },
      "source": [
        "Summarize the errors from the `release_check` and `record_check` tables."
      ]
    },
    {
      "cell_type": "code",
      "metadata": {
        "id": "ncEmto9mc_wI"
      },
      "source": [
        "%%sql structure_and_format_error_summary <<\n",
        "\n",
        "\n",
        "WITH errors AS (\n",
        "    SELECT\n",
        "        collection_id,\n",
        "        errors ->> 'type' AS error_type,\n",
        "        LEFT (errors ->> 'description',\n",
        "            49000) AS error,\n",
        "        ocid,\n",
        "        errors ->> 'field' AS field,\n",
        "        errors ->> 'value' AS value,\n",
        "        row_number() OVER (PARTITION BY collection_id,\n",
        "            errors ->> 'type',\n",
        "        LEFT (errors ->> 'description',\n",
        "        49000)) AS rownum\n",
        "FROM\n",
        "    release_check rc\n",
        "    CROSS JOIN jsonb_array_elements(cove_output -> 'validation_errors') AS errors\n",
        "    JOIN RELEASE r ON rc.release_id = r.id\n",
        "    WHERE\n",
        "        collection_id IN :collection_ids\n",
        "    UNION ALL\n",
        "    SELECT\n",
        "        collection_id,\n",
        "        errors ->> 'type' AS error_type,\n",
        "        LEFT (errors ->> 'description',\n",
        "            49000) AS error,\n",
        "        ocid,\n",
        "        errors ->> 'field' AS field,\n",
        "        errors ->> 'value' AS value,\n",
        "        row_number() OVER (PARTITION BY collection_id,\n",
        "            errors ->> 'type',\n",
        "        LEFT (errors ->> 'description',\n",
        "        49000)) AS rownum\n",
        "FROM\n",
        "    record_check rc\n",
        "    CROSS JOIN jsonb_array_elements(cove_output -> 'validation_errors') AS errors\n",
        "    JOIN record r ON rc.record_id = r.id\n",
        "    WHERE\n",
        "        collection_id IN :collection_ids\n",
        "),\n",
        "examples AS (\n",
        "    SELECT\n",
        "        collection_id,\n",
        "        error_type,\n",
        "        field,\n",
        "        error,\n",
        "        array_agg(ocid) AS example_ocids,\n",
        "        array_agg(value) AS example_values\n",
        "    FROM\n",
        "        errors\n",
        "    WHERE\n",
        "        rownum <= 3\n",
        "    GROUP BY\n",
        "        collection_id,\n",
        "        error_type,\n",
        "        field,\n",
        "        error\n",
        ")\n",
        "SELECT\n",
        "    collection_id,\n",
        "    error_type,\n",
        "    errors.field,\n",
        "    error,\n",
        "    count(*) AS count,\n",
        "    example_ocids,\n",
        "    example_values\n",
        "FROM\n",
        "    errors\n",
        "    JOIN examples USING (collection_id, error_type, error)\n",
        "GROUP BY\n",
        "    collection_id,\n",
        "    error_type,\n",
        "    errors.field,\n",
        "    error,\n",
        "    example_ocids,\n",
        "    example_values;\n",
        "\n"
      ],
      "execution_count": null,
      "outputs": []
    },
    {
      "cell_type": "code",
      "metadata": {
        "id": "zeOz07-jedqT"
      },
      "source": [
        "structure_and_format_error_summary"
      ],
      "execution_count": null,
      "outputs": []
    },
    {
      "cell_type": "markdown",
      "metadata": {
        "id": "ZfdR-wgKpFmT"
      },
      "source": [
        "### Error details"
      ]
    },
    {
      "cell_type": "markdown",
      "metadata": {
        "id": "tCw4uaq3mwVT"
      },
      "source": [
        "List all errors from the `release_check` and `record_check` tables."
      ]
    },
    {
      "cell_type": "code",
      "metadata": {
        "id": "QKRzlq22m0S-"
      },
      "source": [
        "%%sql structure_and_format_errors <<\n",
        "\n",
        "\n",
        "SELECT\n",
        "    collection_id,\n",
        "    'release' AS collection_type,\n",
        "    errors ->> 'type' AS error_type,\n",
        "    errors ->> 'field' AS field,\n",
        "    LEFT (errors ->> 'description',\n",
        "        49000) AS error,\n",
        "    ocid,\n",
        "    errors ->> 'value' AS value\n",
        "FROM\n",
        "    release_check rc\n",
        "    CROSS JOIN jsonb_array_elements(cove_output -> 'validation_errors') AS errors\n",
        "    JOIN RELEASE r ON rc.release_id = r.id\n",
        "WHERE\n",
        "    collection_id IN :collection_ids\n",
        "UNION ALL\n",
        "SELECT\n",
        "    collection_id,\n",
        "    'record' AS collection_type,\n",
        "    errors ->> 'type' AS error_type,\n",
        "    errors ->> 'field' AS field,\n",
        "    LEFT (errors ->> 'description',\n",
        "        49000) AS error,\n",
        "    ocid,\n",
        "    errors ->> 'value' AS value\n",
        "FROM\n",
        "    record_check rc\n",
        "    CROSS JOIN jsonb_array_elements(cove_output -> 'validation_errors') AS errors\n",
        "    JOIN record r ON rc.record_id = r.id\n",
        "WHERE\n",
        "    collection_id IN :collection_ids\n"
      ],
      "execution_count": null,
      "outputs": []
    },
    {
      "cell_type": "code",
      "metadata": {
        "id": "q3cKo_dnvdvQ"
      },
      "source": [
        "structure_and_format_errors"
      ],
      "execution_count": null,
      "outputs": []
    }
  ]
}
