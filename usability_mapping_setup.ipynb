{
  "nbformat": 4,
  "nbformat_minor": 0,
  "metadata": {
    "colab": {
      "provenance": [],
      "toc_visible": true,
      "include_colab_link": true
    },
    "kernelspec": {
      "name": "python3",
      "display_name": "Python 3"
    }
  },
  "cells": [
    {
      "cell_type": "markdown",
      "metadata": {
        "id": "view-in-github",
        "colab_type": "text"
      },
      "source": [
        "<a href=\"https://colab.research.google.com/github/open-contracting/notebooks-ocds/blob/usability-notebooks/usability_mapping_setup.ipynb\" target=\"_parent\"><img src=\"https://colab.research.google.com/assets/colab-badge.svg\" alt=\"Open In Colab\"/></a>"
      ]
    },
    {
      "cell_type": "markdown",
      "source": [
        "## Usability for mapping templates set up"
      ],
      "metadata": {
        "id": "OO6GyDGyfKmp"
      }
    },
    {
      "cell_type": "markdown",
      "source": [
        "Use this section to set up the notebook to perform a usability analysis for mapping templates or when you have a list of OCDS fields for a specific publisher, but none OCDS data has been published yet."
      ],
      "metadata": {
        "id": "_QzvJNLUUINJ"
      }
    },
    {
      "cell_type": "markdown",
      "source": [
        "### General set up"
      ],
      "metadata": {
        "id": "dVxpD5SeTzfB"
      }
    },
    {
      "cell_type": "markdown",
      "source": [
        "*You must run the cells in this section each time you connect to a new runtime. For example, when you return to the notebook after an idle timeout, when the runtime crashes, or when you restart or factory reset the runtime.*"
      ],
      "metadata": {
        "id": "l47sLcuTfXFD"
      }
    },
    {
      "cell_type": "markdown",
      "source": [
        "Install requirements:"
      ],
      "metadata": {
        "id": "PW_loW4wfcL7"
      }
    },
    {
      "cell_type": "code",
      "source": [
        "!pip install --upgrade 'ocdskingfishercolab<0.4' psycopg2-binary > pip.log"
      ],
      "metadata": {
        "id": "Onm37OUYfetp"
      },
      "execution_count": null,
      "outputs": []
    },
    {
      "cell_type": "markdown",
      "source": [
        "Import packages and load extensions:"
      ],
      "metadata": {
        "id": "GtkawLM6ffXT"
      }
    },
    {
      "cell_type": "code",
      "source": [
        "import pandas as pd\n",
        "import plotly.express as px\n",
        "from ipywidgets import widgets\n",
        "from google.colab.files import download\n",
        "from google.colab import data_table\n",
        "\n",
        "from ocdskingfishercolab import (\n",
        "    set_spreadsheet_name,\n",
        "    save_dataframe_to_sheet,\n",
        "    download_dataframe_as_csv)\n",
        "\n",
        "# Load https://pypi.org/project/ipython-sql/\n",
        "%load_ext sql\n",
        "# Load https://colab.research.google.com/notebooks/data_table.ipynb\n",
        "%load_ext google.colab.data_table"
      ],
      "metadata": {
        "id": "KpcoMbXBfjuL"
      },
      "execution_count": null,
      "outputs": []
    },
    {
      "cell_type": "markdown",
      "source": [
        "Set the name of the spreadsheet to export results to:"
      ],
      "metadata": {
        "id": "OczN7wRpf0JR"
      }
    },
    {
      "cell_type": "code",
      "source": [
        "spreadsheet_name = 'feedback_results'\n",
        "\n",
        "set_spreadsheet_name(spreadsheet_name)"
      ],
      "metadata": {
        "id": "eIs4pX4gf0rf"
      },
      "execution_count": null,
      "outputs": []
    },
    {
      "cell_type": "markdown",
      "source": [
        "### Import data file"
      ],
      "metadata": {
        "id": "UtrG7k-HgSZ8"
      }
    },
    {
      "cell_type": "markdown",
      "source": [
        "To run this notebook, you need to have the list of fields that the publisher is intended to publish. You can get that list from their mapping template. We currently don't have an automatic way to extract the list from the template, so you must get this list manually.\n",
        "\n",
        "Upload an excel file that includes the list of fields available in a column (no header).  Change the name of the file below. The list of fields must have the object/field_name format, for example `tender/id`."
      ],
      "metadata": {
        "id": "II0mATgefP8R"
      }
    },
    {
      "cell_type": "code",
      "source": [
        "file='ADD FILE'"
      ],
      "metadata": {
        "id": "LnELmZSngWT9"
      },
      "execution_count": null,
      "outputs": []
    },
    {
      "cell_type": "markdown",
      "source": [
        "Transform the file into a dataframe\n"
      ],
      "metadata": {
        "id": "0bcLPiPXgeJ-"
      }
    },
    {
      "cell_type": "code",
      "source": [
        "fields_table = pd.read_excel(file, header=None)\n",
        "fields_table"
      ],
      "metadata": {
        "id": "ajkXtOdFggt9"
      },
      "execution_count": null,
      "outputs": []
    },
    {
      "cell_type": "markdown",
      "source": [
        "Save fields table to a spreadsheet.  Save the spreadsheet in the relevant publisher folder."
      ],
      "metadata": {
        "id": "u4oAWVy5hc_P"
      }
    },
    {
      "cell_type": "code",
      "source": [
        "save_dataframe_to_sheet(fields_table, 'fields')"
      ],
      "metadata": {
        "id": "sUQBCO7zheuh"
      },
      "execution_count": null,
      "outputs": []
    }
  ]
}