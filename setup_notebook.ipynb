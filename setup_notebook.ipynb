{
  "nbformat": 4,
  "nbformat_minor": 0,
  "metadata": {
    "colab": {
      "name": "setup_notebook",
      "provenance": [],
      "authorship_tag": "ABX9TyOCNJhmbrRGl7iCgmX4T+0q"
    },
    "kernelspec": {
      "name": "python3",
      "display_name": "Python 3"
    }
  },
  "cells": [
    {
      "cell_type": "markdown",
      "metadata": {
        "id": "sfg_SbQWBCmW"
      },
      "source": [
        "## Setup"
      ]
    },
    {
      "cell_type": "markdown",
      "metadata": {
        "id": "FzqTig0g3rCZ"
      },
      "source": [
        "Install Kingfisher Colab and required packages:"
      ]
    },
    {
      "cell_type": "code",
      "metadata": {
        "id": "--8vgOiP_58f"
      },
      "source": [
        "%%shell\n",
        "\n",
        "pip install --upgrade 'ocdskingfishercolab<0.4' pandas psycopg2-binary > pip.log"
      ],
      "execution_count": null,
      "outputs": []
    },
    {
      "cell_type": "markdown",
      "metadata": {
        "id": "xaXSxY_cEfw2"
      },
      "source": [
        "Import functions:"
      ]
    },
    {
      "cell_type": "code",
      "metadata": {
        "id": "XzPgGs7GEimL"
      },
      "source": [
        "from ocdskingfishercolab import (\n",
        "    list_source_ids,\n",
        "    list_collections,\n",
        "    set_spreadsheet_name,\n",
        "    save_dataframe_to_sheet,\n",
        "    set_search_path)"
      ],
      "execution_count": null,
      "outputs": []
    },
    {
      "cell_type": "markdown",
      "metadata": {
        "id": "k8lxOH4T5rWA"
      },
      "source": [
        "Load [ipython-sql](https://pypi.org/project/ipython-sql/) and [data_table](https://colab.research.google.com/notebooks/data_table.ipynb) extensions. Set config."
      ]
    },
    {
      "cell_type": "code",
      "metadata": {
        "id": "6ogai3aQ5iKc"
      },
      "source": [
        "%load_ext sql\n",
        "%load_ext google.colab.data_table\n",
        "%config SqlMagic.autopandas = True  # Return Pandas DataFrames instead of regular result sets\n",
        "%config SqlMagic.displaycon = False  # Don't show connection string after execute\n",
        "%config SqlMagic.feedback = False  # Don't print number of rows affected by DML"
      ],
      "execution_count": null,
      "outputs": []
    },
    {
      "cell_type": "markdown",
      "metadata": {
        "id": "z4-iWuZRhoEe"
      },
      "source": [
        "Enter credentials and connect to database:\n",
        "\n",
        "> **Helpdesk analysts:** See [CRM-6335](https://crm.open-contracting.org/issues/6335)."
      ]
    },
    {
      "cell_type": "code",
      "metadata": {
        "id": "IVy70_JfeV9C"
      },
      "source": [
        "import getpass\n",
        "\n",
        "print('Enter your Kingfisher credentials')\n",
        "user = input('Username:')\n",
        "password = getpass.getpass('Password:')\n",
        "\n",
        "connection_string = 'postgresql://' + user + ':' + password + '@postgres-readonly.kingfisher.open-contracting.org/ocdskingfisherprocess?sslmode=require'\n",
        "\n",
        "%sql $connection_string"
      ],
      "execution_count": null,
      "outputs": []
    },
    {
      "cell_type": "markdown",
      "metadata": {
        "id": "BqPQPp9kYh5C"
      },
      "source": [
        "Generate a list of schemas and their selected collections:"
      ]
    },
    {
      "cell_type": "code",
      "metadata": {
        "id": "-ln1Dkt5YmGU"
      },
      "source": [
        "%%capture collections\n",
        "\n",
        "import pandas as pd\n",
        "\n",
        "# Get a list of schemas that contain the `selected_collections` table\n",
        "\n",
        "list_schemas = \"\"\"\n",
        "\n",
        "SELECT\n",
        "\tschemaname\n",
        "FROM\n",
        "\tpg_tables\n",
        "WHERE\n",
        "\ttablename = 'selected_collections'\n",
        "\n",
        "\"\"\"\n",
        "\n",
        "schemas = %sql {list_schemas}\n",
        "\n",
        "# Get the selected collections from each schema and store the results in a DataFrame\n",
        "\n",
        "template = \"\"\"\n",
        "\n",
        "SELECT\n",
        "  '{schema}' as schema_name,\n",
        "  array_agg(id) as collections\n",
        "FROM\n",
        "  {schema}.selected_collections\n",
        "\n",
        "  \"\"\"\n",
        "\n",
        "collections_list = pd.DataFrame()\n",
        "\n",
        "for schema in schemas['schemaname'].to_list():\n",
        "\n",
        "  statement = template.format(schema = schema)\n",
        "\n",
        "  collections = %sql {statement}\n",
        "  collections_list = collections_list.append(collections)\n"
      ],
      "execution_count": null,
      "outputs": []
    },
    {
      "cell_type": "markdown",
      "metadata": {
        "id": "OMjVuXeDbLUW"
      },
      "source": [
        "Log errors:"
      ]
    },
    {
      "cell_type": "code",
      "metadata": {
        "id": "53Z2XAMnY7_v"
      },
      "source": [
        "# Some schemas listed in `pg_tables` (and `information_schema.views`) are not accesible, log those errors and warn the user\n",
        "\n",
        "if len(collections.stdout) > 0:\n",
        "  print('`selected_collections` is not accessible for some schemas. See collections.log for details')\n",
        "  %store collections.stdout > collections.log"
      ],
      "execution_count": null,
      "outputs": []
    }
  ]
}