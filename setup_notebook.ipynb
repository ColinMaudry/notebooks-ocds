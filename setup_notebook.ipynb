{
  "nbformat": 4,
  "nbformat_minor": 0,
  "metadata": {
    "colab": {
      "name": "setup_notebook",
      "provenance": [],
      "authorship_tag": "ABX9TyODL/3GHlGPUA4YsVBZb4Jc",
      "include_colab_link": true
    },
    "kernelspec": {
      "name": "python3",
      "display_name": "Python 3"
    }
  },
  "cells": [
    {
      "cell_type": "markdown",
      "metadata": {
        "id": "view-in-github",
        "colab_type": "text"
      },
      "source": [
        "<a href=\"https://colab.research.google.com/github/duncandewhurst/kingfisher_notebooks/blob/main/setup_notebook.ipynb\" target=\"_parent\"><img src=\"https://colab.research.google.com/assets/colab-badge.svg\" alt=\"Open In Colab\"/></a>"
      ]
    },
    {
      "cell_type": "markdown",
      "metadata": {
        "id": "sfg_SbQWBCmW"
      },
      "source": [
        "## Setup"
      ]
    },
    {
      "cell_type": "markdown",
      "metadata": {
        "id": "FzqTig0g3rCZ"
      },
      "source": [
        "Install Kingfisher Colab and required packages:"
      ]
    },
    {
      "cell_type": "code",
      "metadata": {
        "id": "--8vgOiP_58f"
      },
      "source": [
        "%%shell\n",
        "\n",
        "pip install --upgrade 'ocdskingfishercolab<0.4' pandas psycopg2-binary > pip.log"
      ],
      "execution_count": null,
      "outputs": []
    },
    {
      "cell_type": "markdown",
      "metadata": {
        "id": "xaXSxY_cEfw2"
      },
      "source": [
        "Import functions:"
      ]
    },
    {
      "cell_type": "code",
      "metadata": {
        "id": "XzPgGs7GEimL"
      },
      "source": [
        "from ocdskingfishercolab import (\n",
        "    list_source_ids,\n",
        "    list_collections,\n",
        "    set_spreadsheet_name,\n",
        "    save_dataframe_to_sheet,\n",
        "    set_search_path)"
      ],
      "execution_count": null,
      "outputs": []
    },
    {
      "cell_type": "markdown",
      "metadata": {
        "id": "k8lxOH4T5rWA"
      },
      "source": [
        "Load [ipython-sql](https://pypi.org/project/ipython-sql/) and [data_table](https://colab.research.google.com/notebooks/data_table.ipynb) extensions. Set config."
      ]
    },
    {
      "cell_type": "code",
      "metadata": {
        "id": "6ogai3aQ5iKc"
      },
      "source": [
        "%load_ext sql\n",
        "%load_ext google.colab.data_table\n",
        "%config SqlMagic.autopandas = True  # Return Pandas DataFrames instead of regular result sets\n",
        "%config SqlMagic.displaycon = False  # Don't show connection string after execute\n",
        "%config SqlMagic.feedback = False  # Don't print number of rows affected by DML"
      ],
      "execution_count": null,
      "outputs": []
    },
    {
      "cell_type": "markdown",
      "metadata": {
        "id": "z4-iWuZRhoEe"
      },
      "source": [
        "Enter credentials and connect to database:\n",
        "\n",
        "> **Helpdesk analysts:** See [CRM-6335](https://crm.open-contracting.org/issues/6335)."
      ]
    },
    {
      "cell_type": "code",
      "metadata": {
        "id": "IVy70_JfeV9C"
      },
      "source": [
        "import getpass\n",
        "\n",
        "print('Enter your Kingfisher credentials')\n",
        "user = input('Username:')\n",
        "password = getpass.getpass('Password:')\n",
        "\n",
        "connection_string = 'postgresql://' + user + ':' + password + '@postgres-readonly.kingfisher.open-contracting.org/ocdskingfisherprocess?sslmode=require'\n",
        "\n",
        "%sql $connection_string"
      ],
      "execution_count": null,
      "outputs": []
    },
    {
      "cell_type": "markdown",
      "metadata": {
        "id": "BqPQPp9kYh5C"
      },
      "source": [
        "Generate a list of schemas and their selected collections:"
      ]
    },
    {
      "cell_type": "code",
      "metadata": {
        "id": "-ln1Dkt5YmGU"
      },
      "source": [
        "%%capture collections\n",
        "\n",
        "import pandas as pd\n",
        "\n",
        "# Get a list of schemas that contain the `selected_collections` table\n",
        "\n",
        "list_schemas = \"\"\"\n",
        "\n",
        "SELECT\n",
        "\tschemaname\n",
        "FROM\n",
        "\tpg_tables\n",
        "WHERE\n",
        "\ttablename = 'selected_collections'\n",
        "\n",
        "\"\"\"\n",
        "\n",
        "schemas = %sql {list_schemas}\n",
        "\n",
        "# Get the selected collections from each schema and store the results in a DataFrame\n",
        "\n",
        "template = \"\"\"\n",
        "\n",
        "SELECT\n",
        "  '{schema}' as schema_name,\n",
        "  array_agg(id) as collections\n",
        "FROM\n",
        "  {schema}.selected_collections\n",
        "\n",
        "  \"\"\"\n",
        "\n",
        "collections_list = pd.DataFrame()\n",
        "\n",
        "for schema in schemas['schemaname'].to_list():\n",
        "\n",
        "  statement = template.format(schema = schema)\n",
        "\n",
        "  collections = %sql {statement}\n",
        "  collections_list = collections_list.append(collections)\n"
      ],
      "execution_count": null,
      "outputs": []
    },
    {
      "cell_type": "markdown",
      "metadata": {
        "id": "OMjVuXeDbLUW"
      },
      "source": [
        "Log errors:"
      ]
    },
    {
      "cell_type": "code",
      "metadata": {
        "id": "53Z2XAMnY7_v"
      },
      "source": [
        "# Some schemas listed in `pg_tables` (and `information_schema.views`) are not accessible, log those errors and warn the user\n",
        "\n",
        "if len(collections.stdout) > 0:\n",
        "  print('`selected_collections` is not accessible for some schemas. See collections.log for details')\n",
        "  %store collections.stdout > collections.log"
      ],
      "execution_count": null,
      "outputs": []
    },
    {
      "cell_type": "markdown",
      "metadata": {
        "id": "0h0nJSx6Mzm9"
      },
      "source": [
        "## Choose source, collection and schema"
      ]
    },
    {
      "cell_type": "markdown",
      "metadata": {
        "id": "et2wBYd9sjxt"
      },
      "source": [
        "Run this cell and use the 'Filter' button to find the `source_id`:"
      ]
    },
    {
      "cell_type": "code",
      "metadata": {
        "id": "ePfMhBSmqYMD"
      },
      "source": [
        "list_source_ids()"
      ],
      "execution_count": null,
      "outputs": []
    },
    {
      "cell_type": "markdown",
      "metadata": {
        "id": "e2KqcQ6Duf-A"
      },
      "source": [
        "Update the `source_id`, run this cell, and use the 'Filter' button to find the `collection_id`(s):"
      ]
    },
    {
      "cell_type": "code",
      "metadata": {
        "id": "ITTvCttGsWj1"
      },
      "source": [
        "source_id = 'uk_contracts_finder'\n",
        "\n",
        "list_collections(source_id)"
      ],
      "execution_count": null,
      "outputs": []
    },
    {
      "cell_type": "markdown",
      "metadata": {
        "id": "vfwcsuV6uu_s"
      },
      "source": [
        "Update the `collection_id`(s), run this cell and use the 'Filter' button to find the schema:"
      ]
    },
    {
      "cell_type": "code",
      "metadata": {
        "id": "aVg-KWfvzcfa"
      },
      "source": [
        "collection_ids = [1883, 1164]  # list of collection_ids \n",
        "collection_ids = tuple(collection_ids)  # convert list to tuple for use in sql queries\n",
        "\n",
        "collections_list = collections_list.astype({'collections': str})\n",
        "                                           \n",
        "collections_list[collections_list['collections'].str.contains('|'.join(str(id) for id in collection_ids))]"
      ],
      "execution_count": null,
      "outputs": []
    },
    {
      "cell_type": "markdown",
      "metadata": {
        "id": "Thk1iyITZft7"
      },
      "source": [
        "Update the `schema` and run the cell:"
      ]
    },
    {
      "cell_type": "code",
      "metadata": {
        "id": "0EvggZNZZxn5"
      },
      "source": [
        "schema_name = 'view_data_collection_1883_1885'\n",
        "\n",
        "set_search_path(schema_name)"
      ],
      "execution_count": null,
      "outputs": []
    }
  ]
}