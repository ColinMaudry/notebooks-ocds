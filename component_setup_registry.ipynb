{
  "cells": [
    {
      "cell_type": "markdown",
      "metadata": {
        "id": "25lVf3PwsmmV"
      },
      "source": [
        "## Setup Data Registry"
      ]
    },
    {
      "cell_type": "markdown",
      "metadata": {
        "id": "6fzwlrSLOF3w"
      },
      "source": [
        "### Install Cardinal"
      ]
    },
    {
      "cell_type": "markdown",
      "metadata": {
        "id": "1H6SWBCTDq5G"
      },
      "source": [
        "This notebook uses [Cardinal](https://cardinal.readthedocs.io/en/latest/), a Rust package to calculate red flags with OCDS data."
      ]
    },
    {
      "cell_type": "code",
      "execution_count": 1,
      "metadata": {
        "id": "6syz0fkkEdgj"
      },
      "outputs": [
        {
          "name": "stdout",
          "output_type": "stream",
          "text": [
            "Archive:  ocdscardinal-0.0.5-linux-64-bit.zip\r\n",
            "  inflating: ocdscardinal            \r\n"
          ]
        }
      ],
      "source": [
        "! curl -sSOL https://github.com/open-contracting/cardinal-rs/releases/download/0.0.5/ocdscardinal-0.0.5-linux-64-bit.zip\n",
        "! unzip -oj ocdscardinal-0.0.5-linux-64-bit.zip ocdscardinal-0.0.5-linux-64-bit/ocdscardinal\n",
        "\n",
        "import os"
      ]
    },
    {
      "cell_type": "markdown",
      "metadata": {
        "id": "tAcowhnZEssq"
      },
      "source": [
        "### Download the data from the Data Registry"
      ]
    },
    {
      "cell_type": "markdown",
      "metadata": {
        "id": "NhdIRZGjFWut"
      },
      "source": [
        "To select the data source. go to the [Data Registry](https://data.open-contracting.org/) and select the desired publisher.  For the publisher of choice, copy the URL of a **JSON file**, to paste as input below.\n",
        "\n",
        "**In the registry, you will also find a description of the data source and direct links to the publisher website where you can find more information about the scope of the publication.**\n",
        "\n",
        "<img src=\"https://drive.google.com/uc?id=10dlm8c55pN89YTGEyZgvsLDc8fFMLNf0\"  width=\"200\" height=\"300\">"
      ]
    },
    {
      "cell_type": "code",
      "execution_count": 2,
      "metadata": {
        "id": "qauxqGNfb0-w"
      },
      "outputs": [],
      "source": [
        "url = input(\"URL of JSON file:\")"
      ]
    },
    {
      "cell_type": "code",
      "execution_count": 3,
      "metadata": {
        "id": "RLox7K6WEuuf"
      },
      "outputs": [],
      "source": [
        "! curl -sSOJ \"$url\""
      ]
    },
    {
      "cell_type": "markdown",
      "metadata": {
        "id": "7CXrE3PaeDaA"
      },
      "source": [
        "In the files tab at the left-hand side of the notebook, look for the file ending in `.jsonl.gz` that you downloaded (e.g `chile_compra_api_releases_full.jsonl.gz`), and add it to the command below:\n",
        "\n",
        "<img src=\"https://drive.google.com/uc?id=19z86Nj5OY7Y8REfcd2sZbFPXDTAWZYS6\" width=\"200\" height=\"200\">\n",
        "\n"
      ]
    },
    {
      "cell_type": "code",
      "execution_count": 6,
      "metadata": {
        "id": "E5DV4-cKfhr8"
      },
      "outputs": [],
      "source": [
        "for file in os.listdir(\".\"):\n",
        "    if file.endswith(\".gz\"):\n",
        "        file_name = file.replace(\".gz\", \"\")\n",
        "        break"
      ]
    },
    {
      "cell_type": "code",
      "execution_count": 7,
      "metadata": {
        "id": "AvFAxSCP0LSR"
      },
      "outputs": [],
      "source": [
        "! gunzip -f \"$file_name\""
      ]
    },
    {
      "cell_type": "markdown",
      "metadata": {
        "id": "QoM7K7G3J-PY"
      },
      "source": [
        "### Calculate the field list"
      ]
    },
    {
      "cell_type": "markdown",
      "metadata": {
        "id": "Y-P4qg78KCW7"
      },
      "source": [
        "Use Cardinal's [coverage command](https://cardinal.readthedocs.io/en/latest/cli/coverage.html) to extract the OCDS data fields published in the dataset. Store the results in a dataframe."
      ]
    },
    {
      "cell_type": "code",
      "execution_count": 11,
      "metadata": {
        "id": "mEHY4LwZHMU4"
      },
      "outputs": [],
      "source": [
        "coverage = !./ocdscardinal coverage  $file_name\n",
        "fields = (\n",
        "    pd.DataFrame.from_dict(json.loads(coverage[0]), orient=\"index\", columns=[\"count\"])\n",
        "    .reset_index()\n",
        "    .rename(columns={\"index\": \"path\"})\n",
        ")"
      ]
    },
    {
      "cell_type": "markdown",
      "metadata": {
        "id": "uATcxXQUhb3O"
      },
      "source": [
        "In the table below you will see the list of fields that are published and the number of [OCDS releases](https://standard.open-contracting.org/latest/en/schema/reference/)."
      ]
    },
    {
      "cell_type": "code",
      "execution_count": 12,
      "metadata": {
        "id": "u8jlJP9VH7Xi"
      },
      "outputs": [
        {
          "data": {
            "text/plain": "                                        path  count\n0                                         id    277\n2                                        tag    277\n3                                       date    277\n4                                       ocid    277\n5                                   buyer/id    277\n..                                       ...    ...\n278                              workDetails    146\n279            contracts/relatedProcesses/id      7\n280         contracts/relatedProcesses/title      7\n282  contracts/relatedProcesses/relationship      7\n285               contracts/relatedProcesses      7\n\n[207 rows x 2 columns]",
            "text/html": "<div>\n<style scoped>\n    .dataframe tbody tr th:only-of-type {\n        vertical-align: middle;\n    }\n\n    .dataframe tbody tr th {\n        vertical-align: top;\n    }\n\n    .dataframe thead th {\n        text-align: right;\n    }\n</style>\n<table border=\"1\" class=\"dataframe\">\n  <thead>\n    <tr style=\"text-align: right;\">\n      <th></th>\n      <th>path</th>\n      <th>count</th>\n    </tr>\n  </thead>\n  <tbody>\n    <tr>\n      <th>0</th>\n      <td>id</td>\n      <td>277</td>\n    </tr>\n    <tr>\n      <th>2</th>\n      <td>tag</td>\n      <td>277</td>\n    </tr>\n    <tr>\n      <th>3</th>\n      <td>date</td>\n      <td>277</td>\n    </tr>\n    <tr>\n      <th>4</th>\n      <td>ocid</td>\n      <td>277</td>\n    </tr>\n    <tr>\n      <th>5</th>\n      <td>buyer/id</td>\n      <td>277</td>\n    </tr>\n    <tr>\n      <th>...</th>\n      <td>...</td>\n      <td>...</td>\n    </tr>\n    <tr>\n      <th>278</th>\n      <td>workDetails</td>\n      <td>146</td>\n    </tr>\n    <tr>\n      <th>279</th>\n      <td>contracts/relatedProcesses/id</td>\n      <td>7</td>\n    </tr>\n    <tr>\n      <th>280</th>\n      <td>contracts/relatedProcesses/title</td>\n      <td>7</td>\n    </tr>\n    <tr>\n      <th>282</th>\n      <td>contracts/relatedProcesses/relationship</td>\n      <td>7</td>\n    </tr>\n    <tr>\n      <th>285</th>\n      <td>contracts/relatedProcesses</td>\n      <td>7</td>\n    </tr>\n  </tbody>\n</table>\n<p>207 rows × 2 columns</p>\n</div>"
          },
          "execution_count": 12,
          "metadata": {},
          "output_type": "execute_result"
        }
      ],
      "source": [
        "# Leaves only object members\n",
        "fields_table = fields[fields.path.str.contains(\"[a-z]$\")].copy()\n",
        "fields_table[\"path\"] = fields_table[\"path\"].str.replace(r\"[][]|^/\", \"\", regex=True)\n",
        "fields_table"
      ]
    },
    {
      "cell_type": "code",
      "execution_count": null,
      "metadata": {
        "id": "4jlpziP2dmpk"
      },
      "outputs": [],
      "source": [
        "save_dataframe_to_sheet(fields_table, \"fields\")"
      ]
    }
  ],
  "metadata": {
    "colab": {
      "provenance": []
    },
    "kernelspec": {
      "display_name": "Python 3",
      "name": "python3"
    }
  },
  "nbformat": 4,
  "nbformat_minor": 0
}
