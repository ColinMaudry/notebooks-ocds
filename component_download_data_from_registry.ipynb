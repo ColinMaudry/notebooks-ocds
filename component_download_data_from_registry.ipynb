{
  "nbformat": 4,
  "nbformat_minor": 0,
  "metadata": {
    "colab": {
      "provenance": [],
      "authorship_tag": "ABX9TyPdQMarMXECiVIE1jjH0pC2"
    },
    "kernelspec": {
      "name": "python3",
      "display_name": "Python 3"
    },
    "language_info": {
      "name": "python"
    }
  },
  "cells": [
    {
      "cell_type": "markdown",
      "source": [
        "## Download data from the Data Registry"
      ],
      "metadata": {
        "id": "vpPltvi1tjEs"
      }
    },
    {
      "cell_type": "code",
      "execution_count": null,
      "metadata": {
        "id": "CLc-_oJntg93"
      },
      "outputs": [],
      "source": [
        "# @title Select the publication to download { display-mode: \"form\" }\n",
        "import os\n",
        "\n",
        "import ipywidgets as widgets\n",
        "import requests\n",
        "\n",
        "publications = requests.get(\"https://data.open-contracting.org/en/publications.json\", timeout=10).json()\n",
        "for publication in publications:\n",
        "    publication[\"label\"] = f\"{publication['country']} - {publication['title']}\"\n",
        "\n",
        "publication = widgets.Dropdown(\n",
        "    options=sorted([entry[\"label\"] for entry in publications]),\n",
        "    description=\"Publication:\",\n",
        "    disabled=False,\n",
        ")\n",
        "publication"
      ]
    },
    {
      "cell_type": "code",
      "source": [
        "# @title Select the year to download, or \"full\" for download all the available years. { display-mode: \"form\" }\n",
        "\n",
        "selected_publication = next(filter(lambda entry: entry[\"label\"] == publication.value, publications))\n",
        "\n",
        "year_from = int(selected_publication[\"date_from\"][:4])\n",
        "year_to = int(selected_publication[\"date_to\"][:4])\n",
        "years = list(range(year_from, year_to + 1))\n",
        "years.append(\"full\")\n",
        "\n",
        "selected_year = widgets.Dropdown(\n",
        "    options=years,\n",
        "    description=\"Year:\",\n",
        "    disabled=False,\n",
        ")\n",
        "selected_year"
      ],
      "metadata": {
        "id": "6lFPB6qNw3_a"
      },
      "execution_count": null,
      "outputs": []
    },
    {
      "cell_type": "code",
      "source": [
        "# @title Download the selected publication { display-mode: \"form\" }\n",
        "\n",
        "download_url = f'https://data.open-contracting.org/en/publication/{selected_publication[\"id\"]}/download?name={selected_year.value}.jsonl.gz'\n",
        "! curl -sSOJ \"$download_url\"\n",
        "for file in os.listdir(\".\"):\n",
        "    if file.endswith(\".gz\"):\n",
        "        file_name = file.replace(\".gz\", \"\")\n",
        "        break\n",
        "! gunzip -f \"$file_name\"\n",
        "! echo \"$file_name downloaded\""
      ],
      "metadata": {
        "id": "BiIusmihwLV_"
      },
      "execution_count": null,
      "outputs": []
    }
  ]
}
