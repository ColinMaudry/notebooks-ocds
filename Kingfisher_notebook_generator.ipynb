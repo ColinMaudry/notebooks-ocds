{
  "nbformat": 4,
  "nbformat_minor": 0,
  "metadata": {
    "colab": {
      "name": "Kingfisher notebook generator",
      "provenance": [],
      "authorship_tag": "ABX9TyNVE7bKdWjQq0JsACeRbYEu"
    },
    "kernelspec": {
      "name": "python3",
      "display_name": "Python 3"
    }
  },
  "cells": [
    {
      "cell_type": "markdown",
      "metadata": {
        "id": "l4IrHTy87LH7"
      },
      "source": [
        "# Kingfisher notebook generator\n",
        "\n",
        "Use this notebook to generate notebooks for analysing data stored in Kingfisher from templates stored on Github."
      ]
    },
    {
      "cell_type": "markdown",
      "metadata": {
        "id": "huuMBQRD7NOf"
      },
      "source": [
        "## Setup\n",
        "\n",
        "Install `nbmerge`, mount Google Drive."
      ]
    },
    {
      "cell_type": "code",
      "metadata": {
        "id": "B87vmV0R5PLN"
      },
      "source": [
        "!pip install nbmerge ocdskingfishercolab > pip.log\n",
        "\n",
        "from ocdskingfishercolab import _save_file_to_drive, authenticate_pydrive\n",
        "\n",
        "def save_notebook_to_drive(notebook):\n",
        "  drive_file = _save_file_to_drive({'title': notebook}, notebook)\n",
        "  print('https://colab.research.google.com/drive/{}'.format(drive_file.get('id')))"
      ],
      "execution_count": null,
      "outputs": []
    },
    {
      "cell_type": "markdown",
      "metadata": {
        "id": "breyGjAo7RBD"
      },
      "source": [
        "## Generate analysis template notebook"
      ]
    },
    {
      "cell_type": "code",
      "metadata": {
        "id": "NktkYrUx57u9"
      },
      "source": [
        "!wget -q https://github.com/duncandewhurst/kingfisher_notebooks/raw/main/setup_notebook.ipynb\n",
        "!wget -q https://github.com/duncandewhurst/kingfisher_notebooks/raw/main/data_collection_and_processing_errors.ipynb\n",
        "\n",
        "!rm -f kingfisher_analysis_template.ipynb\n",
        "!nbmerge setup_notebook.ipynb data_collection_and_processing_errors.ipynb > kingfisher_analysis_template.ipynb\n",
        "\n",
        "save_notebook_to_drive('kingfisher_analysis_template.ipynb')\n"
      ],
      "execution_count": null,
      "outputs": []
    }
  ]
}