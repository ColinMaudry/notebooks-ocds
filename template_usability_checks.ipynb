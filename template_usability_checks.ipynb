{
  "cells": [
    {
      "cell_type": "markdown",
      "metadata": {
        "id": "sfg_SbQWBCmW"
      },
      "source": [
        "## Setup\n",
        "\n",
        "*You must run the cells in this section each time you connect to a new runtime. For example, when you return to the notebook after an idle timeout, when the runtime crashes, or when you restart or factory reset the runtime.*"
      ]
    },
    {
      "cell_type": "markdown",
      "metadata": {
        "id": "sowWi_Ve_Lm3"
      },
      "source": [
        "Install requirements:\n"
      ]
    },
    {
      "cell_type": "code",
      "execution_count": null,
      "metadata": {
        "id": "X4nmyvOa_Ls7"
      },
      "outputs": [],
      "source": [
        "! pip install --upgrade 'ocdskingfishercolab<0.4' ipywidgets plotly psycopg2-binary > pip.log"
      ]
    },
    {
      "cell_type": "markdown",
      "metadata": {
        "id": "L1mHB2p8ANfr"
      },
      "source": [
        "Import packages and load extensions:"
      ]
    },
    {
      "cell_type": "code",
      "execution_count": null,
      "metadata": {
        "id": "tezDNj4uAOHq"
      },
      "outputs": [],
      "source": [
        "import matplotlib.pyplot as plt\n",
        "import pandas as pd\n",
        "import plotly.express as px\n",
        "from google.colab.data_table import DataTable\n",
        "from google.colab.files import download\n",
        "from ipywidgets import widgets\n",
        "from ocdskingfishercolab import (\n",
        "    download_dataframe_as_csv,\n",
        "    format_thousands,\n",
        "    render_json,\n",
        "    save_dataframe_to_sheet,\n",
        "    save_dataframe_to_spreadsheet,\n",
        "    set_dark_mode,\n",
        "    set_light_mode,\n",
        "    set_spreadsheet_name,\n",
        ")\n",
        "\n",
        "# Load https://pypi.org/project/ipython-sql/\n",
        "%load_ext sql\n",
        "# Load https://colab.research.google.com/notebooks/data_table.ipynb\n",
        "%load_ext google.colab.data_table"
      ]
    },
    {
      "cell_type": "markdown",
      "metadata": {
        "id": "2MRnhij4pmZO"
      },
      "source": [
        "Set the name of the spreadsheet to export results to, when using `save_dataframe_to_sheet()`:"
      ]
    },
    {
      "cell_type": "code",
      "execution_count": null,
      "metadata": {
        "id": "drokzszlphmK"
      },
      "outputs": [],
      "source": [
        "spreadsheet_name = 'feedback_results'\n",
        "\n",
        "set_spreadsheet_name(spreadsheet_name)"
      ]
    },
    {
      "cell_type": "markdown",
      "metadata": {
        "id": "DZASSenGpprv"
      },
      "source": [
        "Configure the notebook environment:"
      ]
    },
    {
      "cell_type": "code",
      "execution_count": null,
      "metadata": {
        "id": "--8vgOiP_58f"
      },
      "outputs": [],
      "source": [
        "# Increase max columns so that Pandas DataFrames with many columns are rendered as data tables.\n",
        "DataTable.max_columns = 50\n",
        "# Remove the index from data tables for easier copy-pasting to Google Docs.\n",
        "DataTable.include_index = False\n",
        "\n",
        "# Return Pandas DataFrames instead of regular result sets.\n",
        "%config SqlMagic.autopandas = True\n",
        "# Don't print number of rows affected.\n",
        "%config SqlMagic.feedback = False\n",
        "\n",
        "# If you set Tools > Settings > Site > Theme to dark, uncomment this line.\n",
        "# set_dark_mode()\n",
        "# If you are creating plots to copy-paste into reports, uncomment this line.\n",
        "# set_light_mode()"
      ]
    },
    {
      "cell_type": "markdown",
      "metadata": {
        "id": "EEE8NyL9UXi7"
      },
      "source": [
        "## Setup Kingfisher Process"
      ]
    },
    {
      "cell_type": "code",
      "execution_count": null,
      "metadata": {
        "id": "sX1Mk084L8gN"
      },
      "outputs": [],
      "source": [
        "import getpass\n",
        "from ocdskingfishercolab import (\n",
        "    list_collections,\n",
        "    list_source_ids,\n",
        "    set_search_path,\n",
        ")"
      ]
    },
    {
      "cell_type": "markdown",
      "metadata": {
        "id": "F8fwq_F6XMLs"
      },
      "source": [
        "Enter your PostgreSQL credentials and connect to the Kingfisher Process database:"
      ]
    },
    {
      "cell_type": "code",
      "execution_count": null,
      "metadata": {
        "id": "27yRx-oaXPtd"
      },
      "outputs": [],
      "source": [
        "user = input('Username:')\n",
        "password = getpass.getpass('Password:')\n",
        "\n",
        "# Don't show connection string after execute.\n",
        "%config SqlMagic.displaycon = False\n",
        "\n",
        "connection_string = 'postgresql://' + user + ':' + password + '@postgres.kingfisher.open-contracting.org/kingfisher_process?sslmode=require'\n",
        "%sql $connection_string"
      ]
    },
    {
      "cell_type": "markdown",
      "metadata": {
        "id": "0h0nJSx6Mzm9"
      },
      "source": [
        "### Choose collections and schema\n",
        "\n",
        "*Use this section to choose the collections and schema that you want to query.*"
      ]
    },
    {
      "cell_type": "markdown",
      "metadata": {
        "id": "IKDe1itVq7dQ"
      },
      "source": [
        "#### Set the collection(s)"
      ]
    },
    {
      "cell_type": "markdown",
      "metadata": {
        "id": "-EVkYkVUsP9f"
      },
      "source": [
        "Update `collection_ids` with the `id`(s) of the [Kingfisher Process collection(s)](https://kingfisher-process.readthedocs.io/en/latest/data-model.html#collections):"
      ]
    },
    {
      "cell_type": "code",
      "execution_count": null,
      "metadata": {
        "id": "IKn0TqQIsIGY"
      },
      "outputs": [],
      "source": [
        "collection_ids = (2358, 2359)"
      ]
    },
    {
      "cell_type": "markdown",
      "metadata": {
        "id": "ewGMrRM9nNCl"
      },
      "source": [
        "If you don't know which collections you need, run the next cell and use the **Filter** button to filter the [collection table](https://kingfisher-process.readthedocs.io/en/latest/database-structure.html#collection-table) to find the collection(s). You can use the `source_id` column to filter on the `name` of the [Kingfisher Collect spider](https://kingfisher-collect.readthedocs.io/en/latest/spiders.html) used to collect the data. Use the value(s) from the `id` column to update the previous cell."
      ]
    },
    {
      "cell_type": "code",
      "execution_count": null,
      "metadata": {
        "id": "ITTvCttGsWj1"
      },
      "outputs": [],
      "source": [
        "list_collections()"
      ]
    },
    {
      "cell_type": "markdown",
      "metadata": {
        "id": "aupr2bJKm4wr"
      },
      "source": [
        "#### Set the schema"
      ]
    },
    {
      "cell_type": "markdown",
      "metadata": {
        "id": "y3mo29DCm4wu"
      },
      "source": [
        "Update `schema_name` with the name of the [Kingfisher Summarize schema](https://kingfisher-summarize.readthedocs.io/en/latest/index.html#how-it-works)."
      ]
    },
    {
      "cell_type": "code",
      "execution_count": null,
      "metadata": {
        "id": "RtNddeQWm4wx"
      },
      "outputs": [],
      "source": [
        "schema_name = 'view_data_collection_2358_2359'\n",
        "set_search_path(schema_name)"
      ]
    },
    {
      "cell_type": "markdown",
      "metadata": {
        "id": "4Ns5ujbNWbID"
      },
      "source": [
        "If you don't know which schema you need, run the next cell and use the **Filter** button to filter the [selected collections table](https://kingfisher-summarize.readthedocs.io/en/latest/database.html#summaries-selected-collections) to find the schema. You can use the `collection_id` column to filter on the `id` of the collections that you identified in the previous step. Alternatively, you can filter on the `source_id` column. Use the value from the `schema` column to update the previous cell."
      ]
    },
    {
      "cell_type": "code",
      "execution_count": null,
      "metadata": {
        "id": "aVg-KWfvzcfa"
      },
      "outputs": [],
      "source": [
        "%%sql\n",
        "\n",
        "SELECT\n",
        "    summaries.selected_collections.*,\n",
        "    source_id\n",
        "FROM\n",
        "    summaries.selected_collections\n",
        "    JOIN collection ON summaries.selected_collections.collection_id = collection.id\n"
      ]
    },
    {
      "cell_type": "markdown",
      "metadata": {
        "id": "LKjwIzCZoJYw"
      },
      "source": [
        "If you can't find a schema containing the collections that you want to query, you can create a schema using [Kingfisher Summarize](https://ocdsdeploy.readthedocs.io/en/latest/use/kingfisher-summarize.html)."
      ]
    },
    {
      "cell_type": "markdown",
      "metadata": {
        "id": "tnSzwOTTRbgE"
      },
      "source": [
        "## Calculate general statistics"
      ]
    },
    {
      "cell_type": "markdown",
      "metadata": {
        "id": "rjpK7uocUeW4"
      },
      "source": [
        "Use this section to have an overview of the dataset in terms of fields published, stages covered and key summary statistics.  You can add any additional queries as needed.  "
      ]
    },
    {
      "cell_type": "markdown",
      "metadata": {
        "id": "7VRH7RmPRfBD"
      },
      "source": [
        "###Fields published"
      ]
    },
    {
      "cell_type": "markdown",
      "metadata": {
        "id": "uVaXeoF7U6bV"
      },
      "source": [
        "Calculate the fields published"
      ]
    },
    {
      "cell_type": "code",
      "execution_count": null,
      "metadata": {
        "id": "6KgBNO1QUuL4"
      },
      "outputs": [],
      "source": [
        "%%sql fields_table <<\n",
        "\n",
        "SELECT\n",
        "    path,\n",
        "    distinct_releases\n",
        "FROM\n",
        "    field_counts\n",
        "WHERE\n",
        "    release_type = 'compiled_release'\n"
      ]
    },
    {
      "cell_type": "code",
      "execution_count": null,
      "metadata": {
        "id": "J7Eieoo9U8Ku"
      },
      "outputs": [],
      "source": [
        "fields_table"
      ]
    },
    {
      "cell_type": "markdown",
      "metadata": {
        "id": "Z-KSlo8Vb69M"
      },
      "source": [
        "Save fields table in spreadsheet:"
      ]
    },
    {
      "cell_type": "code",
      "execution_count": null,
      "metadata": {
        "id": "9CaaBbFLb6dl"
      },
      "outputs": [],
      "source": [
        "save_dataframe_to_sheet(fields_table, 'fields')"
      ]
    },
    {
      "cell_type": "markdown",
      "metadata": {
        "id": "shGR-DXCcDkx"
      },
      "source": [
        "### Stages covered"
      ]
    },
    {
      "cell_type": "code",
      "execution_count": null,
      "metadata": {
        "id": "APMabfEPcPui"
      },
      "outputs": [],
      "source": [
        "%%sql stages <<\n",
        "\n",
        "SELECT\n",
        "    CASE WHEN paths.path = 'contracts/implementation' THEN\n",
        "        'implementation'\n",
        "    ELSE\n",
        "        paths.path\n",
        "    END AS stage,\n",
        "    CASE WHEN paths.path IN ('planning', 'tender', 'contracts/implementation') THEN\n",
        "        GREATEST (object_property, 0)\n",
        "    ELSE\n",
        "        GREATEST (array_count, 0)\n",
        "    END AS object_count\n",
        "FROM (\n",
        "    SELECT\n",
        "        unnest(ARRAY['planning', 'tender', 'awards', 'contracts', 'contracts/implementation']) AS path) AS paths\n",
        "    LEFT JOIN (\n",
        "        SELECT\n",
        "            *\n",
        "        FROM\n",
        "            field_counts\n",
        "        WHERE\n",
        "            release_type = 'compiled_release'\n",
        "            AND path IN ('planning', 'tender', 'awards', 'contracts', 'contracts/implementation')) AS field_counts USING (path)\n"
      ]
    },
    {
      "cell_type": "code",
      "execution_count": null,
      "metadata": {
        "id": "f40SbJg0cbvp"
      },
      "outputs": [],
      "source": [
        "stages"
      ]
    },
    {
      "cell_type": "code",
      "execution_count": null,
      "metadata": {
        "id": "zGNrN_occdW5"
      },
      "outputs": [],
      "source": [
        "import plotly.express as px\n",
        "\n",
        "fig = px.bar(stages, x='stage', y='object_count', title=\"Stages covered\",\n",
        "             template='plotly_white',\n",
        "             text='object_count',\n",
        "             labels={'stage': 'Stage',\n",
        "                     'object_count': 'Number of releases'})\n",
        "fig.update_traces(marker_color='#D6E100')\n",
        "fig.update_layout(width=400, height=350, bargap=0.5)\n",
        "fig.show()"
      ]
    },
    {
      "cell_type": "markdown",
      "metadata": {
        "id": "TbpO9Jc6c6wQ"
      },
      "source": [
        "### Number of tenders and awards by date"
      ]
    },
    {
      "cell_type": "code",
      "execution_count": null,
      "metadata": {
        "id": "twYK088Dc79V"
      },
      "outputs": [],
      "source": [
        "%%sql dates <<\n",
        "\n",
        "WITH tenders AS (\n",
        "    SELECT\n",
        "        extract(YEAR FROM tenderperiod_startdate) AS year,\n",
        "        count(*) AS tenders\n",
        "    FROM\n",
        "        tender_summary\n",
        "    WHERE\n",
        "        release_type = 'compiled_release'\n",
        "    GROUP BY\n",
        "        year\n",
        "    ORDER BY\n",
        "        year\n",
        "),\n",
        "awards AS (\n",
        "    SELECT\n",
        "        extract(YEAR FROM date) AS year,\n",
        "        count(*) AS awards\n",
        "    FROM\n",
        "        awards_summary\n",
        "    WHERE\n",
        "        release_type = 'compiled_release'\n",
        "    GROUP BY\n",
        "        year\n",
        "    ORDER BY\n",
        "        year\n",
        ")\n",
        "SELECT\n",
        "    t.year,\n",
        "    tenders,\n",
        "    awards\n",
        "FROM\n",
        "    tenders t\n",
        "    FULL JOIN awards a ON t.year = a.year\n"
      ]
    },
    {
      "cell_type": "code",
      "execution_count": null,
      "metadata": {
        "id": "cPEHTK67Mp6P"
      },
      "outputs": [],
      "source": [
        "dates"
      ]
    },
    {
      "cell_type": "code",
      "execution_count": null,
      "metadata": {
        "id": "ZFUPPW51dF4m"
      },
      "outputs": [],
      "source": [
        "final=pd.melt(dates, id_vars=[\"year\"], value_vars=[\"tenders\", \"awards\"])\n",
        "fig = px.bar(final, x='year', y='value', color='variable', barmode=\"group\" ,\n",
        "             title=\"Tenders and awards by year\", template='plotly_white', text='value',\n",
        "\n",
        "             color_discrete_sequence=['#D6E100', '#6c75e1'],\n",
        "             labels ={\n",
        "                 'value': \"Tenders and awards\"\n",
        "             })\n",
        "fig.update_layout(width=600, height=350, bargap=0.5)\n",
        "\n",
        "fig.show()"
      ]
    },
    {
      "cell_type": "markdown",
      "metadata": {
        "id": "g5n8QT44dKT1"
      },
      "source": [
        "### Procurement methods used"
      ]
    },
    {
      "cell_type": "code",
      "execution_count": null,
      "metadata": {
        "id": "zybYaAktdPeq"
      },
      "outputs": [],
      "source": [
        "%%sql\n",
        "\n",
        "SELECT\n",
        "    procurementmethod,\n",
        "    count(DISTINCT (ocid)),\n",
        "    round((count(*) * 100.0 / sum(count(*)) OVER ()), 1) AS proportion\n",
        "FROM\n",
        "    tender_summary\n",
        "WHERE\n",
        "    release_type = 'compiled_release'\n",
        "GROUP BY\n",
        "    procurementmethod\n",
        "ORDER BY\n",
        "    proportion DESC\n"
      ]
    },
    {
      "cell_type": "code",
      "execution_count": null,
      "metadata": {
        "id": "9nGLJhu9dgyU"
      },
      "outputs": [],
      "source": [
        "%%sql\n",
        "\n",
        "SELECT\n",
        "    tender ->> 'procurementMethodDetails' AS method,\n",
        "    count(DISTINCT (ocid)),\n",
        "    round((count(*) * 100.0 / sum(count(*)) OVER ()), 1) AS proportion\n",
        "FROM\n",
        "    tender_summary\n",
        "WHERE\n",
        "    release_type = 'compiled_release'\n",
        "GROUP BY\n",
        "    method\n",
        "ORDER BY\n",
        "    proportion DESC\n"
      ]
    },
    {
      "cell_type": "markdown",
      "metadata": {
        "id": "_QlQDgw1hzdL"
      },
      "source": [
        "### Number of procedures by buyer"
      ]
    },
    {
      "cell_type": "code",
      "execution_count": null,
      "metadata": {
        "id": "3V7AjxJXh17K"
      },
      "outputs": [],
      "source": [
        "%%sql buyers <<\n",
        "\n",
        "SELECT\n",
        "    party -> 'name' AS \"name\",\n",
        "    identifier AS party_id,\n",
        "    count(DISTINCT ocid) AS total_tenders\n",
        "FROM\n",
        "    parties_summary\n",
        "WHERE\n",
        "    roles::text ILIKE '%%buyer%%'\n",
        "    AND release_type = 'compiled_release'\n",
        "GROUP BY\n",
        "    identifier,\n",
        "    party -> 'name'\n",
        "ORDER BY\n",
        "    total_tenders DESC\n"
      ]
    },
    {
      "cell_type": "code",
      "execution_count": null,
      "metadata": {
        "id": "u-fpK7O-iEya"
      },
      "outputs": [],
      "source": [
        "buyers.head(10)"
      ]
    },
    {
      "cell_type": "code",
      "execution_count": null,
      "metadata": {
        "id": "KmgHVCXaiCeG"
      },
      "outputs": [],
      "source": [
        "fig = px.bar(buyers.head(10), y='name', x='total_tenders',\n",
        "              title=\"Top 10 buyers\", template='plotly_white',\n",
        "             text='total_tenders',\n",
        "             labels={'total_tenders': 'Number of procedures',\n",
        "                     'name': 'buyer'},\n",
        "             color_discrete_sequence=['#D6E100', '#6c75e1'], orientation='h')\n",
        "#fig.update_traces()\n",
        "fig.update_layout(width=850, height=450, bargap=0.4,\n",
        "yaxis={'categoryorder':'total ascending'})\n",
        "fig.show()"
      ]
    },
    {
      "cell_type": "markdown",
      "metadata": {
        "id": "s75VrpzLRNkx"
      },
      "source": [
        "##Usability analysis"
      ]
    },
    {
      "cell_type": "markdown",
      "metadata": {
        "id": "pSR2il4VRPmJ"
      },
      "source": [
        "Use this section to perform a usability analysis of the dataset, to identify if a publisher has the necessary fields to calculate 71 procurement indicators related to Market Opportunity (Market description, Competition, supplier performance), value for money, internal efficiency, public integrity and service delivery.  For OCDS publisher it also calculates the proportion of unique procedures for which it is possible to calculate the indicator (coverage).\n",
        "\n",
        "The usability checks includes all the indicators listed on [OCP's use case guide](https://docs.google.com/spreadsheets/d/1j-Y0ktZiOyhZzi-2GSabBCnzx6fF5lv8h1KYwi_Q9GM/edit#gid=1183427361) and the [Indicators to diagnose the performance of a\n",
        "procurement market document](https://docs.google.com/document/d/1vSJk9-qWSTQEx9ZZc7BUhQZMHvTRcyDYVS2sl8HB__k/edit#heading=h.nrnq1ajwwpqe)."
      ]
    },
    {
      "cell_type": "markdown",
      "metadata": {
        "id": "-YkwbJSAiLoZ"
      },
      "source": [
        "### Usability setup"
      ]
    },
    {
      "cell_type": "markdown",
      "metadata": {
        "id": "HkAUkhEmiNvG"
      },
      "source": [
        "Use this section to set up the variables needed for the usability analysis.\n",
        "\n"
      ]
    },
    {
      "cell_type": "markdown",
      "metadata": {
        "id": "HTkFw9jajocD"
      },
      "source": [
        "Generate a list of the fields published:"
      ]
    },
    {
      "cell_type": "code",
      "execution_count": null,
      "metadata": {
        "id": "MgZ3TsCOjozN"
      },
      "outputs": [],
      "source": [
        "fields_list=fields_table.iloc[:, 0].tolist()"
      ]
    },
    {
      "cell_type": "markdown",
      "metadata": {
        "id": "9ybR-4JilxJh"
      },
      "source": [
        "#### Set automatically which fields to use"
      ]
    },
    {
      "cell_type": "markdown",
      "metadata": {
        "id": "K5JFBMickJDC"
      },
      "source": [
        "To calculate some indicators there are alternative fields that can be used, for example to calculate the number of tenderers  both the `tender/numberOfTenderers` or the `tender/tenderers/id` could be used.  This section checks which fields are available in the publication."
      ]
    },
    {
      "cell_type": "code",
      "execution_count": null,
      "metadata": {
        "id": "zVnZn4E1kHg1"
      },
      "outputs": [],
      "source": [
        "#U002\n",
        "buyer=['buyer/name', 'buyer/id']\n",
        "procuring=['tender/procuringEntity/name', 'tender/procuringEntity/id']\n",
        "parties=['parties/identifier/name', 'parties/identifier/id', 'parties/roles']\n",
        "if any(item not in fields_list for item in buyer)==False:\n",
        "  buyer_var=buyer\n",
        "elif any(item not in fields_list for item in procuring)==False:\n",
        "   buyer_var=procuring\n",
        "elif any(item not in fields_list for item in parties)==False:\n",
        "   buyer_var=parties\n",
        "else:\n",
        "  buyer_var=buyer\n",
        "\n",
        "#U003\n",
        "if 'tender/tenderers/id' in fields_list:\n",
        "  bidders_val='tender/tenderers/id'\n",
        "elif 'bids/details/tenderers/id' in fields_list:\n",
        "  bidders_val='bids/details/tenderers/id'\n",
        "else:\n",
        "  bidders_val='tender/tenderers/id'\n",
        "\n",
        "#U008\n",
        "if 'tender/items/classification/id' in fields_list and 'tender/items/classification/scheme' in fields_list:\n",
        "  items_val=['tender/items/classification/id', 'tender/items/classification/scheme']\n",
        "elif 'awards/items/classification/id' in fields_list and 'awards/items/classification/scheme' in fields_list:\n",
        "  items_val=['awards/items/classification/id', 'awards/items/classification/scheme']\n",
        "elif 'contracts/items/classification/id' in fields_list and 'contractsitems/classification/scheme' in fields_list:\n",
        "  items_val=['contracts/items/classification/id', 'contracts/items/classification/scheme']\n",
        "else:\n",
        "  items_val=['tender/items/classification/id', 'tender/items/classification/scheme']\n",
        "\n",
        "#U012\n",
        "if 'contracts/id'  in fields_list and 'contracts/status' in fields_list:\n",
        "  awards_val=['contracts/id', 'contracts/status']\n",
        "elif 'awards/id'  in fields_list and 'awards/status' in fields_list:\n",
        "  awards_val=['awards/id', 'awards/status']\n",
        "else:\n",
        "  awards_val=['contracts/id', 'contracts/status']\n",
        "\n",
        "#U013, UC14\n",
        "awards=['awards/id', 'awards/status', 'awards/value/amount', 'awards/value/currency']\n",
        "contracts=['contracts/id', 'contracts/status', 'contracts/value/amount', 'contracts/value/currency']\n",
        "if any(item not in fields_list for item in contracts)==False:\n",
        "  awards_val2=contracts\n",
        "elif any(item not in fields_list for item in awards)==False:\n",
        "  awards_val2=awards\n",
        "else:\n",
        "  awards_val2=contracts\n",
        "\n",
        "#U015\n",
        "if 'tender/numberOfTenderers' in fields_list:\n",
        "  bidders_val2='tender/numberOfTenderers'\n",
        "elif 'tender/tenderers/id' in fields_list:\n",
        "  bidders_val2='tender/tenderers/id'\n",
        "elif 'bids/details/tenderers/id' in fields_list:\n",
        "  bidders_val2='bids/details/tenderers/id'\n",
        "else:\n",
        "  bidders_val2='tender/numberOfTenderers'\n",
        "\n",
        "#U034\n",
        "aw=['awards/status', 'awards/value/amount', 'awards/value/currency', 'awards/items/classification/id', 'awards/items/classification/scheme']\n",
        "con=['contracts/status', 'contracts/value/amount', 'contracts/value/currency', 'contracts/items/classification/id', 'contracts/items/classification/scheme']\n",
        "if any(item not in fields_list for item in aw)==False:\n",
        "  awards_val3=aw\n",
        "elif any(item not in fields_list for item in con)==False:\n",
        "  awards_val3=con\n",
        "else:\n",
        "  awards_val3=aw\n",
        "\n",
        "#U042\n",
        "if 'awards/status' in fields_list:\n",
        "  awards_val4='awards/status'\n",
        "elif 'contracts/status'  in fields_list:\n",
        "  awards_val4='contracts/status'\n",
        "else:\n",
        "  awards_val4='awards/status'\n",
        "\n",
        "#U061\n",
        "if  'contracts/period/startDate' in fields_list:\n",
        "  contract_date= 'contracts/period/startDate'\n",
        "elif 'awards/contractPeriod/startDate'  in fields_list:\n",
        "  contract_date='awards/contractPeriod/startDate'\n",
        "else:\n",
        "  contract_date='contracts/period/startDate'\n",
        "\n",
        "#U065\n",
        "aw2=['awards/items/quantity', 'awards/items/unit']\n",
        "con2=['contracts/items/quantity', 'contracts/items/unit']\n",
        "if any(item not in fields_list for item in aw)==False:\n",
        "  awards_val5=aw2\n",
        "elif any(item not in fields_list for item in con)==False:\n",
        "  awards_val5=con2\n",
        "else:\n",
        "  awards_val5=aw2\n",
        "\n",
        "#U066, U067\n",
        "if  'planning/budget/amount/amount' in fields_list and 'planning/budget/amount/currency':\n",
        "  planning= ['planning/budget/amount/amount',  'planning/budget/amount/currency']\n",
        "elif 'tender/value/amount' in fields_list and 'tender/value/currency':\n",
        "  planning=['tender/value/amount', 'tender/value/currency']\n",
        "else:\n",
        "  planning=['planning/budget/amount/amount', 'planning/budget/amount/currency']"
      ]
    },
    {
      "cell_type": "markdown",
      "metadata": {
        "id": "w5z3otpIlywe"
      },
      "source": [
        "#### Dictionary of indicators"
      ]
    },
    {
      "cell_type": "code",
      "execution_count": null,
      "metadata": {
        "id": "L9_sc-TZltpg"
      },
      "outputs": [],
      "source": [
        "indicators_dic={\n",
        "\n",
        "'Total number of procedures': [['U001'],  ['ocid']],\n",
        "'Total number of procuring entities': [['U002'], ['ocid'] + buyer_var],\n",
        "'Total number of unique bidders': [['U003'],  ['ocid', bidders_val]],\n",
        "'Total number of awarded suppliers': [['U004'], ['awards/id', 'awards/suppliers/id', 'awards/suppliers/name', 'awards/status']],\n",
        "'Total number of procedures by year or month': [['U005'], ['ocid', 'date']],\n",
        "'Total value awarded': [['U006'], ['ocid', 'awards/status', 'awards/value/amount', 'awards/value/currency']],\n",
        "'Share of procedures by status': [['U007'], ['ocid', 'tender/status']],\n",
        "'Number of procedures by item type':[['U008'],['ocid'] +items_val],\n",
        "'Proportion of procedures by procurement category': [['U009'],  ['ocid', 'tender/mainProcurementCategory']],\n",
        "'Percent of tenders by procedure type': [['U010'], ['ocid', 'tender/procurementMethod']],\n",
        "'Percent of tenders awarded by means of competitive procedures': [['U011'],['ocid', 'tender/procurementMethod', 'awards/status']],\n",
        "'Percent of contracts awarded under each procedure type': [['U012'],  ['ocid', 'tender/procurementMethod'] + awards_val],\n",
        "'Total contracted value awarded under each procedure type': [['U013'],  ['ocid', 'tender/procurementMethod'] + awards_val2],\n",
        "'Total awarded value of tenders awarded by means of competitive procedures': [['U014'],  ['ocid', 'tender/procurementMethod'] + awards_val2],\n",
        "'Proportion of single bid tenders': [['U015'],  ['ocid', 'tender/procurementMethod', bidders_val2]],\n",
        "'Proportion of value awarded in single bid tenders vs competitive tenders': [['U016'], ['ocid', 'tender/procurementMethod', 'awards/status', 'awards/value/amount', 'awards/value/currency',  bidders_val2]],\n",
        "'Mean number of bidders per tender': [['U017'], ['ocid', 'tender/procurementMethod',  bidders_val2]],\n",
        "'Median number of bidders per tender': [['U018'], ['ocid', 'tender/procurementMethod',  bidders_val2]],\n",
        "'Mean number of bidders by item type': [['U019'],  ['ocid', 'tender/procurementMethod',  bidders_val2] + items_val],\n",
        "'Number of suppliers by item type': [['U020'],  ['awards/id', 'awards/suppliers/id', 'awards/suppliers/name']+ items_val],\n",
        "'Number of new bidders in a system ': [['U021'], ['tender/id', 'tender/tenderers/id', 'tender/tenderPeriod/startDate']],\n",
        "'Percent of new bidders to all bidders ': [['U022'],  ['tender/id', 'tender/tenderers/id', 'tender/tenderPeriod/startDate']],\n",
        "'Percent of tenders with at least three participants deemed qualified': [['U023'], ['ocid', 'bids/details/tenderers/id', 'bids/details/id', 'bids/details/status']],\n",
        "'Mean percent of bids which are disqualified': [['U024'], ['tender/id', 'bids/details/id', 'bids/details/status']],\n",
        "'Percent of contracts awarded to top 10 suppliers with largest contracted totals': [['U025'],  ['awards/id', 'awards/suppliers/id', 'awards/suppliers/name']+ awards_val2],\n",
        "'Mean number of unique suppliers per buyer': [['U026'], ['ocid', 'awards/suppliers/id', 'awards/suppliers/name']+ buyer_var],\n",
        "'Number of new awarded suppliers ': [['U027'],  ['awards/id', 'awards/suppliers/id', 'awards/suppliers/name', 'awards/date']],\n",
        "'Percent of awards awarded to new suppliers': [['U028'],   ['awards/id', 'awards/suppliers/id', 'awards/suppliers/name', 'awards/date']],\n",
        "'Total awarded value awarded to new suppliers': [['U029'], ['awards/id', 'awards/suppliers/id', 'awards/suppliers/name', 'awards/date', 'awards/value/amount', 'awards/value/currency']],\n",
        "'Percent of new suppliers to all suppliers': [['U030'],  ['awards/id', 'awards/suppliers/id', 'awards/suppliers/name', 'awards/date']],\n",
        "'Percent of growth of new awarded suppliers in a system': [['U031'],  ['awards/id', 'awards/suppliers/id', 'awards/suppliers/name', 'awards/date']],\n",
        "'Percent of total awarded value awarded to recurring suppliers': [['U032'],  ['awards/id', 'awards/suppliers/id', 'awards/suppliers/name', 'awards/date', 'awards/value/amount', 'awards/value/currency']],\n",
        "'Mean number of bids necessary to win': [['U033'],   ['ocid', 'tender/tenderers/id', 'awards/suppliers/id', 'awards/suppliers/name']],\n",
        "'Market concentration, market share of the largest company in the market': [['U034'],  ['awards/suppliers/id', 'awards/suppliers/name'] + awards_val3],\n",
        "'Proportion of contracts awarded by supplier by non competitive procedures': [['U035'],  ['ocid', 'tender/procurementMethod', 'awards/status', 'awards/suppliers/id', 'awards/suppliers/name']],\n",
        "'Region of the supplier': [['U036'], ['parties/roles', 'parties/identifier/id', 'parties/address/region']],\n",
        "'Number of bids submitted by supplier': [['U037'],  ['awards/suppliers/id', bidders_val]],\n",
        "'Success rate of bidders': [['U038'],  ['ocid', 'tender/tenderers/id', 'awards/suppliers/id', 'awards/suppliers/name']],\n",
        "'Number of unique items classifications awarded by supplier': [['U039'], ['awards/id', 'awards/suppliers/id', 'awards/suppliers/name'] + items_val],\n",
        "'Total value awarded by supplier': [['U040'],  ['awards/suppliers/id', 'awards/suppliers/name'] +awards_val2],\n",
        "'Share of total value awarded by supplier': [['U041'],  ['awards/suppliers/id', 'awards/suppliers/name'] + awards_val2],\n",
        "'Total number of contracts awarded by supplier': [['U042'],  ['awards/id', 'awards/suppliers/id', 'awards/suppliers/name', awards_val4]],\n",
        "'Number of procuring entities by supplier': [['U043'],  ['ocid', 'awards/suppliers/id', 'awards/suppliers/name'] + buyer_var],\n",
        "'Share of single bid awards by supplier': [['U044'],  ['ocid', 'awards/suppliers/id', 'awards/suppliers/name', 'awards/status', 'tender/procurementMethod', bidders_val2]],\n",
        "'Percent of tenders with linked procurement plans': [['U045'], ['tender/id', 'tender/documents/documentType']],\n",
        "'Percent of contracts which publish information on debarments': [['U046'], ['contracts/id', 'contracts/implementation/documents/documentType']],\n",
        "'The percent of tenders for which the tender documentation was added after publication of the announcement ': [['U047'],  ['tender/id', 'tender/documents/documentType', 'tender/documents/documentType', 'tender/documents/datePublished']],\n",
        "'Mean number of contract amendments per buyer': [['U048'],  ['ocid', 'contracts/id', 'contracts/amendments'] + buyer_var],\n",
        "'Percent of tenders which have been closed for more than 30 days, but whose basic awards information is not published': [['U049'],  ['tender/id', 'tender/tenderPeriod/endDate', 'awards/id', 'awards/date', 'awards/status', 'awards/value/amount', 'awards/suppliers/id' , 'awards/suppliers/name']],\n",
        "'Percent of awards which are older than 30 days, but whose contract is not published': [['U050'],  ['awards/id', 'awards/date', 'contracts/awardID', 'contracts/status', 'contracts/dateSigned', 'contracts/documents/documentType']],\n",
        "'Percent of tenders that do not specify place of delivery': [['U051'],  ['ocid', 'tender/items/deliveryLocation', 'tender/items/deliveryAddress']],\n",
        "'Percent of tenders that do not specify date of delivery': [['U052'],  ['tender/milestones/id', 'tender/milestones/type', 'tender/milestones/description', 'tender/milestones/dueDate']],\n",
        "'Percent of tenders with short titles for example fewer than 10 characters in the title': [['U053'],  ['tender/id', 'tender/title']],\n",
        "'Percent of tenders with short descriptions for instance fewer than 30 characters in the description': [['U054'],  ['tender/id', 'tender/description']],\n",
        "'Percent of tenders that do not include detailed item codes or item descriptions': [['U055'],   ['tender/id', 'tender/items/classification/id', 'tender/items/classification/scheme']],\n",
        "'Percent of contracts that do not have amendments': [['U056'],  ['contracts/id', 'contracts/amendments']],\n",
        "'Percent of contracts which publish contract implementation details financial': [['U057'],  ['contracts/implementation/transactions/id', 'contracts/implementation/transactions/value/amount', 'contracts/implementation/transactions/value/currency']],\n",
        "'Percent of contracts which publish contract implementation details physical': [['U058'],  ['contracts/implementation/milestones/type', 'contracts/implementation/milestones/id', 'contracts/implementation/milestones/dueDate', 'contracts/implementation/milestones/status']],\n",
        "'Average duration of tendering period days': [['U059'],  ['ocid', 'tender/tenderPeriod/startDate', 'tender/tenderPeriod/endDate']],\n",
        "'Average duration of decision period days': [['U060'],  ['ocid', 'tender/tenderPeriod/endDate', 'awards/date']],\n",
        "'Average days from award date to start of implementation': [['U061'],  ['awards/id', 'awards/date', contract_date]],\n",
        "'Days between award date and tender start date': [['U062'],  ['ocid', 'tender/tenderPeriod/startDate', 'awards/date']],\n",
        "'Percent of canceled tenders to awarded tenders': [['U063'],  ['ocid', 'tender/status', 'awards/status']],\n",
        "'Percent of contracts which are canceled': [['U064'],  ['contracts/id', 'contracts/status']],\n",
        "\n",
        " 'Price variation of same item across all awards': [['U065'],  awards_val3 + awards_val5],\n",
        " 'Percent of contracts that exceed budget': [['U066'],  ['ocid', 'contracts/status', 'contracts/value/amount', 'contracts/value/currency'] + planning],\n",
        "'Mean percent overrun of contracts that exceed budget': [['U067'],  ['ocid', 'contracts/status', 'contracts/value/amount', 'contracts/value/currency']+ planning],\n",
        " 'Total percent savings difference between budget and contract value': [['U068'],  ['ocid', 'planning/budget/amount/amount', 'planning/budget/amount/currency', 'contracts/value/amount', 'contracts/value/currency']],\n",
        " 'Total percent savings difference between tender value estimate and contract value': [['U069'],  ['ocid', 'tender/value/amount', 'tender/value/currency', 'contracts/value/amount', 'contracts/value/currency']],\n",
        " 'Percent of contracts completed on time ': [['U070'],  ['contracts/id', 'contracts/period/endDate', 'contracts/status']],\n",
        " 'Share of contracts whose milestones are completed on time': [['U071'], ['contracts/id', 'contracts/implementation/milestones/dueDate', 'contracts/implementation/milestones/dateMet']]\n",
        "}"
      ]
    },
    {
      "cell_type": "markdown",
      "metadata": {
        "id": "NMdZd9KKFXDb"
      },
      "source": [
        "### Usability function"
      ]
    },
    {
      "cell_type": "code",
      "execution_count": null,
      "metadata": {
        "id": "9zKTJcdGQSN-"
      },
      "outputs": [],
      "source": [
        "from ocdskingfishercolab import calculate_coverage"
      ]
    },
    {
      "cell_type": "code",
      "execution_count": null,
      "metadata": {
        "id": "1DkK31xyHHAq"
      },
      "outputs": [],
      "source": [
        "def usability_checks(check_coverage=False):\n",
        "  '''Returns a table of the usability checks.\n",
        "  It indicates if the fields needed to calculate a particular indicator are present.\n",
        "  Set check_coverage=True to check for coverage'''\n",
        "\n",
        "  results_list=[]\n",
        "  missing_fields=[]\n",
        "\n",
        "  for i in indicators_dic.values():\n",
        "    check =  any(item not in fields_list for item in i[1])\n",
        "    if check==True:\n",
        "      result='missing fields'\n",
        "\n",
        "    else:\n",
        "      result='possible to calculate'\n",
        "    missing=[i[1][j] for j in range(0,len(i[1])) if i[1][j] not in fields_list]\n",
        "    missing_fields.append(missing)\n",
        "    results_list.append(result)\n",
        "\n",
        "  #Generate dataframe\n",
        "\n",
        "  df = pd.DataFrame(list(zip(list(indicators_dic.keys()),\n",
        "                     [indicators_dic[i][0] for i in indicators_dic.keys()],\n",
        "                     [indicators_dic[i][1:] for i in indicators_dic.keys()]))\n",
        "                   ,columns = ['indicator','U_id',  'fields needed'])\n",
        "  df['U_id']=df['U_id'].apply(lambda x: ', '.join(map(str, x)))\n",
        "  df['fields needed']=df['fields needed'].astype(str).str.replace('\\[|\\]|\\'', '')\n",
        "  df['calculation']=results_list\n",
        "  df['missing fields']=missing_fields\n",
        "  df['missing fields']=df['missing fields'].apply(lambda x: ', '.join(map(str, x)))\n",
        "\n",
        "  if check_coverage==True:\n",
        "#Calculate coverage\n",
        "    coverage=[]\n",
        "    for i in indicators_dic.values():\n",
        "      fields=[item for sublist in i for item in sublist][1:]\n",
        "      result = calculate_coverage(fields, 'release_summary')\n",
        "      result_value=pd.to_numeric(result['total_percentage'][0])\n",
        "      coverage.append(result_value)\n",
        "    df['coverage']=coverage\n",
        "    return(df)\n",
        "\n",
        "  else:\n",
        "    return(df)"
      ]
    },
    {
      "cell_type": "markdown",
      "metadata": {
        "id": "6BBguZK2cGyY"
      },
      "source": [
        "Set `check_coverage=True` if you are working with an OCDS dataset and want to calculate coverage.  Default is set to `False`."
      ]
    },
    {
      "cell_type": "code",
      "execution_count": null,
      "metadata": {
        "id": "xrxFlHz9Hk48"
      },
      "outputs": [],
      "source": [
        "result=usability_checks(check_coverage=True)"
      ]
    },
    {
      "cell_type": "markdown",
      "metadata": {
        "id": "Fvej9yl_H5oE"
      },
      "source": [
        "### Export and visualize results"
      ]
    },
    {
      "cell_type": "markdown",
      "metadata": {
        "id": "QaMrXgqBH-nD"
      },
      "source": [
        "#### Choose language of the export"
      ]
    },
    {
      "cell_type": "code",
      "execution_count": null,
      "metadata": {
        "id": "GVZIlbRaIAFc"
      },
      "outputs": [],
      "source": [
        "from ipywidgets import widgets\n",
        "\n",
        "style = {'description_width': 'initial'}\n",
        "def pick_language():\n",
        "  global lang\n",
        "  languages = ['Spanish', 'English']\n",
        "  lang = widgets.Dropdown(options= languages, description='language', style=style)\n",
        "  display(lang)\n",
        "pick_language()"
      ]
    },
    {
      "cell_type": "markdown",
      "metadata": {
        "id": "EBmaz2VRITHf"
      },
      "source": [
        "#### Load use case indicators spreadsheet"
      ]
    },
    {
      "cell_type": "code",
      "execution_count": null,
      "metadata": {
        "id": "PxE0f0WnIKCz"
      },
      "outputs": [],
      "source": [
        "if lang.value=='English':\n",
        "  language='Use case guide: Indicators linked to OCDS #public'\n",
        "else:\n",
        "  language='[ES] of Use case guide: Indicators linked to OCDS #public'\n",
        "\n",
        "from google.colab import auth\n",
        "auth.authenticate_user()\n",
        "\n",
        "from google.auth import default\n",
        "creds, _ = default()\n",
        "\n",
        "import gspread\n",
        "gc = gspread.authorize(creds)\n",
        "worksheet = gc.open(language).sheet1\n",
        "\n",
        "# get_all_values gives a list of rows.\n",
        "rows = worksheet.get_all_values()\n",
        "# Convert to a DataFrame and render.\n",
        "\n",
        "indicators=pd.DataFrame(rows)\n",
        "indicators=indicators.rename(columns=indicators.iloc[0]).drop(indicators.index[0])\n",
        "\n",
        "if lang.value=='English':\n",
        "  indicatorsdf=indicators.iloc[:, [0, 3, 4,9]]\n",
        "  result_final=result.merge(indicatorsdf, on='U_id')\n",
        "else:\n",
        "  indicatorsdf=indicators.iloc[:, [0, 3,4,5, 9]]\n",
        "  result_final=indicatorsdf.merge(result, on='U_id').drop(['indicator'], axis=1)\n",
        "  result_final.rename(columns = {'fields needed':'Campos necesarios',\n",
        "                                 'calculation':'¿Se puede calcular?',\n",
        "                                 'missing fields': 'Campos faltantes',\n",
        "                                 'coverage': 'Cobertura'}, inplace = True)\n",
        "  result_final.replace({'¿Se puede calcular?' : {'possible to calculate': 'sí', 'missing fields': 'campos faltantes'}}, inplace=True)\n"
      ]
    },
    {
      "cell_type": "markdown",
      "metadata": {
        "id": "sbcQgxItIodv"
      },
      "source": [
        "#### Table of results"
      ]
    },
    {
      "cell_type": "code",
      "execution_count": null,
      "metadata": {
        "id": "hMJH_IpAIm9V"
      },
      "outputs": [],
      "source": [
        "result_final"
      ]
    },
    {
      "cell_type": "markdown",
      "metadata": {
        "id": "LXRG5Di4JTC6"
      },
      "source": [
        "#### Most common fields for indicators"
      ]
    },
    {
      "cell_type": "markdown",
      "metadata": {
        "id": "dU4jyCZyJaqx"
      },
      "source": [
        "This table shows the most frequent fields used to calculate indicators and if they are published.  You can use this table to highlight to the publisher the key data gaps.  "
      ]
    },
    {
      "cell_type": "code",
      "execution_count": null,
      "metadata": {
        "id": "XZVErXpYJXxV"
      },
      "outputs": [],
      "source": [
        "from collections import Counter\n",
        "import numpy as np\n",
        "\n",
        "fields=list(indicators_dic.values())\n",
        "fields=[item[1:] for item in fields]\n",
        "flat_list = [item for sublist in [item for sublist in fields for item in sublist] for item in sublist]\n",
        "fields_list=Counter(flat_list)\n",
        "\n",
        "\n",
        "fields_count = pd.DataFrame.from_dict(fields_list, orient='index').reset_index().rename(columns={'index':'field', 0:'number of indicators'})\n",
        "\n",
        "\n",
        "fields_count=fields_count.sort_values('number of indicators', ascending=False).reset_index(drop=True)\n",
        "fields_count['published']=np.where(fields_count['field'].isin(fields_table['path']), 'yes', 'no')\n",
        "\n",
        "fields_count"
      ]
    },
    {
      "cell_type": "markdown",
      "metadata": {
        "id": "3001zqj9IxHF"
      },
      "source": [
        "#### Save tables to spreadsheet"
      ]
    },
    {
      "cell_type": "code",
      "execution_count": null,
      "metadata": {
        "id": "Qxb5b7wsI0GM"
      },
      "outputs": [],
      "source": [
        "save_dataframe_to_sheet(result_final, 'usability table')\n",
        "save_dataframe_to_sheet(fields_count, 'key fields')"
      ]
    },
    {
      "cell_type": "markdown",
      "metadata": {
        "id": "krRQKM35I1GH"
      },
      "source": [
        "#### Visualize results"
      ]
    },
    {
      "cell_type": "code",
      "execution_count": null,
      "metadata": {
        "id": "3tW-Q8-uJC89"
      },
      "outputs": [],
      "source": [
        "import altair as alt\n",
        "\n",
        "if lang.value=='English':\n",
        "\n",
        "\n",
        "  alt.Chart(result_final).transform_window(\n",
        "    nrow=\"row_number(indicator)\",\n",
        "    frame=[None, None],\n",
        "    sort=[{\"field\": \"calculation\"}],\n",
        "    groupby=[\"Use case\"]).mark_circle(size=250, opacity=1).encode(\n",
        "    x=alt.X(\"nrow\", type=\"quantitative\",\n",
        "            axis=alt.Axis(title=[\"number of indicators\", \"\"], orient=\"top\", tickCount=5)),\n",
        "    y=alt.Y(\"Use case\", type=\"nominal\",\n",
        "            sort=alt.Sort(field=\"indicator\", op=\"count\", order=\"descending\")),\n",
        "    color=alt.Color(\"calculation\", type=\"nominal\",\n",
        "                    scale=alt.Scale(range=[\"#fb6045\", \"#d6e100\"]),\n",
        "                    legend=alt.Legend(title=[\"can we calculate it?\"])),\n",
        "    tooltip=[\n",
        "        alt.Tooltip(\"indicator\", type=\"nominal\"),\n",
        "        alt.Tooltip(\"Use case\", type=\"nominal\"),\n",
        "        alt.Tooltip(\"calculation\", type=\"nominal\"),\n",
        "        alt.Tooltip(\"missing fields\", type=\"nominal\"),\n",
        "\n",
        "    ]).properties(width=600, height=350, padding=50,\n",
        "             title=alt.TitleParams(\n",
        "                 text=\"\",\n",
        "                 subtitle=[\"\"],\n",
        "                 fontSize=18\n",
        "             )).configure_axis(titleFontSize=14, labelFontSize=14, labelPadding=5, ticks=False, domain=False)\\\n",
        "             .configure_legend(labelFontSize=14, titleFontSize=14).configure_view(strokeWidth=0).display()\n",
        "\n",
        "else:\n",
        "\n",
        "  alt.Chart(result_final).transform_window(\n",
        "    nrow=\"row_number(Indicador)\",\n",
        "    frame=[None, None],\n",
        "    sort=[{\"field\": '¿Se puede calcular?'}],\n",
        "    groupby=[\"Caso de Uso\"]).mark_circle(size=250, opacity=1).encode(\n",
        "    x=alt.X(\"nrow\", type=\"quantitative\",\n",
        "            axis=alt.Axis(title=[\"Cantidad de indicadores\", \"\"], orient=\"top\", tickCount=5)),\n",
        "    y=alt.Y(\"Caso de Uso\", type=\"nominal\",\n",
        "            sort=alt.Sort(field=\"Indicador\", op=\"count\", order=\"descending\")),\n",
        "    color=alt.Color('¿Se puede calcular?', type=\"nominal\",\n",
        "                    scale=alt.Scale(range=[\"#fb6045\", \"#d6e100\"]),\n",
        "                    legend=alt.Legend(title=['¿Se puede calcular?'])),\n",
        "    tooltip=[\n",
        "        alt.Tooltip(\"Indicador\", type=\"nominal\"),\n",
        "        alt.Tooltip(\"Caso de uso\", type=\"nominal\"),\n",
        "        alt.Tooltip(\"¿Se puede calcular?\", type=\"nominal\"),\n",
        "        alt.Tooltip(\"Campos faltantes\", type=\"nominal\"),\n",
        "\n",
        "    ]).properties(width=600, height=350, padding=50,\n",
        "             title=alt.TitleParams(\n",
        "                 text=\"\",\n",
        "                 subtitle=[\"\"],\n",
        "                 fontSize=18\n",
        "             )).configure_axis(titleFontSize=14, labelFontSize=14, labelPadding=5, ticks=False, domain=False)\\\n",
        "             .configure_legend(labelFontSize=14, titleFontSize=14).configure_view(strokeWidth=0).display()\n"
      ]
    }
  ],
  "metadata": {
    "colab": {
      "name": "template_usability_checks",
      "provenance": []
    },
    "kernelspec": {
      "display_name": "Python 3",
      "name": "python3"
    }
  },
  "nbformat": 4,
  "nbformat_minor": 0
}
