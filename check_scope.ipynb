{
  "nbformat": 4,
  "nbformat_minor": 0,
  "metadata": {
    "colab": {
      "name": "check_scope",
      "provenance": [],
      "toc_visible": true
    },
    "kernelspec": {
      "display_name": "Python 3",
      "name": "python3"
    }
  },
  "cells": [
    {
      "cell_type": "markdown",
      "metadata": {
        "id": "73ktdYktAVoO"
      },
      "source": [
        "## Check scope"
      ]
    },
    {
      "cell_type": "markdown",
      "metadata": {
        "id": "T4Gb2g11BXwt"
      },
      "source": [
        "\n",
        "\n",
        "Use this section to check:\n",
        "\n",
        "* how many releases, records and compiled releases your data contains\n",
        "* what stages of the contracting process your data covers\n",
        "* what date range your data covers"
      ]
    },
    {
      "cell_type": "markdown",
      "metadata": {
        "id": "ycCwGfGkA6au"
      },
      "source": [
        "### Release and record counts"
      ]
    },
    {
      "cell_type": "markdown",
      "metadata": {
        "id": "s-i5qCmvCsHA"
      },
      "source": [
        "Collections in Kingfisher Process contain either [releases](https://standard.open-contracting.org/latest/en/schema/reference/), [records](https://standard.open-contracting.org/latest/en/schema/records_reference/) or [compiled releases](https://standard.open-contracting.org/latest/en/schema/records_reference/#compiled-release). Kingfisher generates compiled release collections from release or record collections."
      ]
    },
    {
      "cell_type": "markdown",
      "metadata": {
        "id": "VXxxMiKcBOCf"
      },
      "source": [
        "Generate a count of releases, records and compiled releases for each collection."
      ]
    },
    {
      "cell_type": "code",
      "metadata": {
        "id": "MVJ6sIWeAZzD"
      },
      "source": [
        "%%sql\n",
        "\n",
        "SELECT\n",
        "\tid AS collection_id,\n",
        "\tcached_releases_count AS releases_count,\n",
        "\tcached_records_count AS records_count,\n",
        "\tcached_compiled_releases_count AS compiled_releases_count\n",
        "FROM\n",
        "\tcollection\n",
        "WHERE\n",
        "\tid IN :collection_ids"
      ],
      "execution_count": null,
      "outputs": []
    },
    {
      "cell_type": "markdown",
      "metadata": {
        "id": "HD9LE4SLCzPg"
      },
      "source": [
        "### Contracting process stages"
      ]
    },
    {
      "cell_type": "markdown",
      "metadata": {
        "id": "cTZiHSkvC3__"
      },
      "source": [
        "[Release tags](https://standard.open-contracting.org/latest/en/schema/codelists/#release-tag) indicate the stage of the contracting process an OCDS release relates to."
      ]
    },
    {
      "cell_type": "markdown",
      "metadata": {
        "id": "EqsaSZj6DkuS"
      },
      "source": [
        "Generate a summary of releases by `tag`."
      ]
    },
    {
      "cell_type": "code",
      "metadata": {
        "id": "WwgeZMX5Ame4"
      },
      "source": [
        "%%sql\n",
        "\n",
        "SELECT\n",
        "\tcollection_id,\n",
        "\trelease_type,\n",
        "\trelease_tag,\n",
        "\tcount(*)\n",
        "FROM\n",
        "\trelease_summary\n",
        "GROUP BY\n",
        "\tcollection_id,\n",
        "\trelease_type,\n",
        "\trelease_tag\n",
        "ORDER BY\n",
        "\tcollection_id;"
      ],
      "execution_count": null,
      "outputs": []
    },
    {
      "cell_type": "markdown",
      "metadata": {
        "id": "9Ui1BMMBFgGu"
      },
      "source": [
        "### Date range"
      ]
    },
    {
      "cell_type": "markdown",
      "metadata": {
        "id": "V5RSYoTSHRZE"
      },
      "source": [
        "Generate a summary of the earliest and latest `date`, `awards/date` and `contracts/dateSigned`."
      ]
    },
    {
      "cell_type": "code",
      "metadata": {
        "id": "qy0VRQ3IDwsG"
      },
      "source": [
        "%%sql\n",
        "\n",
        "SELECT\n",
        "\tcollection_id,\n",
        "\trelease_type,\n",
        "\t'release_date' AS date,\n",
        "\tmin(release_date) AS min,\n",
        "\tmax(release_date) AS max\n",
        "FROM\n",
        "\trelease_summary\n",
        "GROUP BY\n",
        "\tcollection_id,\n",
        "\trelease_type\n",
        "UNION ALL\n",
        "SELECT\n",
        "\tcollection_id,\n",
        "\trelease_type,\n",
        "\t'award_date' AS date,\n",
        "\tmin(first_award_date) AS min,\n",
        "\tmax(last_award_date) AS max\n",
        "FROM\n",
        "\trelease_summary\n",
        "GROUP BY\n",
        "\tcollection_id,\n",
        "\trelease_type\n",
        "UNION ALL\n",
        "SELECT\n",
        "\tcollection_id,\n",
        "\trelease_type,\n",
        "\t'contract_datesigned' AS date,\n",
        "\tmin(first_contract_datesigned) AS min,\n",
        "\tmax(last_contract_datesigned) AS max\n",
        "FROM\n",
        "\trelease_summary\n",
        "GROUP BY\n",
        "\tcollection_id,\n",
        "\trelease_type;"
      ],
      "execution_count": null,
      "outputs": []
    }
  ]
}