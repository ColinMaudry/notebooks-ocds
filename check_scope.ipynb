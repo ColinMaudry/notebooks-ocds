{
  "nbformat": 4,
  "nbformat_minor": 0,
  "metadata": {
    "colab": {
      "name": "check_scope",
      "provenance": [],
      "toc_visible": true
    },
    "kernelspec": {
      "display_name": "Python 3",
      "name": "python3"
    }
  },
  "cells": [
    {
      "cell_type": "markdown",
      "metadata": {
        "id": "73ktdYktAVoO"
      },
      "source": [
        "## Check scope"
      ]
    },
    {
      "cell_type": "markdown",
      "metadata": {
        "id": "T4Gb2g11BXwt"
      },
      "source": [
        "\n",
        "\n",
        "Use this section to check:\n",
        "\n",
        "* how many releases, records and compiled releases your data contains\n",
        "* what stages of the contracting process your data covers\n",
        "* what date range your data covers"
      ]
    },
    {
      "cell_type": "markdown",
      "metadata": {
        "id": "ycCwGfGkA6au"
      },
      "source": [
        "### Release and record counts"
      ]
    },
    {
      "cell_type": "markdown",
      "metadata": {
        "id": "s-i5qCmvCsHA"
      },
      "source": [
        "Collections in Kingfisher Process contain either [releases](https://standard.open-contracting.org/latest/en/schema/reference/), [records](https://standard.open-contracting.org/latest/en/schema/records_reference/) or [compiled releases](https://standard.open-contracting.org/latest/en/schema/records_reference/#compiled-release). Kingfisher generates compiled release collections from release or record collections.\n",
        "\n",
        "Use this section to check that the data contains the expected number of releases, records and compiled releases."
      ]
    },
    {
      "cell_type": "markdown",
      "metadata": {
        "id": "VXxxMiKcBOCf"
      },
      "source": [
        "Generate a count of releases, records and compiled releases for each collection."
      ]
    },
    {
      "cell_type": "code",
      "metadata": {
        "id": "MVJ6sIWeAZzD"
      },
      "source": [
        "%%sql\n",
        "\n",
        "SELECT\n",
        "\tid AS collection_id,\n",
        "\tcached_releases_count AS releases_count,\n",
        "\tcached_records_count AS records_count,\n",
        "\tcached_compiled_releases_count AS compiled_releases_count\n",
        "FROM\n",
        "\tcollection\n",
        "WHERE\n",
        "\tid IN :collection_ids"
      ],
      "execution_count": null,
      "outputs": []
    },
    {
      "cell_type": "markdown",
      "metadata": {
        "id": "HD9LE4SLCzPg"
      },
      "source": [
        "### Contracting process stages"
      ]
    },
    {
      "cell_type": "markdown",
      "metadata": {
        "id": "o5hZPAo5yHMm"
      },
      "source": [
        "Use this section to check that the data covers the expected stages of the contracting process."
      ]
    },
    {
      "cell_type": "markdown",
      "metadata": {
        "id": "Tfq5haelyH3E"
      },
      "source": [
        "#### Release tags"
      ]
    },
    {
      "cell_type": "markdown",
      "metadata": {
        "id": "cTZiHSkvC3__"
      },
      "source": [
        "[Release tags](https://standard.open-contracting.org/latest/en/schema/codelists/#release-tag) indicate the stage of the contracting process an OCDS release relates to."
      ]
    },
    {
      "cell_type": "markdown",
      "metadata": {
        "id": "EqsaSZj6DkuS"
      },
      "source": [
        "Generate a summary of releases by `tag`."
      ]
    },
    {
      "cell_type": "code",
      "metadata": {
        "id": "WwgeZMX5Ame4"
      },
      "source": [
        "%%sql\n",
        "\n",
        "SELECT\n",
        "\tcollection_id,\n",
        "\trelease_type,\n",
        "\ttag,\n",
        "\tcount(*)\n",
        "FROM\n",
        "\trelease_summary\n",
        "GROUP BY\n",
        "\tcollection_id,\n",
        "\trelease_type,\n",
        "\ttag\n",
        "ORDER BY\n",
        "\tcollection_id;"
      ],
      "execution_count": null,
      "outputs": []
    },
    {
      "cell_type": "markdown",
      "metadata": {
        "id": "vTzQeN_kyJ_E"
      },
      "source": [
        "#### Objects per stage"
      ]
    },
    {
      "cell_type": "markdown",
      "metadata": {
        "id": "8EmYSnoDnOmT"
      },
      "source": [
        "In OCDS, data is organized into objects, for each stage of a contracting process. Each compiled release has: at most one `Planning` object, at most one `Tender` object, any number of `Award` objects, and any number of `Contract` objects. Each `Contract` object has at most one `Implementation` object. As such, the number of `Award` objects can exceed the number of unique OCIDs, but the number of `Tender` objects can't."
      ]
    },
    {
      "cell_type": "markdown",
      "metadata": {
        "id": "DtRec1tNnPz6"
      },
      "source": [
        "Generate and plot a count of objects per stage:"
      ]
    },
    {
      "cell_type": "code",
      "metadata": {
        "id": "mKo6Q4HimvQZ"
      },
      "source": [
        "query = \"\"\"\n",
        "\n",
        "  SELECT\n",
        "    CASE WHEN paths.path = 'contracts/implementation' THEN 'implementation' ELSE paths.path END as stage,\n",
        "    CASE WHEN paths.path IN ('planning', 'tender', 'contracts/implementation') THEN\n",
        "      GREATEST (object_property, 0)\n",
        "    ELSE\n",
        "      GREATEST (array_count, 0)\n",
        "    END AS object_count\n",
        "  FROM (\n",
        "    SELECT\n",
        "      unnest(ARRAY['planning', 'tender', 'awards', 'contracts', 'contracts/implementation']) AS path) AS paths\n",
        "    LEFT JOIN (\n",
        "      SELECT\n",
        "        *\n",
        "      FROM\n",
        "        field_counts\n",
        "      WHERE\n",
        "        collection_id IN :collection_ids\n",
        "        AND release_type = 'compiled_release'\n",
        "        AND path IN ('planning', 'tender', 'awards', 'contracts', 'contracts/implementation')) AS field_counts USING (path)\n",
        "\n",
        "\"\"\"\n",
        "\n",
        "objects_per_stage = %sql {query}\n",
        "\n",
        "objects_per_stage_chart = sns.catplot(x=\"stage\", y=\"object_count\", kind=\"bar\", data=objects_per_stage).set_xticklabels(rotation=90)\n",
        "\n",
        "for ax in objects_per_stage_chart.axes.flat:\n",
        "  format_thousands(ax.yaxis)\n",
        "\n",
        "objects_per_stage"
      ],
      "execution_count": null,
      "outputs": []
    },
    {
      "cell_type": "markdown",
      "metadata": {
        "id": "9Ui1BMMBFgGu"
      },
      "source": [
        "### Date ranges"
      ]
    },
    {
      "cell_type": "markdown",
      "metadata": {
        "id": "ybx8YrW7hRWC"
      },
      "source": [
        "\n",
        "Use this section to check that the data covers the expected date range."
      ]
    },
    {
      "cell_type": "markdown",
      "metadata": {
        "id": "V5RSYoTSHRZE"
      },
      "source": [
        "Generate a summary of the earliest and latest `date`, `awards/date` and `contracts/dateSigned`."
      ]
    },
    {
      "cell_type": "code",
      "metadata": {
        "id": "qy0VRQ3IDwsG"
      },
      "source": [
        "%%sql\n",
        "\n",
        "SELECT\n",
        "\tcollection_id,\n",
        "\trelease_type,\n",
        "\t'release_date' AS date_type,\n",
        "\tmin(date) AS min,\n",
        "\tmax(date) AS max\n",
        "FROM\n",
        "\trelease_summary\n",
        "GROUP BY\n",
        "\tcollection_id,\n",
        "\trelease_type,\n",
        "  date_type\n",
        "UNION ALL\n",
        "SELECT\n",
        "\tcollection_id,\n",
        "\trelease_type,\n",
        "\t'award_date' AS date_type,\n",
        "\tmin(first_award_date) AS min,\n",
        "\tmax(last_award_date) AS max\n",
        "FROM\n",
        "\trelease_summary\n",
        "GROUP BY\n",
        "\tcollection_id,\n",
        "\trelease_type,\n",
        "  date_type\n",
        "UNION ALL\n",
        "SELECT\n",
        "\tcollection_id,\n",
        "\trelease_type,\n",
        "\t'contract_datesigned' AS date_type,\n",
        "\tmin(first_contract_datesigned) AS min,\n",
        "\tmax(last_contract_datesigned) AS max\n",
        "FROM\n",
        "\trelease_summary\n",
        "GROUP BY\n",
        "\tcollection_id,\n",
        "\trelease_type\n",
        "ORDER BY\n",
        "  collection_id,\n",
        "  release_type,\n",
        "  date_type;"
      ],
      "execution_count": null,
      "outputs": []
    },
    {
      "cell_type": "markdown",
      "metadata": {
        "id": "daHiVoJkexWi"
      },
      "source": [
        "### Release date distribution\n",
        "\n",
        "Use this section to check that releases are distributed as expected."
      ]
    },
    {
      "cell_type": "markdown",
      "metadata": {
        "id": "DynLHB_12cZ3"
      },
      "source": [
        "Plot the count of releases per month:"
      ]
    },
    {
      "cell_type": "code",
      "metadata": {
        "id": "OM2aiiJzAmzM"
      },
      "source": [
        "query = \"\"\"\n",
        "\n",
        "SELECT\n",
        "  collection_id::text,\n",
        "  release_type,\n",
        "  date,\n",
        "  count(*) as release_count\n",
        "FROM\n",
        "\trelease_summary rs\n",
        "WHERE\n",
        "  collection_id in :collection_ids\n",
        "GROUP BY\n",
        "  collection_id,\n",
        "  release_type,\n",
        "  date\n",
        "order by\n",
        "  date ASC;\n",
        "\n",
        "\"\"\"\n",
        "\n",
        "release_dates = %sql {query}\n",
        "\n",
        "# Resample by month\n",
        "release_dates = release_dates.set_index('date')\n",
        "release_dates = release_dates.groupby(['collection_id', 'release_type']).resample(\"M\").sum()\n",
        "release_dates = release_dates.reset_index()\n",
        "release_dates = release_dates.set_index('date')\n",
        "\n",
        "fig, ax = plt.subplots(figsize = [15,5])\n",
        "sns.lineplot(data = release_dates, x='date', y='release_count', hue = 'collection_id', style = 'release_type')\n",
        "\n",
        "format_thousands(ax.yaxis)\n",
        "sns.despine()"
      ],
      "execution_count": null,
      "outputs": []
    },
    {
      "cell_type": "markdown",
      "metadata": {
        "id": "ugoDOjsdkLXN"
      },
      "source": [
        "### Extensions "
      ]
    },
    {
      "cell_type": "markdown",
      "metadata": {
        "id": "9cxNPLXN8wwc"
      },
      "source": [
        "Use this section to check which extensions the data uses."
      ]
    },
    {
      "cell_type": "markdown",
      "metadata": {
        "id": "U7iYgIdW8z1c"
      },
      "source": [
        "Generate a list of extensions declared in the package metadata:"
      ]
    },
    {
      "cell_type": "code",
      "metadata": {
        "id": "qFbWPY5Eq7fv"
      },
      "source": [
        "%%sql\n",
        "\n",
        "select \n",
        "  collection_id,\n",
        "  release_type,\n",
        "  jsonb_array_elements(package_data -> 'extensions') as extension,\n",
        "  count(*) as count\n",
        "from\n",
        "  release_summary\n",
        "where\n",
        "  collection_id in :collection_ids\n",
        "AND\n",
        "  package_data is not null\n",
        "GROUP BY\n",
        "  collection_id,\n",
        "  release_type,\n",
        "  extension\n",
        "ORDER BY\n",
        "  collection_id,\n",
        "  release_type,\n",
        "  count DESC;"
      ],
      "execution_count": null,
      "outputs": []
    }
  ]
}