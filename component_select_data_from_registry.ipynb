{
  "nbformat": 4,
  "nbformat_minor": 0,
  "metadata": {
    "colab": {
      "provenance": [],
      "authorship_tag": "ABX9TyPdQMarMXECiVIE1jjH0pC2"
    },
    "kernelspec": {
      "name": "python3",
      "display_name": "Python 3"
    },
    "language_info": {
      "name": "python"
    }
  },
  "cells": [
    {
      "cell_type": "markdown",
      "source": [
        "## Select a publication to download from the [Data Registry](https://data.open-contracting.org/)"
      ],
      "metadata": {
        "id": "vpPltvi1tjEs"
      }
    },
    {
      "cell_type": "code",
      "execution_count": null,
      "metadata": {
        "id": "CLc-_oJntg93"
      },
      "outputs": [],
      "source": [
        "# @title Select the publication to download { display-mode: \"form\" }\n",
        "\n",
        "publication_select_box = get_publication_select_box()\n",
        "\n",
        "publication_select_box"
      ]
    },
    {
      "cell_type": "code",
      "execution_count": null,
      "outputs": [],
      "source": [
        "# @title Select year to download or \"full\" to download all the available years { display-mode: \"form\" }\n",
        "\n",
        "selected_year, selected_publication = get_years_select_box(publication_select_box)\n",
        "selected_year"
      ],
      "metadata": {
        "collapsed": false
      }
    },
    {
      "cell_type": "code",
      "execution_count": null,
      "outputs": [],
      "source": [
        "# @title Download the selected file { display-mode: \"form\" }\n",
        "\n",
        "file_name = download_file(selected_publication, selected_year)"
      ],
      "metadata": {
        "collapsed": false
      }
    }
  ]
}
