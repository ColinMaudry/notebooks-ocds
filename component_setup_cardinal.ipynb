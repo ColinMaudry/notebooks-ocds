{
  "cells": [
    {
      "cell_type": "markdown",
      "metadata": {
        "id": "25lVf3PwsmmV"
      },
      "source": [
        "## Setup Cardinal"
      ]
    },
    {
      "cell_type": "markdown",
      "metadata": {
        "id": "6fzwlrSLOF3w"
      },
      "source": [
        "### Install Cardinal"
      ]
    },
    {
      "cell_type": "markdown",
      "metadata": {
        "id": "1H6SWBCTDq5G"
      },
      "source": [
        "This notebook uses [Cardinal](https://cardinal.readthedocs.io/en/latest/), a Rust package to calculate red flags with OCDS data."
      ]
    },
    {
      "cell_type": "code",
      "execution_count": null,
      "metadata": {
        "id": "6syz0fkkEdgj"
      },
      "outputs": [],
      "source": [
        "! curl -sSOL https://github.com/open-contracting/cardinal-rs/releases/download/0.0.5/ocdscardinal-0.0.5-linux-64-bit.zip\n",
        "! unzip -oj ocdscardinal-0.0.5-linux-64-bit.zip ocdscardinal-0.0.5-linux-64-bit/ocdscardinal"
      ]
    },
    {
      "cell_type": "markdown",
      "metadata": {
        "id": "QoM7K7G3J-PY"
      },
      "source": [
        "### Calculate the field list"
      ]
    },
    {
      "cell_type": "markdown",
      "metadata": {
        "id": "Y-P4qg78KCW7"
      },
      "source": [
        "Use Cardinal's [coverage command](https://cardinal.readthedocs.io/en/latest/cli/coverage.html) to extract the OCDS data fields published in the dataset. Store the results in a dataframe."
      ]
    },
    {
      "cell_type": "code",
      "execution_count": null,
      "metadata": {
        "id": "mEHY4LwZHMU4"
      },
      "outputs": [],
      "source": [
        "coverage = !./ocdscardinal coverage  $file_name\n",
        "fields = (\n",
        "    pd.DataFrame.from_dict(json.loads(coverage[0]), orient=\"index\", columns=[\"count\"])\n",
        "    .reset_index()\n",
        "    .rename(columns={\"index\": \"path\"})\n",
        ")"
      ]
    },
    {
      "cell_type": "markdown",
      "metadata": {
        "id": "uATcxXQUhb3O"
      },
      "source": [
        "In the table below you will see the list of fields that are published and the number of [OCDS releases](https://standard.open-contracting.org/latest/en/schema/reference/)."
      ]
    },
    {
      "cell_type": "code",
      "execution_count": null,
      "metadata": {
        "id": "u8jlJP9VH7Xi"
      },
      "outputs": [],
      "source": [
        "# Leaves only object members\n",
        "fields_table = fields[fields.path.str.contains(\"[a-z]$\")].copy()\n",
        "fields_table[\"path\"] = fields_table[\"path\"].str.replace(r\"[][]|^/\", \"\", regex=True)\n",
        "fields_table"
      ]
    },
    {
      "cell_type": "code",
      "execution_count": null,
      "metadata": {
        "id": "4jlpziP2dmpk"
      },
      "outputs": [],
      "source": [
        "save_dataframe_to_sheet(fields_table, \"fields\")"
      ]
    }
  ],
  "metadata": {
    "colab": {
      "provenance": []
    },
    "kernelspec": {
      "display_name": "Python 3",
      "name": "python3"
    }
  },
  "nbformat": 4,
  "nbformat_minor": 0
}
