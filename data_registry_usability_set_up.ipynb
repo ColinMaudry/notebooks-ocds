{
  "cells": [
    {
      "cell_type": "markdown",
      "metadata": {
        "id": "25lVf3PwsmmV"
      },
      "source": [
        "## Data registry usability set up\n"
      ]
    },
    {
      "cell_type": "markdown",
      "source": [
        "Use this section to set up the notebook for a usability analysis using OCDS from the [Data Registry](https://data.open-contracting.org/)."
      ],
      "metadata": {
        "id": "g6Luwk25VKFF"
      }
    },
    {
      "cell_type": "markdown",
      "metadata": {
        "id": "fo2UgOCujeAO"
      },
      "source": [
        "### Setup"
      ]
    },
    {
      "cell_type": "markdown",
      "metadata": {
        "id": "E0XPK3F_N_Wj"
      },
      "source": [
        "#### Import libraries"
      ]
    },
    {
      "cell_type": "code",
      "execution_count": null,
      "metadata": {
        "id": "ZhWJO4J_OA-R"
      },
      "outputs": [],
      "source": [
        "%%shell\n",
        "pip install --upgrade 'ocdskingfishercolab<0.4' psycopg2-binary > pip.log"
      ]
    },
    {
      "cell_type": "code",
      "execution_count": null,
      "metadata": {
        "id": "KRfF-oClONRY"
      },
      "outputs": [],
      "source": [
        "import pandas as pd\n",
        "from google.colab.files import download\n",
        "from google.colab import data_table\n",
        "\n",
        "from ocdskingfishercolab import (\n",
        "    set_spreadsheet_name,\n",
        "    save_dataframe_to_sheet,\n",
        "    download_dataframe_as_csv)\n",
        "\n",
        "# Load https://pypi.org/project/ipython-sql/\n",
        "%load_ext sql\n",
        "# Load https://colab.research.google.com/notebooks/data_table.ipynb\n",
        "%load_ext google.colab.data_table"
      ]
    },
    {
      "cell_type": "markdown",
      "source": [
        "Set the name of the spreadsheet to export results to:"
      ],
      "metadata": {
        "id": "3pTkW_00WaNx"
      }
    },
    {
      "cell_type": "code",
      "source": [
        "spreadsheet_name = 'feedback_results'\n",
        "\n",
        "set_spreadsheet_name(spreadsheet_name)"
      ],
      "metadata": {
        "id": "9cFqGwr_Wa3x"
      },
      "execution_count": null,
      "outputs": []
    },
    {
      "cell_type": "markdown",
      "metadata": {
        "id": "6fzwlrSLOF3w"
      },
      "source": [
        "#### Install Cardinal"
      ]
    },
    {
      "cell_type": "markdown",
      "metadata": {
        "id": "1H6SWBCTDq5G"
      },
      "source": [
        "This notebook uses [Cardinal](https://cardinal.readthedocs.io/en/latest/), a python library to calculate Red Flags with OCDS data."
      ]
    },
    {
      "cell_type": "code",
      "execution_count": null,
      "metadata": {
        "id": "6syz0fkkEdgj"
      },
      "outputs": [],
      "source": [
        "! curl -sSOL https://github.com/open-contracting/cardinal-rs/releases/download/0.0.2/ocdscardinal-0.0.2-linux-64-bit.zip"
      ]
    },
    {
      "cell_type": "code",
      "execution_count": null,
      "metadata": {
        "id": "uQ2luJ5qEgmS"
      },
      "outputs": [],
      "source": [
        "! unzip -oj ocdscardinal-0.0.2-linux-64-bit.zip ocdscardinal-0.0.2-linux-64-bit/ocdscardinal\n",
        "! ls"
      ]
    },
    {
      "cell_type": "markdown",
      "metadata": {
        "id": "tAcowhnZEssq"
      },
      "source": [
        "### Download the data from the Data Registry"
      ]
    },
    {
      "cell_type": "markdown",
      "metadata": {
        "id": "NhdIRZGjFWut"
      },
      "source": [
        "To select the data source go to the [OCDS data registry](https://data.open-contracting.org/) and select the desired publisher.  For the publisher of choice select a **jsonl file** and copy the url, in the command below.\n",
        "\n",
        "**In the registry you will also find a description of the data source and direct links to the publisher website where you can find more information about the scope of the publication.**\n",
        "\n",
        "<img src=\"https://drive.google.com/uc?id=10dlm8c55pN89YTGEyZgvsLDc8fFMLNf0\"  width=\"200\" height=\"300\">"
      ]
    },
    {
      "cell_type": "code",
      "execution_count": null,
      "metadata": {
        "id": "qauxqGNfb0-w"
      },
      "outputs": [],
      "source": [
        "url = input('Add URL from the registry source:')"
      ]
    },
    {
      "cell_type": "code",
      "execution_count": null,
      "metadata": {
        "id": "RLox7K6WEuuf"
      },
      "outputs": [],
      "source": [
        "! curl -sSOJ \"$url\""
      ]
    },
    {
      "cell_type": "markdown",
      "metadata": {
        "id": "7CXrE3PaeDaA"
      },
      "source": [
        "In the files tab at the left hand side of the notebook, look for the file ending in .gz you just downloaded (e.g `chile_compra_api_releases_full.jsonl.gz`), and add it to the command below (see example):\n",
        "\n",
        "<img src=\"https://drive.google.com/uc?id=19z86Nj5OY7Y8REfcd2sZbFPXDTAWZYS6\" width=\"200\" height=\"200\">\n",
        "\n"
      ]
    },
    {
      "cell_type": "code",
      "execution_count": null,
      "metadata": {
        "id": "E5DV4-cKfhr8"
      },
      "outputs": [],
      "source": [
        "file=input('Add name of .gz file')"
      ]
    },
    {
      "cell_type": "code",
      "execution_count": null,
      "metadata": {
        "id": "kGXWGevbfk0m"
      },
      "outputs": [],
      "source": [
        "file_jsonl=file.replace('.gz', '')"
      ]
    },
    {
      "cell_type": "code",
      "execution_count": null,
      "metadata": {
        "id": "AvFAxSCP0LSR"
      },
      "outputs": [],
      "source": [
        "! gunzip -f $file"
      ]
    },
    {
      "cell_type": "code",
      "execution_count": null,
      "metadata": {
        "id": "19bdlU6bfo-3"
      },
      "outputs": [],
      "source": [
        "! ls -lh $file_jsonl"
      ]
    },
    {
      "cell_type": "markdown",
      "metadata": {
        "id": "QoM7K7G3J-PY"
      },
      "source": [
        "### Calculate the list of fields"
      ]
    },
    {
      "cell_type": "markdown",
      "metadata": {
        "id": "Y-P4qg78KCW7"
      },
      "source": [
        "Use ocdscardinal [coverage command](https://cardinal.readthedocs.io/en/latest/cli/coverage.html) to extract the OCDS data fields published in the dataset.  Store the results in a dataframe.\n",
        "\n",
        "**In the command below you need to substitute the name of the jsonl file and the name you want to give to you new file**:"
      ]
    },
    {
      "cell_type": "code",
      "execution_count": null,
      "metadata": {
        "id": "mEHY4LwZHMU4"
      },
      "outputs": [],
      "source": [
        "! ./ocdscardinal coverage  $file_jsonl >> result_fields.json"
      ]
    },
    {
      "cell_type": "markdown",
      "metadata": {
        "id": "uATcxXQUhb3O"
      },
      "source": [
        "In the table below you will see the list of fields that are published and the number of [OCDS releases](https://standard.open-contracting.org/latest/en/schema/reference/)."
      ]
    },
    {
      "cell_type": "code",
      "execution_count": null,
      "metadata": {
        "id": "u8jlJP9VH7Xi"
      },
      "outputs": [],
      "source": [
        "fields = pd.DataFrame(pd.read_json('result_fields.json', typ='series'), columns=['releases']).rename_axis('path').reset_index()\n",
        "#Leaves only object members\n",
        "fields_table=fields[fields.path.str.contains('[a-z]$')]\n",
        "fields_table['path']=fields_table['path'].str.replace(r'[][]|^/', '', regex=True)\n",
        "fields_table\n"
      ]
    },
    {
      "cell_type": "code",
      "execution_count": null,
      "metadata": {
        "id": "4jlpziP2dmpk"
      },
      "outputs": [],
      "source": [
        "save_dataframe_to_sheet(fields_table, 'fields')"
      ]
    }
  ],
  "metadata": {
    "colab": {
      "provenance": []
    },
    "kernelspec": {
      "display_name": "Python 3",
      "name": "python3"
    }
  },
  "nbformat": 4,
  "nbformat_minor": 0
}