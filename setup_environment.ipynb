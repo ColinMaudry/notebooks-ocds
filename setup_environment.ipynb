{
  "nbformat": 4,
  "nbformat_minor": 0,
  "metadata": {
    "colab": {
      "name": "setup_notebook",
      "provenance": [],
      "authorship_tag": "ABX9TyNJe6aNAyqGQDHZT2WrOgLt"
    },
    "kernelspec": {
      "name": "python3",
      "display_name": "Python 3"
    }
  },
  "cells": [
    {
      "cell_type": "markdown",
      "metadata": {
        "id": "sfg_SbQWBCmW"
      },
      "source": [
        "## Setup\n",
        "\n",
        "*You must run the cells in this section each time you connect to a new runtime. For example, when you return to the notebook after an idle timeout, when the runtime crashes, or when you restart or factory reset the runtime.*"
      ]
    },
    {
      "cell_type": "markdown",
      "metadata": {
        "id": "2MRnhij4pmZO"
      },
      "source": [
        "Set name of spreadsheet to export results to:"
      ]
    },
    {
      "cell_type": "code",
      "metadata": {
        "id": "drokzszlphmK"
      },
      "source": [
        "spreadsheet_name = 'feedback_results'"
      ],
      "execution_count": null,
      "outputs": []
    },
    {
      "cell_type": "markdown",
      "metadata": {
        "id": "F8fwq_F6XMLs"
      },
      "source": [
        "Enter credentials:"
      ]
    },
    {
      "cell_type": "code",
      "metadata": {
        "id": "27yRx-oaXPtd"
      },
      "source": [
        "# Get database credentials. OCDS Helpdesk analysts, see https://crm.open-contracting.org/issues/6335.\n",
        "import getpass\n",
        "\n",
        "print('Enter your Kingfisher credentials')\n",
        "user = input('Username:')\n",
        "password = getpass.getpass('Password:')"
      ],
      "execution_count": null,
      "outputs": []
    },
    {
      "cell_type": "markdown",
      "metadata": {
        "id": "DZASSenGpprv"
      },
      "source": [
        "Setup notebook environment:"
      ]
    },
    {
      "cell_type": "code",
      "metadata": {
        "id": "--8vgOiP_58f"
      },
      "source": [
        "# Install Kingfisher Colab and required packages\n",
        "%shell pip install --upgrade 'ocdskingfishercolab<0.4' psycopg2-binary > pip.log\n",
        "\n",
        "# Import libraries and functions\n",
        "from ocdskingfishercolab import (\n",
        "    list_source_ids,\n",
        "    list_collections,\n",
        "    set_spreadsheet_name,\n",
        "    save_dataframe_to_sheet,\n",
        "    save_dataframe_to_spreadsheet,\n",
        "    set_search_path)\n",
        "import pandas as pd\n",
        "\n",
        "# Load https://pypi.org/project/ipython-sql/\n",
        "%load_ext sql \n",
        "\n",
        "# Load https://colab.research.google.com/notebooks/data_table.ipynb\n",
        "%load_ext google.colab.data_table \n",
        "\n",
        "# Set config\n",
        "%config SqlMagic.autopandas = True  # Return Pandas DataFrames instead of regular result sets\n",
        "%config SqlMagic.displaycon = False  # Don't show connection string after execute\n",
        "%config SqlMagic.feedback = False  # Don't print number of rows affected by DML\n",
        "set_spreadsheet_name(spreadsheet_name) # Set name of spreadsheet for exporting results\n",
        "\n",
        "# Connect to database\n",
        "connection_string = 'postgresql://' + user + ':' + password + '@postgres-readonly.kingfisher.open-contracting.org/ocdskingfisherprocess?sslmode=require'\n",
        "%sql $connection_string\n",
        "\n",
        "# Define function for rendering collapsible JSON in a notebook\n",
        "# Remove once https://github.com/open-contracting/kingfisher-colab/issues/40 is done\n",
        "import json\n",
        "from IPython.display import HTML\n",
        "\n",
        "def render_json(jstr):\n",
        "  if type(jstr) != str:\n",
        "    jstr = json.dumps(jstr)\n",
        "  return HTML(\"\"\"\n",
        "<script src=\"https://rawgit.com/caldwell/renderjson/master/renderjson.js\"></script>\n",
        "<script>\n",
        "renderjson.set_show_to_level(1)\n",
        "document.body.appendChild(renderjson(%s))\n",
        "new ResizeObserver(google.colab.output.resizeIframeToContent).observe(document.body)\n",
        "</script>\n",
        "\"\"\" % jstr)\n",
        "  \n",
        "# Install and setup plotting library\n",
        "# Maybe this can also be moved to Kingfisher-Colab?\n",
        "!pip install seaborn\n",
        "\n",
        "import seaborn as sns\n",
        "import matplotlib.pyplot as plt\n",
        "import matplotlib.ticker as tkr\n",
        "\n",
        "colab_dark_style = {'figure.facecolor': '#383838',\n",
        "                       'axes.edgecolor': '#d5d5d5',\n",
        "                       'axes.facecolor': '#383838',\n",
        "                       'axes.labelcolor': '#d5d5d5',\n",
        "                       'text.color': '#d5d5d5',\n",
        "                       'xtick.color': '#d5d5d5',\n",
        "                       'ytick.color': '#d5d5d5'}\n",
        "\n",
        "sns.set_style('dark', colab_dark_style)\n",
        "\n",
        "# Define function to apply number formatting to axis labels\n",
        "# Maybe this can also be moved to Kingfisher-Colab?\n",
        "# Needs updating to support other locales\n",
        "def format_thousands(axis):\n",
        "  axis.set_major_formatter(tkr.FuncFormatter(lambda x, pos: '{:,.0f}'.format(x)))"
      ],
      "execution_count": null,
      "outputs": []
    }
  ]
}