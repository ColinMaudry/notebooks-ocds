{
  "nbformat": 4,
  "nbformat_minor": 0,
  "metadata": {
    "colab": {
      "name": "analysis_notebook_template",
      "provenance": [],
      "authorship_tag": "ABX9TyMq7BrZD0BfsD2kQ6fK0rPp"
    },
    "kernelspec": {
      "name": "python3",
      "display_name": "Python 3"
    }
  },
  "cells": [
    {
      "cell_type": "markdown",
      "metadata": {
        "id": "VjtC2f3qA7h1"
      },
      "source": [
        "# Kingfisher Analysis Notebook Template"
      ]
    },
    {
      "cell_type": "markdown",
      "metadata": {
        "id": "rIav5UNbM3D3"
      },
      "source": [
        "## Setup"
      ]
    },
    {
      "cell_type": "markdown",
      "metadata": {
        "id": "sMZsxzDMq8vC"
      },
      "source": [
        "[Notebook](https://github.com/duncandewhurst/kingfisher_notebooks/blob/main/setup_notebook.ipynb)"
      ]
    },
    {
      "cell_type": "code",
      "metadata": {
        "id": "nUwmsRWPDGKS"
      },
      "source": [
        "!wget -q https://github.com/duncandewhurst/kingfisher_notebooks/raw/main/setup_notebook.ipynb\n",
        "%run setup_notebook.ipynb"
      ],
      "execution_count": null,
      "outputs": []
    },
    {
      "cell_type": "markdown",
      "metadata": {
        "id": "0h0nJSx6Mzm9"
      },
      "source": [
        "## Choose collection and schema"
      ]
    },
    {
      "cell_type": "markdown",
      "metadata": {
        "id": "et2wBYd9sjxt"
      },
      "source": [
        "Run this cell and use the 'Filter' button to find the `source_id`:"
      ]
    },
    {
      "cell_type": "code",
      "metadata": {
        "id": "ePfMhBSmqYMD"
      },
      "source": [
        "list_source_ids()"
      ],
      "execution_count": null,
      "outputs": []
    },
    {
      "cell_type": "markdown",
      "metadata": {
        "id": "e2KqcQ6Duf-A"
      },
      "source": [
        "Update the `source_id`, run this cell, and use the 'Filter' button to find the `collection_id`(s):"
      ]
    },
    {
      "cell_type": "code",
      "metadata": {
        "id": "ITTvCttGsWj1"
      },
      "source": [
        "source_id = 'uk_contracts_finder'\n",
        "\n",
        "list_collections(source_id)"
      ],
      "execution_count": null,
      "outputs": []
    },
    {
      "cell_type": "markdown",
      "metadata": {
        "id": "vfwcsuV6uu_s"
      },
      "source": [
        "Update the `collection_id`(s) and run this cell:"
      ]
    },
    {
      "cell_type": "code",
      "metadata": {
        "id": "aVg-KWfvzcfa"
      },
      "source": [
        "collection_ids = [1883, 1164]  # list of collection_ids \n",
        "collection_ids = tuple(collection_ids)  # convert list to tuple for use in sql queries"
      ],
      "execution_count": null,
      "outputs": []
    },
    {
      "cell_type": "markdown",
      "metadata": {
        "id": "pP9KsYyT1Xnd"
      },
      "source": [
        "## Check for data collection and processing errors"
      ]
    },
    {
      "cell_type": "markdown",
      "metadata": {
        "id": "VpYFoJAmiJ6d"
      },
      "source": [
        "[Documentation](https://kingfisher-process.readthedocs.io/en/latest/looking-for-collection-errors.html)\n",
        "\n",
        "[Notebook](https://github.com/duncandewhurst/kingfisher_notebooks/blob/main/data_collection_and_processing_errors.ipynb)"
      ]
    },
    {
      "cell_type": "code",
      "metadata": {
        "id": "_ngW1quzcZzY"
      },
      "source": [
        "!wget -q https://github.com/duncandewhurst/kingfisher_notebooks/raw/main/data_collection_and_processing_errors.ipynb\n",
        "%run data_collection_and_processing_errors.ipynb"
      ],
      "execution_count": null,
      "outputs": []
    },
    {
      "cell_type": "code",
      "metadata": {
        "id": "NVxaNvgKciUu"
      },
      "source": [
        "print(error_docs['collection_notes'])\n",
        "collection_notes"
      ],
      "execution_count": null,
      "outputs": []
    },
    {
      "cell_type": "code",
      "metadata": {
        "id": "xv_xunj2cnVT"
      },
      "source": [
        "print(error_docs['collection_file_errors_summary'])\n",
        "collection_file_errors_summary"
      ],
      "execution_count": null,
      "outputs": []
    },
    {
      "cell_type": "code",
      "metadata": {
        "id": "ohili2W_c889"
      },
      "source": [
        "print(error_docs['collection_file_errors'])\n",
        "collection_file_errors"
      ],
      "execution_count": null,
      "outputs": []
    },
    {
      "cell_type": "code",
      "metadata": {
        "id": "pnElZ0yUc-KL"
      },
      "source": [
        "print(error_docs['collection_file_item_errors_summary'])\n",
        "collection_file_item_errors_summary"
      ],
      "execution_count": null,
      "outputs": []
    },
    {
      "cell_type": "code",
      "metadata": {
        "id": "1OpUch8yc_6K"
      },
      "source": [
        "print(error_docs['collection_file_item_errors'])\n",
        "collection_file_item_errors"
      ],
      "execution_count": null,
      "outputs": []
    },
    {
      "cell_type": "code",
      "metadata": {
        "id": "Qx8v0ThMdDCM"
      },
      "source": [
        "print(error_docs['check_errors_summary'])\n",
        "check_errors_summary"
      ],
      "execution_count": null,
      "outputs": []
    },
    {
      "cell_type": "code",
      "metadata": {
        "id": "RGabbxRcdHso"
      },
      "source": [
        "print(error_docs['check_errors'])\n",
        "check_errors"
      ],
      "execution_count": null,
      "outputs": []
    }
  ]
}