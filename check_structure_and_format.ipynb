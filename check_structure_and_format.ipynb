{
  "nbformat": 4,
  "nbformat_minor": 0,
  "metadata": {
    "colab": {
      "name": "Check for structure and format errors",
      "provenance": [],
      "toc_visible": true
    },
    "kernelspec": {
      "display_name": "Python 3",
      "name": "python3"
    }
  },
  "cells": [
    {
      "cell_type": "markdown",
      "metadata": {
        "id": "cE548sDyZyG5"
      },
      "source": [
        "## Check for structure and format errors"
      ]
    },
    {
      "cell_type": "markdown",
      "metadata": {
        "id": "gtzHL_Sul8i3"
      },
      "source": [
        "Kingfisher Process checks data against the OCDS schema using [CoVE](https://github.com/OpenDataServices/cove). For release collections, Kingfisher Process stores check results in the `release_check` table. For record collections, Kingfisher Process stores check results in the `record_check` table."
      ]
    },
    {
      "cell_type": "markdown",
      "metadata": {
        "id": "uTeVs0jnlgHu"
      },
      "source": [
        "### Error summary"
      ]
    },
    {
      "cell_type": "markdown",
      "metadata": {
        "id": "XGxn_SwCllq4"
      },
      "source": [
        "Generate a summary of errors from the `release_check` and `record_check` tables."
      ]
    },
    {
      "cell_type": "code",
      "metadata": {
        "id": "l9zUMsPTnUQ6"
      },
      "source": [
        "%%sql structure_and_format_error_summary <<\n",
        "\n",
        "SELECT\n",
        "\tcollection_id,\n",
        "\t'release' AS collection_type,\n",
        "\terrors ->> 'type' AS error_type,\n",
        "\tLEFT(errors ->> 'description', 49000) AS error,\n",
        "\tCOUNT(*) AS count\n",
        "FROM\n",
        "\trelease_check rc\n",
        "CROSS JOIN jsonb_array_elements(cove_output -> 'validation_errors') AS errors\n",
        "JOIN RELEASE r ON\n",
        "\trc.release_id = r.id\n",
        "WHERE\n",
        "\tcollection_id IN :collection_ids\n",
        "GROUP BY\n",
        "\tcollection_id,\n",
        "\terror_type,\n",
        "\terror\n",
        "UNION ALL\n",
        "SELECT\n",
        "\tcollection_id,\n",
        "\t'record' AS collection_type,\n",
        "\terrors ->> 'type' AS error_type,\n",
        "\tLEFT(errors ->> 'description', 49000) AS error,\n",
        "\tCOUNT(*) AS count\n",
        "FROM\n",
        "\trecord_check rc\n",
        "CROSS JOIN jsonb_array_elements(cove_output -> 'validation_errors') AS errors\n",
        "JOIN record r ON\n",
        "\trc.record_id = r.id\n",
        "WHERE\n",
        "\tcollection_id IN :collection_ids\n",
        "GROUP BY\n",
        "\tcollection_id,\n",
        "\terror_type,\n",
        "\terror\n",
        "ORDER BY\n",
        "\tcollection_id,\n",
        "\tcount DESC"
      ],
      "execution_count": null,
      "outputs": []
    },
    {
      "cell_type": "code",
      "metadata": {
        "id": "A8nYoQe1Anij"
      },
      "source": [
        "structure_and_format_error_summary"
      ],
      "execution_count": null,
      "outputs": []
    },
    {
      "cell_type": "markdown",
      "metadata": {
        "id": "ZfdR-wgKpFmT"
      },
      "source": [
        "### Error details"
      ]
    },
    {
      "cell_type": "markdown",
      "metadata": {
        "id": "tCw4uaq3mwVT"
      },
      "source": [
        "Generate a full list of errors from the `release_check` and `record_check` tables."
      ]
    },
    {
      "cell_type": "code",
      "metadata": {
        "id": "QKRzlq22m0S-"
      },
      "source": [
        "%%sql structure_and_format_errors <<\n",
        "\n",
        "SELECT\n",
        "\tcollection_id,\n",
        "\t'release' AS collection_type,\n",
        "\terrors ->> 'type' AS error_type,\n",
        "\terrors ->> 'field' AS field,\n",
        "\tocid,\n",
        "\tLEFT(errors ->> 'description', 49000) AS error,\n",
        "\tCOUNT(*) AS count\n",
        "FROM\n",
        "\trelease_check rc\n",
        "CROSS JOIN jsonb_array_elements(cove_output -> 'validation_errors') AS errors\n",
        "JOIN RELEASE r ON\n",
        "\trc.release_id = r.id\n",
        "WHERE\n",
        "\tcollection_id IN :collection_ids\n",
        "GROUP BY\n",
        "\tcollection_id,\n",
        "\terror_type,\n",
        "\tfield,\n",
        "\terror,\n",
        "\tocid\n",
        "UNION ALL\n",
        "SELECT\n",
        "\tcollection_id,\n",
        "\t'record' AS collection_type,\n",
        "\terrors ->> 'type' AS error_type,\n",
        "\terrors ->> 'field' AS field,\n",
        "\tocid,\n",
        "\tLEFT(errors ->> 'description', 49000) AS error,\n",
        "\tCOUNT(*) AS count\n",
        "FROM\n",
        "\trecord_check rc\n",
        "CROSS JOIN jsonb_array_elements(cove_output -> 'validation_errors') AS errors\n",
        "JOIN record r ON\n",
        "\trc.record_id = r.id\n",
        "WHERE\n",
        "\tcollection_id IN :collection_ids\n",
        "GROUP BY\n",
        "\tcollection_id,\n",
        "\terror_type,\n",
        "\tfield,\n",
        "\terror,\n",
        "\tocid\n",
        "ORDER BY\n",
        "\tcount DESC"
      ],
      "execution_count": null,
      "outputs": []
    },
    {
      "cell_type": "code",
      "metadata": {
        "id": "q3cKo_dnvdvQ"
      },
      "source": [
        "structure_and_format_errors"
      ],
      "execution_count": null,
      "outputs": []
    }
  ]
}