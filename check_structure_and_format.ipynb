{
  "nbformat": 4,
  "nbformat_minor": 0,
  "metadata": {
    "colab": {
      "name": "Check for structure and format errors",
      "provenance": [],
      "toc_visible": true
    },
    "kernelspec": {
      "display_name": "Python 3",
      "name": "python3"
    }
  },
  "cells": [
    {
      "cell_type": "markdown",
      "metadata": {
        "id": "cE548sDyZyG5"
      },
      "source": [
        "## Check for structure and format errors"
      ]
    },
    {
      "cell_type": "markdown",
      "metadata": {
        "id": "gtzHL_Sul8i3"
      },
      "source": [
        "Kingfisher Process checks data against the OCDS schema using [CoVE](https://github.com/OpenDataServices/cove). For release collections, Kingfisher Process stores check results in the `release_check` table. For record collections, Kingfisher Process stores check results in the `record_check` table."
      ]
    },
    {
      "cell_type": "markdown",
      "metadata": {
        "id": "uTeVs0jnlgHu"
      },
      "source": [
        "### Error summary"
      ]
    },
    {
      "cell_type": "markdown",
      "metadata": {
        "id": "XGxn_SwCllq4"
      },
      "source": [
        "Generate a summary of errors from the `release_check` and `record_check` tables."
      ]
    },
    {
      "cell_type": "code",
      "metadata": {
        "id": "ncEmto9mc_wI"
      },
      "source": [
        "%%sql structure_and_format_error_summary <<\n",
        "\n",
        "WITH errors AS (\n",
        "    SELECT\n",
        "        collection_id,\n",
        "        errors ->> 'type' AS error_type,\n",
        "    LEFT (errors ->> 'description',\n",
        "        49000) AS error,\n",
        "    ocid,\n",
        "    errors ->> 'value' AS value,\n",
        "    row_number() OVER (PARTITION BY collection_id,\n",
        "        errors ->> 'type',\n",
        "    LEFT (errors ->> 'description',\n",
        "    49000)) AS rownum\n",
        "FROM\n",
        "    release_check rc\n",
        "    CROSS JOIN jsonb_array_elements(cove_output -> 'validation_errors') AS errors\n",
        "    JOIN RELEASE r ON rc.release_id = r.id\n",
        "WHERE\n",
        "    collection_id IN :collection_ids\n",
        "UNION ALL\n",
        "SELECT\n",
        "    collection_id,\n",
        "    errors ->> 'type' AS error_type,\n",
        "    LEFT (errors ->> 'description',\n",
        "        49000) AS error,\n",
        "    ocid,\n",
        "    errors ->> 'value' AS value,\n",
        "    row_number() OVER (PARTITION BY collection_id,\n",
        "        errors ->> 'type',\n",
        "    LEFT (errors ->> 'description',\n",
        "    49000)) AS rownum\n",
        "FROM\n",
        "    record_check rc\n",
        "    CROSS JOIN jsonb_array_elements(cove_output -> 'validation_errors') AS errors\n",
        "    JOIN record r ON rc.record_id = r.id\n",
        "WHERE\n",
        "    collection_id IN :collection_ids\n",
        "),\n",
        "examples AS (\n",
        "    SELECT\n",
        "        collection_id,\n",
        "        error_type,\n",
        "        error,\n",
        "        array_agg(ocid) AS example_ocids,\n",
        "        array_agg(value) AS example_values\n",
        "    FROM\n",
        "        errors\n",
        "    WHERE\n",
        "        rownum <= 3\n",
        "    GROUP BY\n",
        "        collection_id,\n",
        "        error_type,\n",
        "        error\n",
        ")\n",
        "SELECT\n",
        "    collection_id,\n",
        "    error_type,\n",
        "    error,\n",
        "    count(*) AS count,\n",
        "    example_ocids,\n",
        "    example_values\n",
        "FROM\n",
        "    errors\n",
        "    JOIN examples USING (collection_id, error_type, error)\n",
        "GROUP BY\n",
        "    collection_id,\n",
        "    error_type,\n",
        "    error,\n",
        "    example_ocids,\n",
        "    example_values;\n",
        "\n"
      ],
      "execution_count": null,
      "outputs": []
    },
    {
      "cell_type": "code",
      "metadata": {
        "id": "zeOz07-jedqT"
      },
      "source": [
        "structure_and_format_error_summary"
      ],
      "execution_count": null,
      "outputs": []
    },
    {
      "cell_type": "markdown",
      "metadata": {
        "id": "ZfdR-wgKpFmT"
      },
      "source": [
        "### Error details"
      ]
    },
    {
      "cell_type": "markdown",
      "metadata": {
        "id": "tCw4uaq3mwVT"
      },
      "source": [
        "Generate a full list of errors from the `release_check` and `record_check` tables."
      ]
    },
    {
      "cell_type": "code",
      "metadata": {
        "id": "QKRzlq22m0S-"
      },
      "source": [
        "%%sql structure_and_format_errors <<\n",
        "\n",
        "SELECT\n",
        "    collection_id,\n",
        "    'release' AS collection_type,\n",
        "    errors ->> 'type' AS error_type,\n",
        "    errors ->> 'field' AS field,\n",
        "    LEFT (errors ->> 'description',\n",
        "        49000) AS error,\n",
        "    ocid,\n",
        "    errors ->> 'value' AS value\n",
        "FROM\n",
        "    release_check rc\n",
        "    CROSS JOIN jsonb_array_elements(cove_output -> 'validation_errors') AS errors\n",
        "    JOIN RELEASE r ON rc.release_id = r.id\n",
        "WHERE\n",
        "    collection_id IN :collection_ids\n",
        "UNION ALL\n",
        "SELECT\n",
        "    collection_id,\n",
        "    'record' AS collection_type,\n",
        "    errors ->> 'type' AS error_type,\n",
        "    errors ->> 'field' AS field,\n",
        "    LEFT (errors ->> 'description',\n",
        "        49000) AS error,\n",
        "    ocid,\n",
        "    errors ->> 'value' AS value\n",
        "FROM\n",
        "    record_check rc\n",
        "    CROSS JOIN jsonb_array_elements(cove_output -> 'validation_errors') AS errors\n",
        "    JOIN record r ON rc.record_id = r.id\n",
        "WHERE\n",
        "    collection_id IN :collection_ids\n"
      ],
      "execution_count": null,
      "outputs": []
    },
    {
      "cell_type": "code",
      "metadata": {
        "id": "q3cKo_dnvdvQ"
      },
      "source": [
        "structure_and_format_errors"
      ],
      "execution_count": null,
      "outputs": []
    }
  ]
}
